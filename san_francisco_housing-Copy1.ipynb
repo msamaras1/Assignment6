{
 "cells": [
  {
   "cell_type": "markdown",
   "metadata": {},
   "source": [
    "# Housing Rental Analysis for San Francisco\n",
    "\n",
    "In this challenge, your job is to use your data visualization skills, including aggregation, interactive visualizations, and geospatial analysis, to find properties in the San Francisco market that are viable investment opportunities.\n",
    "\n",
    "## Instructions\n",
    "\n",
    "Use the `san_francisco_housing.ipynb` notebook to visualize and analyze the real-estate data.\n",
    "\n",
    "Note that this assignment requires you to create a visualization by using hvPlot and GeoViews. Additionally, you need to read the `sfo_neighborhoods_census_data.csv` file from the `Resources` folder into the notebook and create the DataFrame that you’ll use in the analysis.\n",
    "\n",
    "The main task in this Challenge is to visualize and analyze the real-estate data in your Jupyter notebook. Use the `san_francisco_housing.ipynb` notebook to complete the following tasks:\n",
    "\n",
    "* Calculate and plot the housing units per year.\n",
    "\n",
    "* Calculate and plot the average prices per square foot.\n",
    "\n",
    "* Compare the average prices by neighborhood.\n",
    "\n",
    "* Build an interactive neighborhood map.\n",
    "\n",
    "* Compose your data story.\n",
    "\n",
    "### Calculate and Plot the Housing Units per Year\n",
    "\n",
    "For this part of the assignment, use numerical and visual aggregation to calculate the number of housing units per year, and then visualize the results as a bar chart. To do so, complete the following steps:\n",
    "\n",
    "1. Use the `groupby` function to group the data by year. Aggregate the results by the `mean` of the groups.\n",
    "\n",
    "2. Use the `hvplot` function to plot the `housing_units_by_year` DataFrame as a bar chart. Make the x-axis represent the `year` and the y-axis represent the `housing_units`.\n",
    "\n",
    "3. Style and format the line plot to ensure a professionally styled visualization.\n",
    "\n",
    "4. Note that your resulting plot should appear similar to the following image:\n",
    "\n",
    "![A screenshot depicts an example of the resulting bar chart.](Images/zoomed-housing-units-by-year.png)\n",
    "\n",
    "5. Answer the following question:\n",
    "\n",
    "    * What’s the overall trend in housing units over the period that you’re analyzing?\n",
    "\n",
    "### Calculate and Plot the Average Sale Prices per Square Foot\n",
    "\n",
    "For this part of the assignment, use numerical and visual aggregation to calculate the average prices per square foot, and then visualize the results as a bar chart. To do so, complete the following steps:\n",
    "\n",
    "1. Group the data by year, and then average the results. What’s the lowest gross rent that’s reported for the years that the DataFrame includes?\n",
    "\n",
    "2. Create a new DataFrame named `prices_square_foot_by_year` by filtering out the “housing_units” column. The new DataFrame should include the averages per year for only the sale price per square foot and the gross rent.\n",
    "\n",
    "3. Use hvPlot to plot the `prices_square_foot_by_year` DataFrame as a line plot.\n",
    "\n",
    "    > **Hint** This single plot will include lines for both `sale_price_sqr_foot` and `gross_rent`.\n",
    "\n",
    "4. Style and format the line plot to ensure a professionally styled visualization.\n",
    "\n",
    "5. Note that your resulting plot should appear similar to the following image:\n",
    "\n",
    "![A screenshot depicts an example of the resulting plot.](Images/avg-sale-px-sq-foot-gross-rent.png)\n",
    "\n",
    "6. Use both the `prices_square_foot_by_year` DataFrame and interactive plots to answer the following questions:\n",
    "\n",
    "    * Did any year experience a drop in the average sale price per square foot compared to the previous year?\n",
    "\n",
    "    * If so, did the gross rent increase or decrease during that year?\n",
    "\n",
    "### Compare the Average Sale Prices by Neighborhood\n",
    "\n",
    "For this part of the assignment, use interactive visualizations and widgets to explore the average sale price per square foot by neighborhood. To do so, complete the following steps:\n",
    "\n",
    "1. Create a new DataFrame that groups the original DataFrame by year and neighborhood. Aggregate the results by the `mean` of the groups.\n",
    "\n",
    "2. Filter out the “housing_units” column to create a DataFrame that includes only the `sale_price_sqr_foot` and `gross_rent` averages per year.\n",
    "\n",
    "3. Create an interactive line plot with hvPlot that visualizes both `sale_price_sqr_foot` and `gross_rent`. Set the x-axis parameter to the year (`x=\"year\"`). Use the `groupby` parameter to create an interactive widget for `neighborhood`.\n",
    "\n",
    "4. Style and format the line plot to ensure a professionally styled visualization.\n",
    "\n",
    "5. Note that your resulting plot should appear similar to the following image:\n",
    "\n",
    "![A screenshot depicts an example of the resulting plot.](Images/pricing-info-by-neighborhood.png)\n",
    "\n",
    "6. Use the interactive visualization to answer the following question:\n",
    "\n",
    "    * For the Anza Vista neighborhood, is the average sale price per square foot for 2016 more or less than the price that’s listed for 2012? \n",
    "\n",
    "### Build an Interactive Neighborhood Map\n",
    "\n",
    "For this part of the assignment, explore the geospatial relationships in the data by using interactive visualizations with hvPlot and GeoViews. To build your map, use the `sfo_data_df` DataFrame (created during the initial import), which includes the neighborhood location data with the average prices. To do all this, complete the following steps:\n",
    "\n",
    "1. Read the `neighborhood_coordinates.csv` file from the `Resources` folder into the notebook, and create a DataFrame named `neighborhood_locations_df`. Be sure to set the `index_col` of the DataFrame as “Neighborhood”.\n",
    "\n",
    "2. Using the original `sfo_data_df` Dataframe, create a DataFrame named `all_neighborhood_info_df` that groups the data by neighborhood. Aggregate the results by the `mean` of the group.\n",
    "\n",
    "3. Review the two code cells that concatenate the `neighborhood_locations_df` DataFrame with the `all_neighborhood_info_df` DataFrame. Note that the first cell uses the [Pandas concat function](https://pandas.pydata.org/pandas-docs/stable/reference/api/pandas.concat.html) to create a DataFrame named `all_neighborhoods_df`. The second cell cleans the data and sets the “Neighborhood” column. Be sure to run these cells to create the `all_neighborhoods_df` DataFrame, which you’ll need to create the geospatial visualization.\n",
    "\n",
    "4. Using hvPlot with GeoViews enabled, create a `points` plot for the `all_neighborhoods_df` DataFrame. Be sure to do the following:\n",
    "\n",
    "    * Set the `geo` parameter to True.\n",
    "    * Set the `size` parameter to “sale_price_sqr_foot”.\n",
    "    * Set the `color` parameter to “gross_rent”.\n",
    "    * Set the `frame_width` parameter to 700.\n",
    "    * Set the `frame_height` parameter to 500.\n",
    "    * Include a descriptive title.\n",
    "\n",
    "Note that your resulting plot should appear similar to the following image:\n",
    "\n",
    "![A screenshot depicts an example of a scatter plot created with hvPlot and GeoViews.](Images/6-4-geoviews-plot.png)\n",
    "\n",
    "5. Use the interactive map to answer the following question:\n",
    "\n",
    "    * Which neighborhood has the highest gross rent, and which has the highest sale price per square foot?\n",
    "\n",
    "### Compose Your Data Story\n",
    "\n",
    "Based on the visualizations that you created, answer the following questions:\n",
    "\n",
    "* How does the trend in rental income growth compare to the trend in sales prices? Does this same trend hold true for all the neighborhoods across San Francisco?\n",
    "\n",
    "* What insights can you share with your company about the potential one-click, buy-and-rent strategy that they're pursuing? Do neighborhoods exist that you would suggest for investment, and why?"
   ]
  },
  {
   "cell_type": "code",
   "execution_count": 231,
   "metadata": {},
   "outputs": [],
   "source": [
    "# Import the required libraries and dependencies\n",
    "import pandas as pd\n",
    "import hvplot.pandas\n",
    "from pathlib import Path\n",
    "import csv"
   ]
  },
  {
   "cell_type": "markdown",
   "metadata": {},
   "source": [
    "## Import the data "
   ]
  },
  {
   "cell_type": "code",
   "execution_count": 232,
   "metadata": {},
   "outputs": [
    {
     "name": "stdout",
     "output_type": "stream",
     "text": [
      "sfo_neighborhoods_census_data.csv\n"
     ]
    },
    {
     "data": {
      "text/html": [
       "<div>\n",
       "<style scoped>\n",
       "    .dataframe tbody tr th:only-of-type {\n",
       "        vertical-align: middle;\n",
       "    }\n",
       "\n",
       "    .dataframe tbody tr th {\n",
       "        vertical-align: top;\n",
       "    }\n",
       "\n",
       "    .dataframe thead th {\n",
       "        text-align: right;\n",
       "    }\n",
       "</style>\n",
       "<table border=\"1\" class=\"dataframe\">\n",
       "  <thead>\n",
       "    <tr style=\"text-align: right;\">\n",
       "      <th></th>\n",
       "      <th>neighborhood</th>\n",
       "      <th>sale_price_sqr_foot</th>\n",
       "      <th>housing_units</th>\n",
       "      <th>gross_rent</th>\n",
       "    </tr>\n",
       "    <tr>\n",
       "      <th>year</th>\n",
       "      <th></th>\n",
       "      <th></th>\n",
       "      <th></th>\n",
       "      <th></th>\n",
       "    </tr>\n",
       "  </thead>\n",
       "  <tbody>\n",
       "    <tr>\n",
       "      <th>2010</th>\n",
       "      <td>Alamo Square</td>\n",
       "      <td>291.182946</td>\n",
       "      <td>372560</td>\n",
       "      <td>1239</td>\n",
       "    </tr>\n",
       "    <tr>\n",
       "      <th>2010</th>\n",
       "      <td>Anza Vista</td>\n",
       "      <td>267.932583</td>\n",
       "      <td>372560</td>\n",
       "      <td>1239</td>\n",
       "    </tr>\n",
       "    <tr>\n",
       "      <th>2010</th>\n",
       "      <td>Bayview</td>\n",
       "      <td>170.098665</td>\n",
       "      <td>372560</td>\n",
       "      <td>1239</td>\n",
       "    </tr>\n",
       "    <tr>\n",
       "      <th>2010</th>\n",
       "      <td>Buena Vista Park</td>\n",
       "      <td>347.394919</td>\n",
       "      <td>372560</td>\n",
       "      <td>1239</td>\n",
       "    </tr>\n",
       "    <tr>\n",
       "      <th>2010</th>\n",
       "      <td>Central Richmond</td>\n",
       "      <td>319.027623</td>\n",
       "      <td>372560</td>\n",
       "      <td>1239</td>\n",
       "    </tr>\n",
       "    <tr>\n",
       "      <th>...</th>\n",
       "      <td>...</td>\n",
       "      <td>...</td>\n",
       "      <td>...</td>\n",
       "      <td>...</td>\n",
       "    </tr>\n",
       "    <tr>\n",
       "      <th>2016</th>\n",
       "      <td>Telegraph Hill</td>\n",
       "      <td>903.049771</td>\n",
       "      <td>384242</td>\n",
       "      <td>4390</td>\n",
       "    </tr>\n",
       "    <tr>\n",
       "      <th>2016</th>\n",
       "      <td>Twin Peaks</td>\n",
       "      <td>970.085470</td>\n",
       "      <td>384242</td>\n",
       "      <td>4390</td>\n",
       "    </tr>\n",
       "    <tr>\n",
       "      <th>2016</th>\n",
       "      <td>Van Ness/ Civic Center</td>\n",
       "      <td>552.602567</td>\n",
       "      <td>384242</td>\n",
       "      <td>4390</td>\n",
       "    </tr>\n",
       "    <tr>\n",
       "      <th>2016</th>\n",
       "      <td>Visitacion Valley</td>\n",
       "      <td>328.319007</td>\n",
       "      <td>384242</td>\n",
       "      <td>4390</td>\n",
       "    </tr>\n",
       "    <tr>\n",
       "      <th>2016</th>\n",
       "      <td>Westwood Park</td>\n",
       "      <td>631.195426</td>\n",
       "      <td>384242</td>\n",
       "      <td>4390</td>\n",
       "    </tr>\n",
       "  </tbody>\n",
       "</table>\n",
       "<p>397 rows × 4 columns</p>\n",
       "</div>"
      ],
      "text/plain": [
       "                neighborhood  sale_price_sqr_foot  housing_units  gross_rent\n",
       "year                                                                        \n",
       "2010            Alamo Square           291.182946         372560        1239\n",
       "2010              Anza Vista           267.932583         372560        1239\n",
       "2010                 Bayview           170.098665         372560        1239\n",
       "2010        Buena Vista Park           347.394919         372560        1239\n",
       "2010        Central Richmond           319.027623         372560        1239\n",
       "...                      ...                  ...            ...         ...\n",
       "2016          Telegraph Hill           903.049771         384242        4390\n",
       "2016              Twin Peaks           970.085470         384242        4390\n",
       "2016  Van Ness/ Civic Center           552.602567         384242        4390\n",
       "2016       Visitacion Valley           328.319007         384242        4390\n",
       "2016           Westwood Park           631.195426         384242        4390\n",
       "\n",
       "[397 rows x 4 columns]"
      ]
     },
     "execution_count": 232,
     "metadata": {},
     "output_type": "execute_result"
    }
   ],
   "source": [
    "# Using the read_csv function and Path module, create a DataFrame \n",
    "# by importing the sfo_neighborhoods_census_data.csv file from the Resources folder\n",
    "csv_path = Path('sfo_neighborhoods_census_data.csv')\n",
    "print(csv_path)\n",
    "sfo_data_df = pd.read_csv(csv_path)\n",
    "\n",
    "sfo_data_df=sfo_data_df.set_index('year')\n",
    "\n",
    "# Review the first and last five rows of the DataFrame\n",
    "sfo_data_df.head()\n",
    "sfo_data_df.tail()\n",
    "sfo_data_df.head(10000)"
   ]
  },
  {
   "cell_type": "markdown",
   "metadata": {},
   "source": [
    "---"
   ]
  },
  {
   "cell_type": "markdown",
   "metadata": {},
   "source": [
    "## Calculate and Plot the Housing Units per Year\n",
    "\n",
    "For this part of the assignment, use numerical and visual aggregation to calculate the number of housing units per year, and then visualize the results as a bar chart. To do so, complete the following steps:\n",
    "\n",
    "1. Use the `groupby` function to group the data by year. Aggregate the results by the `mean` of the groups.\n",
    "\n",
    "2. Use the `hvplot` function to plot the `housing_units_by_year` DataFrame as a bar chart. Make the x-axis represent the `year` and the y-axis represent the `housing_units`.\n",
    "\n",
    "3. Style and format the line plot to ensure a professionally styled visualization.\n",
    "\n",
    "4. Note that your resulting plot should appear similar to the following image:\n",
    "\n",
    "![A screenshot depicts an example of the resulting bar chart.](Images/zoomed-housing-units-by-year.png)\n",
    "\n",
    "5. Answer the following question:\n",
    "\n",
    "    * What’s the overall trend in housing units over the period that you’re analyzing?\n",
    "\n"
   ]
  },
  {
   "cell_type": "markdown",
   "metadata": {},
   "source": [
    "### Step 1: Use the `groupby` function to group the data by year. Aggregate the results by the `mean` of the groups."
   ]
  },
  {
   "cell_type": "code",
   "execution_count": 233,
   "metadata": {},
   "outputs": [
    {
     "data": {
      "text/html": [
       "<div>\n",
       "<style scoped>\n",
       "    .dataframe tbody tr th:only-of-type {\n",
       "        vertical-align: middle;\n",
       "    }\n",
       "\n",
       "    .dataframe tbody tr th {\n",
       "        vertical-align: top;\n",
       "    }\n",
       "\n",
       "    .dataframe thead th {\n",
       "        text-align: right;\n",
       "    }\n",
       "</style>\n",
       "<table border=\"1\" class=\"dataframe\">\n",
       "  <thead>\n",
       "    <tr style=\"text-align: right;\">\n",
       "      <th></th>\n",
       "      <th>sale_price_sqr_foot</th>\n",
       "      <th>housing_units</th>\n",
       "      <th>gross_rent</th>\n",
       "    </tr>\n",
       "    <tr>\n",
       "      <th>year</th>\n",
       "      <th></th>\n",
       "      <th></th>\n",
       "      <th></th>\n",
       "    </tr>\n",
       "  </thead>\n",
       "  <tbody>\n",
       "    <tr>\n",
       "      <th>2012</th>\n",
       "      <td>399.389968</td>\n",
       "      <td>376454.0</td>\n",
       "      <td>2324.0</td>\n",
       "    </tr>\n",
       "    <tr>\n",
       "      <th>2013</th>\n",
       "      <td>483.600304</td>\n",
       "      <td>378401.0</td>\n",
       "      <td>2971.0</td>\n",
       "    </tr>\n",
       "    <tr>\n",
       "      <th>2014</th>\n",
       "      <td>556.277273</td>\n",
       "      <td>380348.0</td>\n",
       "      <td>3528.0</td>\n",
       "    </tr>\n",
       "    <tr>\n",
       "      <th>2015</th>\n",
       "      <td>632.540352</td>\n",
       "      <td>382295.0</td>\n",
       "      <td>3739.0</td>\n",
       "    </tr>\n",
       "    <tr>\n",
       "      <th>2016</th>\n",
       "      <td>697.643709</td>\n",
       "      <td>384242.0</td>\n",
       "      <td>4390.0</td>\n",
       "    </tr>\n",
       "  </tbody>\n",
       "</table>\n",
       "</div>"
      ],
      "text/plain": [
       "      sale_price_sqr_foot  housing_units  gross_rent\n",
       "year                                                \n",
       "2012           399.389968       376454.0      2324.0\n",
       "2013           483.600304       378401.0      2971.0\n",
       "2014           556.277273       380348.0      3528.0\n",
       "2015           632.540352       382295.0      3739.0\n",
       "2016           697.643709       384242.0      4390.0"
      ]
     },
     "execution_count": 233,
     "metadata": {},
     "output_type": "execute_result"
    }
   ],
   "source": [
    "# Create a numerical aggregation that groups the data by the year and then averages the results.\n",
    "housing_units_by_year = sfo_data_df.groupby('year').mean()# YOUR CODE HERE\n",
    "\n",
    "# Review the DataFrame\n",
    "housing_units_by_year.tail()\n"
   ]
  },
  {
   "cell_type": "markdown",
   "metadata": {},
   "source": [
    "### Step 2: Use the `hvplot` function to plot the `housing_units_by_year` DataFrame as a bar chart. Make the x-axis represent the `year` and the y-axis represent the `housing_units`.\n",
    "\n",
    "### Step 3: Style and format the line plot to ensure a professionally styled visualization."
   ]
  },
  {
   "cell_type": "code",
   "execution_count": 234,
   "metadata": {},
   "outputs": [
    {
     "data": {},
     "metadata": {},
     "output_type": "display_data"
    },
    {
     "data": {
      "application/vnd.holoviews_exec.v0+json": "",
      "text/html": [
       "<div id='19665'>\n",
       "\n",
       "\n",
       "\n",
       "\n",
       "\n",
       "  <div class=\"bk-root\" id=\"b33cd41b-5cf1-4d91-9687-b80f632e4864\" data-root-id=\"19665\"></div>\n",
       "</div>\n",
       "<script type=\"application/javascript\">(function(root) {\n",
       "  function embed_document(root) {\n",
       "    var docs_json = {\"f4e49c4f-1edd-4983-ba81-b9b73dccc021\":{\"defs\":[{\"extends\":null,\"module\":null,\"name\":\"ReactiveHTML1\",\"overrides\":[],\"properties\":[]},{\"extends\":null,\"module\":null,\"name\":\"FlexBox1\",\"overrides\":[],\"properties\":[{\"default\":\"flex-start\",\"kind\":null,\"name\":\"align_content\"},{\"default\":\"flex-start\",\"kind\":null,\"name\":\"align_items\"},{\"default\":\"row\",\"kind\":null,\"name\":\"flex_direction\"},{\"default\":\"wrap\",\"kind\":null,\"name\":\"flex_wrap\"},{\"default\":\"flex-start\",\"kind\":null,\"name\":\"justify_content\"}]},{\"extends\":null,\"module\":null,\"name\":\"GridStack1\",\"overrides\":[],\"properties\":[{\"default\":\"warn\",\"kind\":null,\"name\":\"mode\"},{\"default\":null,\"kind\":null,\"name\":\"ncols\"},{\"default\":null,\"kind\":null,\"name\":\"nrows\"},{\"default\":true,\"kind\":null,\"name\":\"allow_resize\"},{\"default\":true,\"kind\":null,\"name\":\"allow_drag\"},{\"default\":[],\"kind\":null,\"name\":\"state\"}]},{\"extends\":null,\"module\":null,\"name\":\"click1\",\"overrides\":[],\"properties\":[{\"default\":\"\",\"kind\":null,\"name\":\"terminal_output\"},{\"default\":\"\",\"kind\":null,\"name\":\"debug_name\"},{\"default\":0,\"kind\":null,\"name\":\"clears\"}]},{\"extends\":null,\"module\":null,\"name\":\"TemplateActions1\",\"overrides\":[],\"properties\":[{\"default\":0,\"kind\":null,\"name\":\"open_modal\"},{\"default\":0,\"kind\":null,\"name\":\"close_modal\"}]},{\"extends\":null,\"module\":null,\"name\":\"MaterialTemplateActions1\",\"overrides\":[],\"properties\":[{\"default\":0,\"kind\":null,\"name\":\"open_modal\"},{\"default\":0,\"kind\":null,\"name\":\"close_modal\"}]}],\"roots\":{\"references\":[{\"attributes\":{\"axis_label\":\"year\",\"coordinates\":null,\"formatter\":{\"id\":\"19710\"},\"group\":null,\"major_label_policy\":{\"id\":\"19711\"},\"ticker\":{\"id\":\"19680\"}},\"id\":\"19679\",\"type\":\"CategoricalAxis\"},{\"attributes\":{\"bottom\":{\"value\":0},\"fill_alpha\":{\"value\":1.0},\"fill_color\":{\"value\":\"blue\"},\"hatch_alpha\":{\"value\":1.0},\"hatch_color\":{\"value\":\"blue\"},\"hatch_scale\":{\"value\":12.0},\"hatch_weight\":{\"value\":1.0},\"line_alpha\":{\"value\":1.0},\"line_cap\":{\"value\":\"butt\"},\"line_color\":{\"value\":\"black\"},\"line_dash\":{\"value\":[]},\"line_dash_offset\":{\"value\":0},\"line_join\":{\"value\":\"bevel\"},\"line_width\":{\"value\":1},\"top\":{\"field\":\"housing_units\"},\"width\":{\"value\":0.8},\"x\":{\"field\":\"year\"}},\"id\":\"19707\",\"type\":\"VBar\"},{\"attributes\":{\"fill_alpha\":{\"value\":0.1},\"fill_color\":{\"value\":\"blue\"},\"hatch_alpha\":{\"value\":0.1},\"hatch_color\":{\"value\":\"blue\"},\"line_alpha\":{\"value\":0.1},\"top\":{\"field\":\"housing_units\"},\"width\":{\"value\":0.8},\"x\":{\"field\":\"year\"}},\"id\":\"19703\",\"type\":\"VBar\"},{\"attributes\":{\"fill_color\":{\"value\":\"blue\"},\"hatch_color\":{\"value\":\"blue\"},\"top\":{\"field\":\"housing_units\"},\"width\":{\"value\":0.8},\"x\":{\"field\":\"year\"}},\"id\":\"19702\",\"type\":\"VBar\"},{\"attributes\":{},\"id\":\"19686\",\"type\":\"SaveTool\"},{\"attributes\":{},\"id\":\"19688\",\"type\":\"WheelZoomTool\"},{\"attributes\":{},\"id\":\"19683\",\"type\":\"BasicTicker\"},{\"attributes\":{},\"id\":\"19675\",\"type\":\"CategoricalScale\"},{\"attributes\":{\"bottom_units\":\"screen\",\"coordinates\":null,\"fill_alpha\":0.5,\"fill_color\":\"lightgrey\",\"group\":null,\"left_units\":\"screen\",\"level\":\"overlay\",\"line_alpha\":1.0,\"line_color\":\"black\",\"line_dash\":[4,4],\"line_width\":2,\"right_units\":\"screen\",\"syncable\":false,\"top_units\":\"screen\"},\"id\":\"19691\",\"type\":\"BoxAnnotation\"},{\"attributes\":{\"margin\":[5,5,5,5],\"name\":\"HSpacer57991\",\"sizing_mode\":\"stretch_width\"},\"id\":\"19735\",\"type\":\"Spacer\"},{\"attributes\":{\"coordinates\":null,\"group\":null,\"text_color\":\"black\",\"text_font_size\":\"12pt\"},\"id\":\"19671\",\"type\":\"Title\"},{\"attributes\":{\"fill_alpha\":{\"value\":0.2},\"fill_color\":{\"value\":\"blue\"},\"hatch_alpha\":{\"value\":0.2},\"hatch_color\":{\"value\":\"blue\"},\"line_alpha\":{\"value\":0.2},\"top\":{\"field\":\"housing_units\"},\"width\":{\"value\":0.8},\"x\":{\"field\":\"year\"}},\"id\":\"19704\",\"type\":\"VBar\"},{\"attributes\":{},\"id\":\"19723\",\"type\":\"UnionRenderers\"},{\"attributes\":{},\"id\":\"19680\",\"type\":\"CategoricalTicker\"},{\"attributes\":{\"end\":385000,\"reset_end\":385000,\"reset_start\":370000,\"start\":370000,\"tags\":[[[\"housing_units\",\"housing_units\",null]]]},\"id\":\"19668\",\"type\":\"Range1d\"},{\"attributes\":{\"tools\":[{\"id\":\"19669\"},{\"id\":\"19686\"},{\"id\":\"19687\"},{\"id\":\"19688\"},{\"id\":\"19689\"},{\"id\":\"19690\"}]},\"id\":\"19692\",\"type\":\"Toolbar\"},{\"attributes\":{},\"id\":\"19710\",\"type\":\"CategoricalTickFormatter\"},{\"attributes\":{\"source\":{\"id\":\"19699\"}},\"id\":\"19706\",\"type\":\"CDSView\"},{\"attributes\":{\"factors\":[\"2010\",\"2011\",\"2012\",\"2013\",\"2014\",\"2015\",\"2016\"],\"tags\":[[[\"year\",\"year\",null]]]},\"id\":\"19667\",\"type\":\"FactorRange\"},{\"attributes\":{\"format\":\"%.0f\"},\"id\":\"19708\",\"type\":\"PrintfTickFormatter\"},{\"attributes\":{\"axis\":{\"id\":\"19679\"},\"coordinates\":null,\"grid_line_color\":null,\"group\":null,\"ticker\":null},\"id\":\"19681\",\"type\":\"Grid\"},{\"attributes\":{},\"id\":\"19711\",\"type\":\"AllLabels\"},{\"attributes\":{\"overlay\":{\"id\":\"19691\"}},\"id\":\"19689\",\"type\":\"BoxZoomTool\"},{\"attributes\":{},\"id\":\"19677\",\"type\":\"LinearScale\"},{\"attributes\":{\"coordinates\":null,\"data_source\":{\"id\":\"19699\"},\"glyph\":{\"id\":\"19702\"},\"group\":null,\"hover_glyph\":null,\"muted_glyph\":{\"id\":\"19704\"},\"nonselection_glyph\":{\"id\":\"19703\"},\"selection_glyph\":{\"id\":\"19707\"},\"view\":{\"id\":\"19706\"}},\"id\":\"19705\",\"type\":\"GlyphRenderer\"},{\"attributes\":{},\"id\":\"19687\",\"type\":\"PanTool\"},{\"attributes\":{},\"id\":\"19700\",\"type\":\"Selection\"},{\"attributes\":{\"children\":[{\"id\":\"19666\"},{\"id\":\"19670\"},{\"id\":\"19735\"}],\"margin\":[0,0,0,0],\"name\":\"Row57986\",\"tags\":[\"embedded\"]},\"id\":\"19665\",\"type\":\"Row\"},{\"attributes\":{},\"id\":\"19690\",\"type\":\"ResetTool\"},{\"attributes\":{\"margin\":[5,5,5,5],\"name\":\"HSpacer57990\",\"sizing_mode\":\"stretch_width\"},\"id\":\"19666\",\"type\":\"Spacer\"},{\"attributes\":{},\"id\":\"19714\",\"type\":\"AllLabels\"},{\"attributes\":{\"below\":[{\"id\":\"19679\"}],\"center\":[{\"id\":\"19681\"},{\"id\":\"19685\"}],\"height\":300,\"left\":[{\"id\":\"19682\"}],\"margin\":[5,5,5,5],\"min_border_bottom\":10,\"min_border_left\":10,\"min_border_right\":10,\"min_border_top\":10,\"renderers\":[{\"id\":\"19705\"}],\"sizing_mode\":\"fixed\",\"title\":{\"id\":\"19671\"},\"toolbar\":{\"id\":\"19692\"},\"width\":500,\"x_range\":{\"id\":\"19667\"},\"x_scale\":{\"id\":\"19675\"},\"y_range\":{\"id\":\"19668\"},\"y_scale\":{\"id\":\"19677\"}},\"id\":\"19670\",\"subtype\":\"Figure\",\"type\":\"Plot\"},{\"attributes\":{\"axis_label\":\"housing_units\",\"coordinates\":null,\"formatter\":{\"id\":\"19708\"},\"group\":null,\"major_label_policy\":{\"id\":\"19714\"},\"ticker\":{\"id\":\"19683\"}},\"id\":\"19682\",\"type\":\"LinearAxis\"},{\"attributes\":{\"data\":{\"housing_units\":{\"__ndarray__\":\"AAAAAEC9FkEAAAAArNsWQQAAAAAY+hZBAAAAAIQYF0EAAAAA8DYXQQAAAABcVRdBAAAAAMhzF0E=\",\"dtype\":\"float64\",\"order\":\"little\",\"shape\":[7]},\"year\":[\"2010\",\"2011\",\"2012\",\"2013\",\"2014\",\"2015\",\"2016\"]},\"selected\":{\"id\":\"19700\"},\"selection_policy\":{\"id\":\"19723\"}},\"id\":\"19699\",\"type\":\"ColumnDataSource\"},{\"attributes\":{\"callback\":null,\"renderers\":[{\"id\":\"19705\"}],\"tags\":[\"hv_created\"],\"tooltips\":[[\"year\",\"@{year}\"],[\"housing_units\",\"@{housing_units}\"]]},\"id\":\"19669\",\"type\":\"HoverTool\"},{\"attributes\":{\"axis\":{\"id\":\"19682\"},\"coordinates\":null,\"dimension\":1,\"grid_line_color\":null,\"group\":null,\"ticker\":null},\"id\":\"19685\",\"type\":\"Grid\"}],\"root_ids\":[\"19665\"]},\"title\":\"Bokeh Application\",\"version\":\"2.4.1\"}};\n",
       "    var render_items = [{\"docid\":\"f4e49c4f-1edd-4983-ba81-b9b73dccc021\",\"root_ids\":[\"19665\"],\"roots\":{\"19665\":\"b33cd41b-5cf1-4d91-9687-b80f632e4864\"}}];\n",
       "    root.Bokeh.embed.embed_items_notebook(docs_json, render_items);\n",
       "  }\n",
       "  if (root.Bokeh !== undefined && root.Bokeh.Panel !== undefined) {\n",
       "    embed_document(root);\n",
       "  } else {\n",
       "    var attempts = 0;\n",
       "    var timer = setInterval(function(root) {\n",
       "      if (root.Bokeh !== undefined && root.Bokeh.Panel !== undefined) {\n",
       "        clearInterval(timer);\n",
       "        embed_document(root);\n",
       "      } else if (document.readyState == \"complete\") {\n",
       "        attempts++;\n",
       "        if (attempts > 200) {\n",
       "          clearInterval(timer);\n",
       "          console.log(\"Bokeh: ERROR: Unable to run BokehJS code because BokehJS library is missing\");\n",
       "        }\n",
       "      }\n",
       "    }, 25, root)\n",
       "  }\n",
       "})(window);</script>"
      ],
      "text/plain": [
       ":Bars   [year]   (housing_units)"
      ]
     },
     "execution_count": 234,
     "metadata": {
      "application/vnd.holoviews_exec.v0+json": {
       "id": "19665"
      }
     },
     "output_type": "execute_result"
    }
   ],
   "source": [
    "# Create a visual aggregation explore the housing units by year\n",
    "housing_units_by_year.hvplot(x='year',y='housing_units', kind='bar', width=500, height=300).opts(yformatter='%.0f',ylim=(370000,385000), color='blue')"
   ]
  },
  {
   "cell_type": "markdown",
   "metadata": {},
   "source": [
    "### Step 5: Answer the following question:"
   ]
  },
  {
   "cell_type": "markdown",
   "metadata": {},
   "source": [
    "**Question:** What is the overall trend in housing_units over the period being analyzed?\n",
    "\n",
    "**Answer:** # housing units have increased year by year from 2010 through 2016"
   ]
  },
  {
   "cell_type": "markdown",
   "metadata": {},
   "source": [
    "---"
   ]
  },
  {
   "cell_type": "markdown",
   "metadata": {},
   "source": [
    "## Calculate and Plot the Average Sale Prices per Square Foot\n",
    "\n",
    "For this part of the assignment, use numerical and visual aggregation to calculate the average prices per square foot, and then visualize the results as a bar chart. To do so, complete the following steps:\n",
    "\n",
    "1. Group the data by year, and then average the results. What’s the lowest gross rent that’s reported for the years that the DataFrame includes?\n",
    "\n",
    "2. Create a new DataFrame named `prices_square_foot_by_year` by filtering out the “housing_units” column. The new DataFrame should include the averages per year for only the sale price per square foot and the gross rent.\n",
    "\n",
    "3. Use hvPlot to plot the `prices_square_foot_by_year` DataFrame as a line plot.\n",
    "\n",
    "    > **Hint** This single plot will include lines for both `sale_price_sqr_foot` and `gross_rent`.\n",
    "\n",
    "4. Style and format the line plot to ensure a professionally styled visualization.\n",
    "\n",
    "5. Note that your resulting plot should appear similar to the following image:\n",
    "\n",
    "![A screenshot depicts an example of the resulting plot.](Images/avg-sale-px-sq-foot-gross-rent.png)\n",
    "\n",
    "6. Use both the `prices_square_foot_by_year` DataFrame and interactive plots to answer the following questions:\n",
    "\n",
    "    * Did any year experience a drop in the average sale price per square foot compared to the previous year?\n",
    "\n",
    "    * If so, did the gross rent increase or decrease during that year?\n",
    "\n"
   ]
  },
  {
   "cell_type": "markdown",
   "metadata": {},
   "source": [
    "### Step 1: Group the data by year, and then average the results."
   ]
  },
  {
   "cell_type": "code",
   "execution_count": 235,
   "metadata": {},
   "outputs": [
    {
     "data": {
      "text/html": [
       "<div>\n",
       "<style scoped>\n",
       "    .dataframe tbody tr th:only-of-type {\n",
       "        vertical-align: middle;\n",
       "    }\n",
       "\n",
       "    .dataframe tbody tr th {\n",
       "        vertical-align: top;\n",
       "    }\n",
       "\n",
       "    .dataframe thead th {\n",
       "        text-align: right;\n",
       "    }\n",
       "</style>\n",
       "<table border=\"1\" class=\"dataframe\">\n",
       "  <thead>\n",
       "    <tr style=\"text-align: right;\">\n",
       "      <th></th>\n",
       "      <th>sale_price_sqr_foot</th>\n",
       "      <th>housing_units</th>\n",
       "      <th>gross_rent</th>\n",
       "    </tr>\n",
       "    <tr>\n",
       "      <th>year</th>\n",
       "      <th></th>\n",
       "      <th></th>\n",
       "      <th></th>\n",
       "    </tr>\n",
       "  </thead>\n",
       "  <tbody>\n",
       "    <tr>\n",
       "      <th>2010</th>\n",
       "      <td>369.344353</td>\n",
       "      <td>372560.0</td>\n",
       "      <td>1239.0</td>\n",
       "    </tr>\n",
       "    <tr>\n",
       "      <th>2011</th>\n",
       "      <td>341.903429</td>\n",
       "      <td>374507.0</td>\n",
       "      <td>1530.0</td>\n",
       "    </tr>\n",
       "    <tr>\n",
       "      <th>2012</th>\n",
       "      <td>399.389968</td>\n",
       "      <td>376454.0</td>\n",
       "      <td>2324.0</td>\n",
       "    </tr>\n",
       "    <tr>\n",
       "      <th>2013</th>\n",
       "      <td>483.600304</td>\n",
       "      <td>378401.0</td>\n",
       "      <td>2971.0</td>\n",
       "    </tr>\n",
       "    <tr>\n",
       "      <th>2014</th>\n",
       "      <td>556.277273</td>\n",
       "      <td>380348.0</td>\n",
       "      <td>3528.0</td>\n",
       "    </tr>\n",
       "  </tbody>\n",
       "</table>\n",
       "</div>"
      ],
      "text/plain": [
       "      sale_price_sqr_foot  housing_units  gross_rent\n",
       "year                                                \n",
       "2010           369.344353       372560.0      1239.0\n",
       "2011           341.903429       374507.0      1530.0\n",
       "2012           399.389968       376454.0      2324.0\n",
       "2013           483.600304       378401.0      2971.0\n",
       "2014           556.277273       380348.0      3528.0"
      ]
     },
     "execution_count": 235,
     "metadata": {},
     "output_type": "execute_result"
    }
   ],
   "source": [
    "# Create a numerical aggregation by grouping the data by year and averaging the results\n",
    "prices_square_foot_by_year = housing_units_by_year.groupby('year').mean()# YOUR CODE HERE\n",
    "prices_square_foot_by_year=prices_square_foot_by_year.sort_values(by=['gross_rent'])\n",
    "# Review the resulting DataFrame\n",
    "prices_square_foot_by_year.head()"
   ]
  },
  {
   "cell_type": "markdown",
   "metadata": {},
   "source": [
    "**Question:** What is the lowest gross rent reported for the years included in the DataFrame?\n",
    "\n",
    "**Answer:** # $1239 in 2010"
   ]
  },
  {
   "cell_type": "markdown",
   "metadata": {},
   "source": [
    "### Step 2: Create a new DataFrame named `prices_square_foot_by_year` by filtering out the “housing_units” column. The new DataFrame should include the averages per year for only the sale price per square foot and the gross rent."
   ]
  },
  {
   "cell_type": "code",
   "execution_count": 236,
   "metadata": {},
   "outputs": [
    {
     "data": {
      "text/html": [
       "<div>\n",
       "<style scoped>\n",
       "    .dataframe tbody tr th:only-of-type {\n",
       "        vertical-align: middle;\n",
       "    }\n",
       "\n",
       "    .dataframe tbody tr th {\n",
       "        vertical-align: top;\n",
       "    }\n",
       "\n",
       "    .dataframe thead th {\n",
       "        text-align: right;\n",
       "    }\n",
       "</style>\n",
       "<table border=\"1\" class=\"dataframe\">\n",
       "  <thead>\n",
       "    <tr style=\"text-align: right;\">\n",
       "      <th></th>\n",
       "      <th>sale_price_sqr_foot</th>\n",
       "      <th>gross_rent</th>\n",
       "    </tr>\n",
       "    <tr>\n",
       "      <th>year</th>\n",
       "      <th></th>\n",
       "      <th></th>\n",
       "    </tr>\n",
       "  </thead>\n",
       "  <tbody>\n",
       "    <tr>\n",
       "      <th>2010</th>\n",
       "      <td>369.344353</td>\n",
       "      <td>1239.0</td>\n",
       "    </tr>\n",
       "    <tr>\n",
       "      <th>2011</th>\n",
       "      <td>341.903429</td>\n",
       "      <td>1530.0</td>\n",
       "    </tr>\n",
       "    <tr>\n",
       "      <th>2012</th>\n",
       "      <td>399.389968</td>\n",
       "      <td>2324.0</td>\n",
       "    </tr>\n",
       "    <tr>\n",
       "      <th>2013</th>\n",
       "      <td>483.600304</td>\n",
       "      <td>2971.0</td>\n",
       "    </tr>\n",
       "    <tr>\n",
       "      <th>2014</th>\n",
       "      <td>556.277273</td>\n",
       "      <td>3528.0</td>\n",
       "    </tr>\n",
       "  </tbody>\n",
       "</table>\n",
       "</div>"
      ],
      "text/plain": [
       "      sale_price_sqr_foot  gross_rent\n",
       "year                                 \n",
       "2010           369.344353      1239.0\n",
       "2011           341.903429      1530.0\n",
       "2012           399.389968      2324.0\n",
       "2013           483.600304      2971.0\n",
       "2014           556.277273      3528.0"
      ]
     },
     "execution_count": 236,
     "metadata": {},
     "output_type": "execute_result"
    }
   ],
   "source": [
    "# Filter out the housing_units column, creating a new DataFrame \n",
    "# Keep only sale_price_sqr_foot and gross_rent averages per year\n",
    "prices_square_foot_by_year =prices_square_foot_by_year.drop(['housing_units'],axis=1)\n",
    "\n",
    "# Review the DataFrame\n",
    "prices_square_foot_by_year.head()"
   ]
  },
  {
   "cell_type": "markdown",
   "metadata": {},
   "source": [
    "### Step 3: Use hvPlot to plot the `prices_square_foot_by_year` DataFrame as a line plot.\n",
    "\n",
    "> **Hint** This single plot will include lines for both `sale_price_sqr_foot` and `gross_rent`\n",
    "\n",
    "### Step 4: Style and format the line plot to ensure a professionally styled visualization.\n"
   ]
  },
  {
   "cell_type": "code",
   "execution_count": 237,
   "metadata": {},
   "outputs": [
    {
     "data": {},
     "metadata": {},
     "output_type": "display_data"
    },
    {
     "data": {
      "application/vnd.holoviews_exec.v0+json": "",
      "text/html": [
       "<div id='19782'>\n",
       "\n",
       "\n",
       "\n",
       "\n",
       "\n",
       "  <div class=\"bk-root\" id=\"7f9c13d2-796a-45e8-abf3-82fae0ac498e\" data-root-id=\"19782\"></div>\n",
       "</div>\n",
       "<script type=\"application/javascript\">(function(root) {\n",
       "  function embed_document(root) {\n",
       "    var docs_json = {\"9003cefd-c85a-4322-843a-6e9cb099d1a4\":{\"defs\":[{\"extends\":null,\"module\":null,\"name\":\"ReactiveHTML1\",\"overrides\":[],\"properties\":[]},{\"extends\":null,\"module\":null,\"name\":\"FlexBox1\",\"overrides\":[],\"properties\":[{\"default\":\"flex-start\",\"kind\":null,\"name\":\"align_content\"},{\"default\":\"flex-start\",\"kind\":null,\"name\":\"align_items\"},{\"default\":\"row\",\"kind\":null,\"name\":\"flex_direction\"},{\"default\":\"wrap\",\"kind\":null,\"name\":\"flex_wrap\"},{\"default\":\"flex-start\",\"kind\":null,\"name\":\"justify_content\"}]},{\"extends\":null,\"module\":null,\"name\":\"GridStack1\",\"overrides\":[],\"properties\":[{\"default\":\"warn\",\"kind\":null,\"name\":\"mode\"},{\"default\":null,\"kind\":null,\"name\":\"ncols\"},{\"default\":null,\"kind\":null,\"name\":\"nrows\"},{\"default\":true,\"kind\":null,\"name\":\"allow_resize\"},{\"default\":true,\"kind\":null,\"name\":\"allow_drag\"},{\"default\":[],\"kind\":null,\"name\":\"state\"}]},{\"extends\":null,\"module\":null,\"name\":\"click1\",\"overrides\":[],\"properties\":[{\"default\":\"\",\"kind\":null,\"name\":\"terminal_output\"},{\"default\":\"\",\"kind\":null,\"name\":\"debug_name\"},{\"default\":0,\"kind\":null,\"name\":\"clears\"}]},{\"extends\":null,\"module\":null,\"name\":\"TemplateActions1\",\"overrides\":[],\"properties\":[{\"default\":0,\"kind\":null,\"name\":\"open_modal\"},{\"default\":0,\"kind\":null,\"name\":\"close_modal\"}]},{\"extends\":null,\"module\":null,\"name\":\"MaterialTemplateActions1\",\"overrides\":[],\"properties\":[{\"default\":0,\"kind\":null,\"name\":\"open_modal\"},{\"default\":0,\"kind\":null,\"name\":\"close_modal\"}]}],\"roots\":{\"references\":[{\"attributes\":{\"axis\":{\"id\":\"19801\"},\"coordinates\":null,\"grid_line_color\":null,\"group\":null,\"ticker\":null},\"id\":\"19804\",\"type\":\"Grid\"},{\"attributes\":{},\"id\":\"19811\",\"type\":\"WheelZoomTool\"},{\"attributes\":{\"source\":{\"id\":\"19853\"}},\"id\":\"19860\",\"type\":\"CDSView\"},{\"attributes\":{\"line_alpha\":0.1,\"line_color\":\"#fc4f30\",\"line_width\":2,\"x\":{\"field\":\"year\"},\"y\":{\"field\":\"value\"}},\"id\":\"19857\",\"type\":\"Line\"},{\"attributes\":{\"margin\":[5,5,5,5],\"name\":\"HSpacer58255\",\"sizing_mode\":\"stretch_width\"},\"id\":\"19973\",\"type\":\"Spacer\"},{\"attributes\":{\"coordinates\":null,\"data_source\":{\"id\":\"19833\"},\"glyph\":{\"id\":\"19836\"},\"group\":null,\"hover_glyph\":null,\"muted_glyph\":{\"id\":\"19838\"},\"nonselection_glyph\":{\"id\":\"19837\"},\"selection_glyph\":{\"id\":\"19852\"},\"view\":{\"id\":\"19840\"}},\"id\":\"19839\",\"type\":\"GlyphRenderer\"},{\"attributes\":{},\"id\":\"19869\",\"type\":\"UnionRenderers\"},{\"attributes\":{\"click_policy\":\"mute\",\"coordinates\":null,\"group\":null,\"items\":[{\"id\":\"19851\"},{\"id\":\"19872\"}],\"location\":[0,0],\"title\":\"Variable\"},\"id\":\"19850\",\"type\":\"Legend\"},{\"attributes\":{\"data\":{\"Variable\":[\"sale_price_sqr_foot\",\"sale_price_sqr_foot\",\"sale_price_sqr_foot\",\"sale_price_sqr_foot\",\"sale_price_sqr_foot\",\"sale_price_sqr_foot\",\"sale_price_sqr_foot\"],\"value\":{\"__ndarray__\":\"2EyjeIIVd0DdWSdydF51QJbGjU899nhAGuyk2Jo5fkDt8CTbN2KBQG/cF6RSxINAI/f5UCbNhUA=\",\"dtype\":\"float64\",\"order\":\"little\",\"shape\":[7]},\"year\":[2010,2011,2012,2013,2014,2015,2016]},\"selected\":{\"id\":\"19834\"},\"selection_policy\":{\"id\":\"19847\"}},\"id\":\"19833\",\"type\":\"ColumnDataSource\"},{\"attributes\":{},\"id\":\"19827\",\"type\":\"AllLabels\"},{\"attributes\":{\"coordinates\":null,\"data_source\":{\"id\":\"19853\"},\"glyph\":{\"id\":\"19856\"},\"group\":null,\"hover_glyph\":null,\"muted_glyph\":{\"id\":\"19858\"},\"nonselection_glyph\":{\"id\":\"19857\"},\"selection_glyph\":{\"id\":\"19873\"},\"view\":{\"id\":\"19860\"}},\"id\":\"19859\",\"type\":\"GlyphRenderer\"},{\"attributes\":{},\"id\":\"19847\",\"type\":\"UnionRenderers\"},{\"attributes\":{\"data\":{\"Variable\":[\"gross_rent\",\"gross_rent\",\"gross_rent\",\"gross_rent\",\"gross_rent\",\"gross_rent\",\"gross_rent\"],\"value\":{\"__ndarray__\":\"AAAAAABck0AAAAAAAOiXQAAAAAAAKKJAAAAAAAA2p0AAAAAAAJCrQAAAAAAANq1AAAAAAAAmsUA=\",\"dtype\":\"float64\",\"order\":\"little\",\"shape\":[7]},\"year\":[2010,2011,2012,2013,2014,2015,2016]},\"selected\":{\"id\":\"19854\"},\"selection_policy\":{\"id\":\"19869\"}},\"id\":\"19853\",\"type\":\"ColumnDataSource\"},{\"attributes\":{\"line_color\":\"#30a2da\",\"line_width\":2,\"x\":{\"field\":\"year\"},\"y\":{\"field\":\"value\"}},\"id\":\"19836\",\"type\":\"Line\"},{\"attributes\":{\"line_color\":\"#fc4f30\",\"line_width\":2,\"x\":{\"field\":\"year\"},\"y\":{\"field\":\"value\"}},\"id\":\"19873\",\"type\":\"Line\"},{\"attributes\":{},\"id\":\"19834\",\"type\":\"Selection\"},{\"attributes\":{},\"id\":\"19806\",\"type\":\"BasicTicker\"},{\"attributes\":{},\"id\":\"19797\",\"type\":\"LinearScale\"},{\"attributes\":{\"line_alpha\":0.1,\"line_color\":\"#30a2da\",\"line_width\":2,\"x\":{\"field\":\"year\"},\"y\":{\"field\":\"value\"}},\"id\":\"19837\",\"type\":\"Line\"},{\"attributes\":{\"line_alpha\":0.2,\"line_color\":\"#fc4f30\",\"line_width\":2,\"x\":{\"field\":\"year\"},\"y\":{\"field\":\"value\"}},\"id\":\"19858\",\"type\":\"Line\"},{\"attributes\":{},\"id\":\"19813\",\"type\":\"ResetTool\"},{\"attributes\":{\"axis_label\":\"Year\",\"coordinates\":null,\"formatter\":{\"id\":\"19826\"},\"group\":null,\"major_label_orientation\":1.5707963267948966,\"major_label_policy\":{\"id\":\"19827\"},\"ticker\":{\"id\":\"19802\"}},\"id\":\"19801\",\"type\":\"LinearAxis\"},{\"attributes\":{\"overlay\":{\"id\":\"19814\"}},\"id\":\"19812\",\"type\":\"BoxZoomTool\"},{\"attributes\":{},\"id\":\"19854\",\"type\":\"Selection\"},{\"attributes\":{\"line_color\":\"#30a2da\",\"line_width\":2,\"x\":{\"field\":\"year\"},\"y\":{\"field\":\"value\"}},\"id\":\"19852\",\"type\":\"Line\"},{\"attributes\":{\"source\":{\"id\":\"19833\"}},\"id\":\"19840\",\"type\":\"CDSView\"},{\"attributes\":{},\"id\":\"19799\",\"type\":\"LinearScale\"},{\"attributes\":{\"line_alpha\":0.2,\"line_color\":\"#30a2da\",\"line_width\":2,\"x\":{\"field\":\"year\"},\"y\":{\"field\":\"value\"}},\"id\":\"19838\",\"type\":\"Line\"},{\"attributes\":{\"below\":[{\"id\":\"19801\"}],\"center\":[{\"id\":\"19804\"},{\"id\":\"19808\"}],\"height\":300,\"left\":[{\"id\":\"19805\"}],\"margin\":[5,5,5,5],\"min_border_bottom\":10,\"min_border_left\":10,\"min_border_right\":10,\"min_border_top\":10,\"renderers\":[{\"id\":\"19839\"},{\"id\":\"19859\"}],\"right\":[{\"id\":\"19850\"}],\"sizing_mode\":\"fixed\",\"title\":{\"id\":\"19793\"},\"toolbar\":{\"id\":\"19815\"},\"width\":700,\"x_range\":{\"id\":\"19786\"},\"x_scale\":{\"id\":\"19797\"},\"y_range\":{\"id\":\"19787\"},\"y_scale\":{\"id\":\"19799\"}},\"id\":\"19792\",\"subtype\":\"Figure\",\"type\":\"Plot\"},{\"attributes\":{\"axis\":{\"id\":\"19805\"},\"coordinates\":null,\"dimension\":1,\"grid_line_color\":null,\"group\":null,\"ticker\":null},\"id\":\"19808\",\"type\":\"Grid\"},{\"attributes\":{},\"id\":\"19802\",\"type\":\"BasicTicker\"},{\"attributes\":{\"end\":2016.0,\"reset_end\":2016.0,\"reset_start\":2010.0,\"start\":2010.0,\"tags\":[[[\"year\",\"year\",null]]]},\"id\":\"19786\",\"type\":\"Range1d\"},{\"attributes\":{\"tools\":[{\"id\":\"19788\"},{\"id\":\"19809\"},{\"id\":\"19810\"},{\"id\":\"19811\"},{\"id\":\"19812\"},{\"id\":\"19813\"}]},\"id\":\"19815\",\"type\":\"Toolbar\"},{\"attributes\":{\"children\":[{\"id\":\"19783\"},{\"id\":\"19792\"},{\"id\":\"19973\"}],\"margin\":[0,0,0,0],\"name\":\"Row58250\",\"tags\":[\"embedded\"]},\"id\":\"19782\",\"type\":\"Row\"},{\"attributes\":{},\"id\":\"19810\",\"type\":\"PanTool\"},{\"attributes\":{\"margin\":[5,5,5,5],\"name\":\"HSpacer58254\",\"sizing_mode\":\"stretch_width\"},\"id\":\"19783\",\"type\":\"Spacer\"},{\"attributes\":{\"coordinates\":null,\"group\":null,\"text\":\"Housing Prices\",\"text_color\":\"black\",\"text_font_size\":\"12pt\"},\"id\":\"19793\",\"type\":\"Title\"},{\"attributes\":{\"label\":{\"value\":\"gross_rent\"},\"renderers\":[{\"id\":\"19859\"}]},\"id\":\"19872\",\"type\":\"LegendItem\"},{\"attributes\":{},\"id\":\"19809\",\"type\":\"SaveTool\"},{\"attributes\":{},\"id\":\"19830\",\"type\":\"AllLabels\"},{\"attributes\":{\"end\":4794.809657082204,\"reset_end\":4794.809657082204,\"reset_start\":-62.90622790423731,\"start\":-62.90622790423731,\"tags\":[[[\"value\",\"value\",null]]]},\"id\":\"19787\",\"type\":\"Range1d\"},{\"attributes\":{\"line_color\":\"#fc4f30\",\"line_width\":2,\"x\":{\"field\":\"year\"},\"y\":{\"field\":\"value\"}},\"id\":\"19856\",\"type\":\"Line\"},{\"attributes\":{\"format\":\"%.0f\"},\"id\":\"19824\",\"type\":\"PrintfTickFormatter\"},{\"attributes\":{\"label\":{\"value\":\"sale_price_sqr_foot\"},\"renderers\":[{\"id\":\"19839\"}]},\"id\":\"19851\",\"type\":\"LegendItem\"},{\"attributes\":{\"axis_label\":\"Prices\",\"coordinates\":null,\"formatter\":{\"id\":\"19824\"},\"group\":null,\"major_label_policy\":{\"id\":\"19830\"},\"ticker\":{\"id\":\"19806\"}},\"id\":\"19805\",\"type\":\"LinearAxis\"},{\"attributes\":{},\"id\":\"19826\",\"type\":\"BasicTickFormatter\"},{\"attributes\":{\"callback\":null,\"renderers\":[{\"id\":\"19839\"},{\"id\":\"19859\"}],\"tags\":[\"hv_created\"],\"tooltips\":[[\"Variable\",\"@{Variable}\"],[\"year\",\"@{year}\"],[\"value\",\"@{value}\"]]},\"id\":\"19788\",\"type\":\"HoverTool\"},{\"attributes\":{\"bottom_units\":\"screen\",\"coordinates\":null,\"fill_alpha\":0.5,\"fill_color\":\"lightgrey\",\"group\":null,\"left_units\":\"screen\",\"level\":\"overlay\",\"line_alpha\":1.0,\"line_color\":\"black\",\"line_dash\":[4,4],\"line_width\":2,\"right_units\":\"screen\",\"syncable\":false,\"top_units\":\"screen\"},\"id\":\"19814\",\"type\":\"BoxAnnotation\"}],\"root_ids\":[\"19782\"]},\"title\":\"Bokeh Application\",\"version\":\"2.4.1\"}};\n",
       "    var render_items = [{\"docid\":\"9003cefd-c85a-4322-843a-6e9cb099d1a4\",\"root_ids\":[\"19782\"],\"roots\":{\"19782\":\"7f9c13d2-796a-45e8-abf3-82fae0ac498e\"}}];\n",
       "    root.Bokeh.embed.embed_items_notebook(docs_json, render_items);\n",
       "  }\n",
       "  if (root.Bokeh !== undefined && root.Bokeh.Panel !== undefined) {\n",
       "    embed_document(root);\n",
       "  } else {\n",
       "    var attempts = 0;\n",
       "    var timer = setInterval(function(root) {\n",
       "      if (root.Bokeh !== undefined && root.Bokeh.Panel !== undefined) {\n",
       "        clearInterval(timer);\n",
       "        embed_document(root);\n",
       "      } else if (document.readyState == \"complete\") {\n",
       "        attempts++;\n",
       "        if (attempts > 200) {\n",
       "          clearInterval(timer);\n",
       "          console.log(\"Bokeh: ERROR: Unable to run BokehJS code because BokehJS library is missing\");\n",
       "        }\n",
       "      }\n",
       "    }, 25, root)\n",
       "  }\n",
       "})(window);</script>"
      ],
      "text/plain": [
       ":NdOverlay   [Variable]\n",
       "   :Curve   [year]   (value)"
      ]
     },
     "execution_count": 237,
     "metadata": {
      "application/vnd.holoviews_exec.v0+json": {
       "id": "19782"
      }
     },
     "output_type": "execute_result"
    }
   ],
   "source": [
    "# Plot prices_square_foot_by_year. \n",
    "# Inclued labels for the x- and y-axes, and a title.\n",
    "prices_square_foot_by_year.hvplot(\n",
    "    title='Housing Prices',\n",
    "    xlabel='Year',\n",
    "    ylabel=\"Prices\",\n",
    "    rot=90\n",
    "   \n",
    ").opts(yformatter='%.0f')"
   ]
  },
  {
   "cell_type": "markdown",
   "metadata": {},
   "source": [
    "### Step 6: Use both the `prices_square_foot_by_year` DataFrame and interactive plots to answer the following questions:"
   ]
  },
  {
   "cell_type": "markdown",
   "metadata": {},
   "source": [
    "**Question:** Did any year experience a drop in the average sale price per square foot compared to the previous year?\n",
    "\n",
    "**Answer:** # YOUR ANSWER HERE"
   ]
  },
  {
   "cell_type": "markdown",
   "metadata": {},
   "source": [
    "**Question:** If so, did the gross rent increase or decrease during that year?\n",
    "\n",
    "**Answer:** # YOUR ANSWER HERE"
   ]
  },
  {
   "cell_type": "markdown",
   "metadata": {},
   "source": [
    "---"
   ]
  },
  {
   "cell_type": "markdown",
   "metadata": {},
   "source": [
    "## Compare the Average Sale Prices by Neighborhood\n",
    "\n",
    "For this part of the assignment, use interactive visualizations and widgets to explore the average sale price per square foot by neighborhood. To do so, complete the following steps:\n",
    "\n",
    "1. Create a new DataFrame that groups the original DataFrame by year and neighborhood. Aggregate the results by the `mean` of the groups.\n",
    "\n",
    "2. Filter out the “housing_units” column to create a DataFrame that includes only the `sale_price_sqr_foot` and `gross_rent` averages per year.\n",
    "\n",
    "3. Create an interactive line plot with hvPlot that visualizes both `sale_price_sqr_foot` and `gross_rent`. Set the x-axis parameter to the year (`x=\"year\"`). Use the `groupby` parameter to create an interactive widget for `neighborhood`.\n",
    "\n",
    "4. Style and format the line plot to ensure a professionally styled visualization.\n",
    "\n",
    "5. Note that your resulting plot should appear similar to the following image:\n",
    "\n",
    "![A screenshot depicts an example of the resulting plot.](Images/pricing-info-by-neighborhood.png)\n",
    "\n",
    "6. Use the interactive visualization to answer the following question:\n",
    "\n",
    "    * For the Anza Vista neighborhood, is the average sale price per square foot for 2016 more or less than the price that’s listed for 2012? \n"
   ]
  },
  {
   "cell_type": "markdown",
   "metadata": {},
   "source": [
    "### Step 1: Create a new DataFrame that groups the original DataFrame by year and neighborhood. Aggregate the results by the `mean` of the groups."
   ]
  },
  {
   "cell_type": "code",
   "execution_count": 238,
   "metadata": {},
   "outputs": [
    {
     "data": {
      "text/html": [
       "<div>\n",
       "<style scoped>\n",
       "    .dataframe tbody tr th:only-of-type {\n",
       "        vertical-align: middle;\n",
       "    }\n",
       "\n",
       "    .dataframe tbody tr th {\n",
       "        vertical-align: top;\n",
       "    }\n",
       "\n",
       "    .dataframe thead th {\n",
       "        text-align: right;\n",
       "    }\n",
       "</style>\n",
       "<table border=\"1\" class=\"dataframe\">\n",
       "  <thead>\n",
       "    <tr style=\"text-align: right;\">\n",
       "      <th></th>\n",
       "      <th></th>\n",
       "      <th>sale_price_sqr_foot</th>\n",
       "      <th>housing_units</th>\n",
       "      <th>gross_rent</th>\n",
       "    </tr>\n",
       "    <tr>\n",
       "      <th>year</th>\n",
       "      <th>neighborhood</th>\n",
       "      <th></th>\n",
       "      <th></th>\n",
       "      <th></th>\n",
       "    </tr>\n",
       "  </thead>\n",
       "  <tbody>\n",
       "    <tr>\n",
       "      <th rowspan=\"5\" valign=\"top\">2010</th>\n",
       "      <th>Alamo Square</th>\n",
       "      <td>291.182946</td>\n",
       "      <td>372560.0</td>\n",
       "      <td>1239.0</td>\n",
       "    </tr>\n",
       "    <tr>\n",
       "      <th>Anza Vista</th>\n",
       "      <td>267.932583</td>\n",
       "      <td>372560.0</td>\n",
       "      <td>1239.0</td>\n",
       "    </tr>\n",
       "    <tr>\n",
       "      <th>Bayview</th>\n",
       "      <td>170.098665</td>\n",
       "      <td>372560.0</td>\n",
       "      <td>1239.0</td>\n",
       "    </tr>\n",
       "    <tr>\n",
       "      <th>Buena Vista Park</th>\n",
       "      <td>347.394919</td>\n",
       "      <td>372560.0</td>\n",
       "      <td>1239.0</td>\n",
       "    </tr>\n",
       "    <tr>\n",
       "      <th>Central Richmond</th>\n",
       "      <td>319.027623</td>\n",
       "      <td>372560.0</td>\n",
       "      <td>1239.0</td>\n",
       "    </tr>\n",
       "  </tbody>\n",
       "</table>\n",
       "</div>"
      ],
      "text/plain": [
       "                       sale_price_sqr_foot  housing_units  gross_rent\n",
       "year neighborhood                                                    \n",
       "2010 Alamo Square               291.182946       372560.0      1239.0\n",
       "     Anza Vista                 267.932583       372560.0      1239.0\n",
       "     Bayview                    170.098665       372560.0      1239.0\n",
       "     Buena Vista Park           347.394919       372560.0      1239.0\n",
       "     Central Richmond           319.027623       372560.0      1239.0"
      ]
     },
     "execution_count": 238,
     "metadata": {},
     "output_type": "execute_result"
    }
   ],
   "source": [
    "# Group by year and neighborhood and then create a new dataframe of the mean values\n",
    "prices_by_year_by_neighborhood =sfo_data_df.groupby(['year','neighborhood']).mean()\n",
    "\n",
    "# Review the DataFrame\n",
    "prices_by_year_by_neighborhood.head()"
   ]
  },
  {
   "cell_type": "raw",
   "metadata": {},
   "source": []
  },
  {
   "cell_type": "markdown",
   "metadata": {},
   "source": [
    "### Step 2: Filter out the “housing_units” column to create a DataFrame that includes only the `sale_price_sqr_foot` and `gross_rent` averages per year."
   ]
  },
  {
   "cell_type": "code",
   "execution_count": 239,
   "metadata": {},
   "outputs": [
    {
     "data": {
      "text/html": [
       "<div>\n",
       "<style scoped>\n",
       "    .dataframe tbody tr th:only-of-type {\n",
       "        vertical-align: middle;\n",
       "    }\n",
       "\n",
       "    .dataframe tbody tr th {\n",
       "        vertical-align: top;\n",
       "    }\n",
       "\n",
       "    .dataframe thead th {\n",
       "        text-align: right;\n",
       "    }\n",
       "</style>\n",
       "<table border=\"1\" class=\"dataframe\">\n",
       "  <thead>\n",
       "    <tr style=\"text-align: right;\">\n",
       "      <th></th>\n",
       "      <th></th>\n",
       "      <th>sale_price_sqr_foot</th>\n",
       "      <th>gross_rent</th>\n",
       "    </tr>\n",
       "    <tr>\n",
       "      <th>year</th>\n",
       "      <th>neighborhood</th>\n",
       "      <th></th>\n",
       "      <th></th>\n",
       "    </tr>\n",
       "  </thead>\n",
       "  <tbody>\n",
       "    <tr>\n",
       "      <th rowspan=\"5\" valign=\"top\">2016</th>\n",
       "      <th>Telegraph Hill</th>\n",
       "      <td>903.049771</td>\n",
       "      <td>4390.0</td>\n",
       "    </tr>\n",
       "    <tr>\n",
       "      <th>Twin Peaks</th>\n",
       "      <td>970.085470</td>\n",
       "      <td>4390.0</td>\n",
       "    </tr>\n",
       "    <tr>\n",
       "      <th>Van Ness/ Civic Center</th>\n",
       "      <td>552.602567</td>\n",
       "      <td>4390.0</td>\n",
       "    </tr>\n",
       "    <tr>\n",
       "      <th>Visitacion Valley</th>\n",
       "      <td>328.319007</td>\n",
       "      <td>4390.0</td>\n",
       "    </tr>\n",
       "    <tr>\n",
       "      <th>Westwood Park</th>\n",
       "      <td>631.195426</td>\n",
       "      <td>4390.0</td>\n",
       "    </tr>\n",
       "  </tbody>\n",
       "</table>\n",
       "</div>"
      ],
      "text/plain": [
       "                             sale_price_sqr_foot  gross_rent\n",
       "year neighborhood                                           \n",
       "2016 Telegraph Hill                   903.049771      4390.0\n",
       "     Twin Peaks                       970.085470      4390.0\n",
       "     Van Ness/ Civic Center           552.602567      4390.0\n",
       "     Visitacion Valley                328.319007      4390.0\n",
       "     Westwood Park                    631.195426      4390.0"
      ]
     },
     "execution_count": 239,
     "metadata": {},
     "output_type": "execute_result"
    }
   ],
   "source": [
    "# Filter out the housing_units\n",
    "prices_by_year_by_neighborhood = prices_by_year_by_neighborhood.filter(['year','sale_price_sqr_foot','gross_rent'], axis=1)\n",
    "\n",
    "# Review the first and last five rows of the DataFrame\n",
    "prices_by_year_by_neighborhood.head()\n",
    "prices_by_year_by_neighborhood.tail()"
   ]
  },
  {
   "cell_type": "markdown",
   "metadata": {},
   "source": [
    "### Step 3: Create an interactive line plot with hvPlot that visualizes both `sale_price_sqr_foot` and `gross_rent`. Set the x-axis parameter to the year (`x=\"year\"`). Use the `groupby` parameter to create an interactive widget for `neighborhood`.\n",
    "\n",
    "### Step 4: Style and format the line plot to ensure a professionally styled visualization."
   ]
  },
  {
   "cell_type": "code",
   "execution_count": 240,
   "metadata": {},
   "outputs": [
    {
     "data": {},
     "metadata": {},
     "output_type": "display_data"
    },
    {
     "data": {
      "application/vnd.holoviews_exec.v0+json": "",
      "text/html": [
       "<div id='20030'>\n",
       "\n",
       "\n",
       "\n",
       "\n",
       "\n",
       "  <div class=\"bk-root\" id=\"15eea98d-ed15-47bb-b7a8-a494720fa107\" data-root-id=\"20030\"></div>\n",
       "</div>\n",
       "<script type=\"application/javascript\">(function(root) {\n",
       "  function embed_document(root) {\n",
       "    var docs_json = {\"8e645d33-12eb-4258-8a15-54f7024f3ca0\":{\"defs\":[{\"extends\":null,\"module\":null,\"name\":\"ReactiveHTML1\",\"overrides\":[],\"properties\":[]},{\"extends\":null,\"module\":null,\"name\":\"FlexBox1\",\"overrides\":[],\"properties\":[{\"default\":\"flex-start\",\"kind\":null,\"name\":\"align_content\"},{\"default\":\"flex-start\",\"kind\":null,\"name\":\"align_items\"},{\"default\":\"row\",\"kind\":null,\"name\":\"flex_direction\"},{\"default\":\"wrap\",\"kind\":null,\"name\":\"flex_wrap\"},{\"default\":\"flex-start\",\"kind\":null,\"name\":\"justify_content\"}]},{\"extends\":null,\"module\":null,\"name\":\"GridStack1\",\"overrides\":[],\"properties\":[{\"default\":\"warn\",\"kind\":null,\"name\":\"mode\"},{\"default\":null,\"kind\":null,\"name\":\"ncols\"},{\"default\":null,\"kind\":null,\"name\":\"nrows\"},{\"default\":true,\"kind\":null,\"name\":\"allow_resize\"},{\"default\":true,\"kind\":null,\"name\":\"allow_drag\"},{\"default\":[],\"kind\":null,\"name\":\"state\"}]},{\"extends\":null,\"module\":null,\"name\":\"click1\",\"overrides\":[],\"properties\":[{\"default\":\"\",\"kind\":null,\"name\":\"terminal_output\"},{\"default\":\"\",\"kind\":null,\"name\":\"debug_name\"},{\"default\":0,\"kind\":null,\"name\":\"clears\"}]},{\"extends\":null,\"module\":null,\"name\":\"TemplateActions1\",\"overrides\":[],\"properties\":[{\"default\":0,\"kind\":null,\"name\":\"open_modal\"},{\"default\":0,\"kind\":null,\"name\":\"close_modal\"}]},{\"extends\":null,\"module\":null,\"name\":\"MaterialTemplateActions1\",\"overrides\":[],\"properties\":[{\"default\":0,\"kind\":null,\"name\":\"open_modal\"},{\"default\":0,\"kind\":null,\"name\":\"close_modal\"}]}],\"roots\":{\"references\":[{\"attributes\":{\"line_alpha\":0.2,\"line_color\":\"#30a2da\",\"line_width\":2,\"x\":{\"field\":\"year\"},\"y\":{\"field\":\"value\"}},\"id\":\"20086\",\"type\":\"Line\"},{\"attributes\":{\"callback\":null,\"renderers\":[{\"id\":\"20087\"},{\"id\":\"20107\"}],\"tags\":[\"hv_created\"],\"tooltips\":[[\"Variable\",\"@{Variable}\"],[\"year\",\"@{year}\"],[\"value\",\"@{value}\"]]},\"id\":\"20036\",\"type\":\"HoverTool\"},{\"attributes\":{\"axis\":{\"id\":\"20053\"},\"coordinates\":null,\"dimension\":1,\"grid_line_color\":null,\"group\":null,\"ticker\":null},\"id\":\"20056\",\"type\":\"Grid\"},{\"attributes\":{\"line_color\":\"#30a2da\",\"line_width\":2,\"x\":{\"field\":\"year\"},\"y\":{\"field\":\"value\"}},\"id\":\"20084\",\"type\":\"Line\"},{\"attributes\":{},\"id\":\"20045\",\"type\":\"LinearScale\"},{\"attributes\":{\"coordinates\":null,\"data_source\":{\"id\":\"20081\"},\"glyph\":{\"id\":\"20084\"},\"group\":null,\"hover_glyph\":null,\"muted_glyph\":{\"id\":\"20086\"},\"nonselection_glyph\":{\"id\":\"20085\"},\"selection_glyph\":{\"id\":\"20100\"},\"view\":{\"id\":\"20088\"}},\"id\":\"20087\",\"type\":\"GlyphRenderer\"},{\"attributes\":{},\"id\":\"20059\",\"type\":\"WheelZoomTool\"},{\"attributes\":{\"overlay\":{\"id\":\"20062\"}},\"id\":\"20060\",\"type\":\"BoxZoomTool\"},{\"attributes\":{\"end\":4810.69006831,\"reset_end\":4810.69006831,\"reset_start\":-237.59075141000002,\"start\":-237.59075141000002,\"tags\":[[[\"value\",\"value\",null]]]},\"id\":\"20035\",\"type\":\"Range1d\"},{\"attributes\":{\"axis\":{\"id\":\"20049\"},\"coordinates\":null,\"grid_line_color\":null,\"group\":null,\"ticker\":null},\"id\":\"20052\",\"type\":\"Grid\"},{\"attributes\":{\"label\":{\"value\":\"gross_rent\"},\"renderers\":[{\"id\":\"20107\"}]},\"id\":\"20120\",\"type\":\"LegendItem\"},{\"attributes\":{},\"id\":\"20050\",\"type\":\"BasicTicker\"},{\"attributes\":{},\"id\":\"20061\",\"type\":\"ResetTool\"},{\"attributes\":{},\"id\":\"20078\",\"type\":\"AllLabels\"},{\"attributes\":{},\"id\":\"20074\",\"type\":\"BasicTickFormatter\"},{\"attributes\":{},\"id\":\"20102\",\"type\":\"Selection\"},{\"attributes\":{\"client_comm_id\":\"d0418a8078fc4414a6fb679c649d85a6\",\"comm_id\":\"26e41a967fd34cacb7138dc2848aa7ae\",\"plot_id\":\"20030\"},\"id\":\"20268\",\"type\":\"panel.models.comm_manager.CommManager\"},{\"attributes\":{\"margin\":[5,5,5,5],\"name\":\"HSpacer58639\",\"sizing_mode\":\"stretch_width\"},\"id\":\"20229\",\"type\":\"Spacer\"},{\"attributes\":{\"label\":{\"value\":\"sale_price_sqr_foot\"},\"renderers\":[{\"id\":\"20087\"}]},\"id\":\"20099\",\"type\":\"LegendItem\"},{\"attributes\":{},\"id\":\"20075\",\"type\":\"AllLabels\"},{\"attributes\":{\"below\":[{\"id\":\"20049\"}],\"center\":[{\"id\":\"20052\"},{\"id\":\"20056\"}],\"height\":300,\"left\":[{\"id\":\"20053\"}],\"margin\":[5,5,5,5],\"min_border_bottom\":10,\"min_border_left\":10,\"min_border_right\":10,\"min_border_top\":10,\"renderers\":[{\"id\":\"20087\"},{\"id\":\"20107\"}],\"right\":[{\"id\":\"20098\"}],\"sizing_mode\":\"fixed\",\"title\":{\"id\":\"20041\"},\"toolbar\":{\"id\":\"20063\"},\"width\":700,\"x_range\":{\"id\":\"20034\"},\"x_scale\":{\"id\":\"20045\"},\"y_range\":{\"id\":\"20035\"},\"y_scale\":{\"id\":\"20047\"}},\"id\":\"20040\",\"subtype\":\"Figure\",\"type\":\"Plot\"},{\"attributes\":{\"bottom_units\":\"screen\",\"coordinates\":null,\"fill_alpha\":0.5,\"fill_color\":\"lightgrey\",\"group\":null,\"left_units\":\"screen\",\"level\":\"overlay\",\"line_alpha\":1.0,\"line_color\":\"black\",\"line_dash\":[4,4],\"line_width\":2,\"right_units\":\"screen\",\"syncable\":false,\"top_units\":\"screen\"},\"id\":\"20062\",\"type\":\"BoxAnnotation\"},{\"attributes\":{\"axis_label\":\"Prices\",\"coordinates\":null,\"formatter\":{\"id\":\"20072\"},\"group\":null,\"major_label_policy\":{\"id\":\"20078\"},\"ticker\":{\"id\":\"20054\"}},\"id\":\"20053\",\"type\":\"LinearAxis\"},{\"attributes\":{\"data\":{\"Variable\":[\"gross_rent\",\"gross_rent\",\"gross_rent\",\"gross_rent\",\"gross_rent\",\"gross_rent\",\"gross_rent\"],\"value\":{\"__ndarray__\":\"AAAAAABck0AAAAAAAOiXQAAAAAAAKKJAAAAAAAA2p0AAAAAAAJCrQAAAAAAANq1AAAAAAAAmsUA=\",\"dtype\":\"float64\",\"order\":\"little\",\"shape\":[7]},\"year\":[2010,2011,2012,2013,2014,2015,2016]},\"selected\":{\"id\":\"20102\"},\"selection_policy\":{\"id\":\"20117\"}},\"id\":\"20101\",\"type\":\"ColumnDataSource\"},{\"attributes\":{\"tools\":[{\"id\":\"20036\"},{\"id\":\"20057\"},{\"id\":\"20058\"},{\"id\":\"20059\"},{\"id\":\"20060\"},{\"id\":\"20061\"}]},\"id\":\"20063\",\"type\":\"Toolbar\"},{\"attributes\":{\"line_color\":\"#30a2da\",\"line_width\":2,\"x\":{\"field\":\"year\"},\"y\":{\"field\":\"value\"}},\"id\":\"20100\",\"type\":\"Line\"},{\"attributes\":{\"children\":[{\"id\":\"20231\"},{\"id\":\"20232\"},{\"id\":\"20234\"}],\"margin\":[0,0,0,0],\"name\":\"Column58637\"},\"id\":\"20230\",\"type\":\"Column\"},{\"attributes\":{},\"id\":\"20082\",\"type\":\"Selection\"},{\"attributes\":{},\"id\":\"20117\",\"type\":\"UnionRenderers\"},{\"attributes\":{\"data\":{\"Variable\":[\"sale_price_sqr_foot\",\"sale_price_sqr_foot\",\"sale_price_sqr_foot\",\"sale_price_sqr_foot\",\"sale_price_sqr_foot\",\"sale_price_sqr_foot\",\"sale_price_sqr_foot\"],\"value\":{\"__ndarray__\":\"NbdCWO0yckCO/dHcbwhxQBWuopot42ZAIxUh0LQ8eEAaETHKGEd+QOU+3lDt0IJA/KDTmLVPdUA=\",\"dtype\":\"float64\",\"order\":\"little\",\"shape\":[7]},\"year\":[2010,2011,2012,2013,2014,2015,2016]},\"selected\":{\"id\":\"20082\"},\"selection_policy\":{\"id\":\"20095\"}},\"id\":\"20081\",\"type\":\"ColumnDataSource\"},{\"attributes\":{\"line_alpha\":0.1,\"line_color\":\"#30a2da\",\"line_width\":2,\"x\":{\"field\":\"year\"},\"y\":{\"field\":\"value\"}},\"id\":\"20085\",\"type\":\"Line\"},{\"attributes\":{\"click_policy\":\"mute\",\"coordinates\":null,\"group\":null,\"items\":[{\"id\":\"20099\"},{\"id\":\"20120\"}],\"location\":[0,0],\"title\":\"Variable\"},\"id\":\"20098\",\"type\":\"Legend\"},{\"attributes\":{\"line_alpha\":0.2,\"line_color\":\"#fc4f30\",\"line_width\":2,\"x\":{\"field\":\"year\"},\"y\":{\"field\":\"value\"}},\"id\":\"20106\",\"type\":\"Line\"},{\"attributes\":{\"line_alpha\":0.1,\"line_color\":\"#fc4f30\",\"line_width\":2,\"x\":{\"field\":\"year\"},\"y\":{\"field\":\"value\"}},\"id\":\"20105\",\"type\":\"Line\"},{\"attributes\":{},\"id\":\"20047\",\"type\":\"LinearScale\"},{\"attributes\":{\"line_color\":\"#fc4f30\",\"line_width\":2,\"x\":{\"field\":\"year\"},\"y\":{\"field\":\"value\"}},\"id\":\"20121\",\"type\":\"Line\"},{\"attributes\":{\"axis_label\":\"Year\",\"coordinates\":null,\"formatter\":{\"id\":\"20074\"},\"group\":null,\"major_label_orientation\":1.5707963267948966,\"major_label_policy\":{\"id\":\"20075\"},\"ticker\":{\"id\":\"20050\"}},\"id\":\"20049\",\"type\":\"LinearAxis\"},{\"attributes\":{\"margin\":[20,20,20,20],\"min_width\":250,\"options\":[\"Alamo Square\",\"Anza Vista\",\"Bayview\",\"Buena Vista Park\",\"Central Richmond\",\"Central Sunset\",\"Corona Heights\",\"Cow Hollow\",\"Croker Amazon\",\"Diamond Heights\",\"Downtown \",\"Eureka Valley/Dolores Heights\",\"Excelsior\",\"Financial District North\",\"Financial District South\",\"Forest Knolls\",\"Glen Park\",\"Golden Gate Heights\",\"Haight Ashbury\",\"Hayes Valley\",\"Hunters Point\",\"Ingleside \",\"Inner Mission\",\"Inner Parkside\",\"Inner Richmond\",\"Inner Sunset\",\"Jordan Park/Laurel Heights\",\"Lake --The Presidio\",\"Lone Mountain\",\"Lower Pacific Heights\",\"Marina\",\"Miraloma Park\",\"Mission Bay\",\"Mission Dolores\",\"Mission Terrace\",\"Nob Hill\",\"Noe Valley\",\"Oceanview\",\"Outer Parkside\",\"Outer Richmond \",\"Outer Sunset\",\"Pacific Heights\",\"Park North\",\"Parkside\",\"Parnassus/Ashbury Heights\",\"Portola\",\"Potrero Hill\",\"Presidio Heights\",\"Russian Hill\",\"South Beach\",\"South of Market\",\"Sunnyside\",\"Telegraph Hill\",\"Twin Peaks\",\"Union Square District\",\"Van Ness/ Civic Center\",\"West Portal\",\"Western Addition\",\"Yerba Buena\",\"Bernal Heights \",\"Clarendon Heights\",\"Duboce Triangle\",\"Ingleside Heights\",\"North Beach\",\"North Waterfront\",\"Outer Mission\",\"Westwood Highlands\",\"Merced Heights\",\"Midtown Terrace\",\"Visitacion Valley\",\"Silver Terrace\",\"Westwood Park\",\"Bayview Heights\"],\"title\":\"neighborhood\",\"value\":\"Alamo Square\",\"width\":250},\"id\":\"20233\",\"type\":\"panel.models.widgets.CustomSelect\"},{\"attributes\":{\"margin\":[5,5,5,5],\"name\":\"VSpacer58635\",\"sizing_mode\":\"stretch_height\"},\"id\":\"20231\",\"type\":\"Spacer\"},{\"attributes\":{\"coordinates\":null,\"group\":null,\"text\":\"Housing Prices\",\"text_color\":\"black\",\"text_font_size\":\"12pt\"},\"id\":\"20041\",\"type\":\"Title\"},{\"attributes\":{},\"id\":\"20054\",\"type\":\"BasicTicker\"},{\"attributes\":{\"children\":[{\"id\":\"20031\"},{\"id\":\"20040\"},{\"id\":\"20229\"},{\"id\":\"20230\"}],\"margin\":[0,0,0,0],\"name\":\"Row58629\"},\"id\":\"20030\",\"type\":\"Row\"},{\"attributes\":{},\"id\":\"20057\",\"type\":\"SaveTool\"},{\"attributes\":{},\"id\":\"20095\",\"type\":\"UnionRenderers\"},{\"attributes\":{\"margin\":[5,5,5,5],\"name\":\"HSpacer58638\",\"sizing_mode\":\"stretch_width\"},\"id\":\"20031\",\"type\":\"Spacer\"},{\"attributes\":{\"source\":{\"id\":\"20081\"}},\"id\":\"20088\",\"type\":\"CDSView\"},{\"attributes\":{\"format\":\"%.0f\"},\"id\":\"20072\",\"type\":\"PrintfTickFormatter\"},{\"attributes\":{\"children\":[{\"id\":\"20233\"}],\"css_classes\":[\"panel-widget-box\"],\"margin\":[5,5,5,5],\"name\":\"WidgetBox58630\"},\"id\":\"20232\",\"type\":\"Column\"},{\"attributes\":{\"margin\":[5,5,5,5],\"name\":\"VSpacer58636\",\"sizing_mode\":\"stretch_height\"},\"id\":\"20234\",\"type\":\"Spacer\"},{\"attributes\":{\"coordinates\":null,\"data_source\":{\"id\":\"20101\"},\"glyph\":{\"id\":\"20104\"},\"group\":null,\"hover_glyph\":null,\"muted_glyph\":{\"id\":\"20106\"},\"nonselection_glyph\":{\"id\":\"20105\"},\"selection_glyph\":{\"id\":\"20121\"},\"view\":{\"id\":\"20108\"}},\"id\":\"20107\",\"type\":\"GlyphRenderer\"},{\"attributes\":{},\"id\":\"20058\",\"type\":\"PanTool\"},{\"attributes\":{\"end\":2016.0,\"reset_end\":2016.0,\"reset_start\":2010.0,\"start\":2010.0,\"tags\":[[[\"year\",\"year\",null]]]},\"id\":\"20034\",\"type\":\"Range1d\"},{\"attributes\":{\"line_color\":\"#fc4f30\",\"line_width\":2,\"x\":{\"field\":\"year\"},\"y\":{\"field\":\"value\"}},\"id\":\"20104\",\"type\":\"Line\"},{\"attributes\":{\"source\":{\"id\":\"20101\"}},\"id\":\"20108\",\"type\":\"CDSView\"}],\"root_ids\":[\"20030\",\"20268\"]},\"title\":\"Bokeh Application\",\"version\":\"2.4.1\"}};\n",
       "    var render_items = [{\"docid\":\"8e645d33-12eb-4258-8a15-54f7024f3ca0\",\"root_ids\":[\"20030\"],\"roots\":{\"20030\":\"15eea98d-ed15-47bb-b7a8-a494720fa107\"}}];\n",
       "    root.Bokeh.embed.embed_items_notebook(docs_json, render_items);\n",
       "  }\n",
       "  if (root.Bokeh !== undefined && root.Bokeh.Panel !== undefined) {\n",
       "    embed_document(root);\n",
       "  } else {\n",
       "    var attempts = 0;\n",
       "    var timer = setInterval(function(root) {\n",
       "      if (root.Bokeh !== undefined && root.Bokeh.Panel !== undefined) {\n",
       "        clearInterval(timer);\n",
       "        embed_document(root);\n",
       "      } else if (document.readyState == \"complete\") {\n",
       "        attempts++;\n",
       "        if (attempts > 200) {\n",
       "          clearInterval(timer);\n",
       "          console.log(\"Bokeh: ERROR: Unable to run BokehJS code because BokehJS library is missing\");\n",
       "        }\n",
       "      }\n",
       "    }, 25, root)\n",
       "  }\n",
       "})(window);</script>"
      ],
      "text/plain": [
       ":DynamicMap   [neighborhood]\n",
       "   :NdOverlay   [Variable]\n",
       "      :Curve   [year]   (value)"
      ]
     },
     "execution_count": 240,
     "metadata": {
      "application/vnd.holoviews_exec.v0+json": {
       "id": "20030"
      }
     },
     "output_type": "execute_result"
    }
   ],
   "source": [
    "# Use hvplot to create an interactive line plot of the average price per square foot\n",
    "# The plot should have a dropdown selector for the neighborhood\n",
    "prices_by_year_by_neighborhood.hvplot(\n",
    "    title='Housing Prices',\n",
    "    xlabel='Year',\n",
    "    ylabel=\"Prices\",\n",
    "    rot=90,\n",
    "    groupby='neighborhood'\n",
    ").opts(yformatter='%.0f')"
   ]
  },
  {
   "cell_type": "markdown",
   "metadata": {},
   "source": [
    "### Step 6: Use the interactive visualization to answer the following question:"
   ]
  },
  {
   "cell_type": "markdown",
   "metadata": {},
   "source": [
    "**Question:** For the Anza Vista neighborhood, is the average sale price per square foot for 2016 more or less than the price that’s listed for 2012? \n",
    "**Answer:**Less than the prices of  2012\n"
   ]
  },
  {
   "cell_type": "markdown",
   "metadata": {},
   "source": [
    "---"
   ]
  },
  {
   "cell_type": "markdown",
   "metadata": {},
   "source": [
    "## Build an Interactive Neighborhood Map\n",
    "\n",
    "For this part of the assignment, explore the geospatial relationships in the data by using interactive visualizations with hvPlot and GeoViews. To build your map, use the `sfo_data_df` DataFrame (created during the initial import), which includes the neighborhood location data with the average prices. To do all this, complete the following steps:\n",
    "\n",
    "1. Read the `neighborhood_coordinates.csv` file from the `Resources` folder into the notebook, and create a DataFrame named `neighborhood_locations_df`. Be sure to set the `index_col` of the DataFrame as “Neighborhood”.\n",
    "\n",
    "2. Using the original `sfo_data_df` Dataframe, create a DataFrame named `all_neighborhood_info_df` that groups the data by neighborhood. Aggregate the results by the `mean` of the group.\n",
    "\n",
    "3. Review the two code cells that concatenate the `neighborhood_locations_df` DataFrame with the `all_neighborhood_info_df` DataFrame. Note that the first cell uses the [Pandas concat function](https://pandas.pydata.org/pandas-docs/stable/reference/api/pandas.concat.html) to create a DataFrame named `all_neighborhoods_df`. The second cell cleans the data and sets the “Neighborhood” column. Be sure to run these cells to create the `all_neighborhoods_df` DataFrame, which you’ll need to create the geospatial visualization.\n",
    "\n",
    "4. Using hvPlot with GeoViews enabled, create a `points` plot for the `all_neighborhoods_df` DataFrame. Be sure to do the following:\n",
    "\n",
    "    * Set the `size` parameter to “sale_price_sqr_foot”.\n",
    "\n",
    "    * Set the `color` parameter to “gross_rent”.\n",
    "\n",
    "    * Set the `size_max` parameter to “25”.\n",
    "\n",
    "    * Set the `zoom` parameter to “11”.\n",
    "\n",
    "Note that your resulting plot should appear similar to the following image:\n",
    "\n",
    "![A screenshot depicts an example of a scatter plot created with hvPlot and GeoViews.](Images/6-4-geoviews-plot.png)\n",
    "\n",
    "5. Use the interactive map to answer the following question:\n",
    "\n",
    "    * Which neighborhood has the highest gross rent, and which has the highest sale price per square foot?\n"
   ]
  },
  {
   "cell_type": "markdown",
   "metadata": {},
   "source": [
    "### Step 1: Read the `neighborhood_coordinates.csv` file from the `Resources` folder into the notebook, and create a DataFrame named `neighborhood_locations_df`. Be sure to set the `index_col` of the DataFrame as “Neighborhood”."
   ]
  },
  {
   "cell_type": "code",
   "execution_count": 241,
   "metadata": {},
   "outputs": [
    {
     "data": {
      "text/html": [
       "<div>\n",
       "<style scoped>\n",
       "    .dataframe tbody tr th:only-of-type {\n",
       "        vertical-align: middle;\n",
       "    }\n",
       "\n",
       "    .dataframe tbody tr th {\n",
       "        vertical-align: top;\n",
       "    }\n",
       "\n",
       "    .dataframe thead th {\n",
       "        text-align: right;\n",
       "    }\n",
       "</style>\n",
       "<table border=\"1\" class=\"dataframe\">\n",
       "  <thead>\n",
       "    <tr style=\"text-align: right;\">\n",
       "      <th></th>\n",
       "      <th>Lat</th>\n",
       "      <th>Lon</th>\n",
       "    </tr>\n",
       "    <tr>\n",
       "      <th>Neighborhood</th>\n",
       "      <th></th>\n",
       "      <th></th>\n",
       "    </tr>\n",
       "  </thead>\n",
       "  <tbody>\n",
       "    <tr>\n",
       "      <th>Alamo Square</th>\n",
       "      <td>37.791012</td>\n",
       "      <td>-122.402100</td>\n",
       "    </tr>\n",
       "    <tr>\n",
       "      <th>Anza Vista</th>\n",
       "      <td>37.779598</td>\n",
       "      <td>-122.443451</td>\n",
       "    </tr>\n",
       "    <tr>\n",
       "      <th>Bayview</th>\n",
       "      <td>37.734670</td>\n",
       "      <td>-122.401060</td>\n",
       "    </tr>\n",
       "    <tr>\n",
       "      <th>Bayview Heights</th>\n",
       "      <td>37.728740</td>\n",
       "      <td>-122.410980</td>\n",
       "    </tr>\n",
       "    <tr>\n",
       "      <th>Bernal Heights</th>\n",
       "      <td>37.728630</td>\n",
       "      <td>-122.443050</td>\n",
       "    </tr>\n",
       "  </tbody>\n",
       "</table>\n",
       "</div>"
      ],
      "text/plain": [
       "                       Lat         Lon\n",
       "Neighborhood                          \n",
       "Alamo Square     37.791012 -122.402100\n",
       "Anza Vista       37.779598 -122.443451\n",
       "Bayview          37.734670 -122.401060\n",
       "Bayview Heights  37.728740 -122.410980\n",
       "Bernal Heights   37.728630 -122.443050"
      ]
     },
     "execution_count": 241,
     "metadata": {},
     "output_type": "execute_result"
    }
   ],
   "source": [
    "# Load neighborhoods coordinates data\n",
    "csv_path = Path('neighborhoods_coordinates.csv')\n",
    "neighborhood_locations_df = pd.read_csv(csv_path)\n",
    "\n",
    "neighborhood_locations_df=neighborhood_locations_df.set_index('Neighborhood')\n",
    "\n",
    "# Review the DataFrame\n",
    "neighborhood_locations_df.head()"
   ]
  },
  {
   "cell_type": "markdown",
   "metadata": {},
   "source": [
    "### Step 2: Using the original `sfo_data_df` Dataframe, create a DataFrame named `all_neighborhood_info_df` that groups the data by neighborhood. Aggregate the results by the `mean` of the group."
   ]
  },
  {
   "cell_type": "code",
   "execution_count": 242,
   "metadata": {},
   "outputs": [
    {
     "data": {
      "text/html": [
       "<div>\n",
       "<style scoped>\n",
       "    .dataframe tbody tr th:only-of-type {\n",
       "        vertical-align: middle;\n",
       "    }\n",
       "\n",
       "    .dataframe tbody tr th {\n",
       "        vertical-align: top;\n",
       "    }\n",
       "\n",
       "    .dataframe thead th {\n",
       "        text-align: right;\n",
       "    }\n",
       "</style>\n",
       "<table border=\"1\" class=\"dataframe\">\n",
       "  <thead>\n",
       "    <tr style=\"text-align: right;\">\n",
       "      <th></th>\n",
       "      <th>sale_price_sqr_foot</th>\n",
       "      <th>housing_units</th>\n",
       "      <th>gross_rent</th>\n",
       "    </tr>\n",
       "    <tr>\n",
       "      <th>neighborhood</th>\n",
       "      <th></th>\n",
       "      <th></th>\n",
       "      <th></th>\n",
       "    </tr>\n",
       "  </thead>\n",
       "  <tbody>\n",
       "    <tr>\n",
       "      <th>Alamo Square</th>\n",
       "      <td>366.020712</td>\n",
       "      <td>378401.0</td>\n",
       "      <td>2817.285714</td>\n",
       "    </tr>\n",
       "    <tr>\n",
       "      <th>Anza Vista</th>\n",
       "      <td>373.382198</td>\n",
       "      <td>379050.0</td>\n",
       "      <td>3031.833333</td>\n",
       "    </tr>\n",
       "    <tr>\n",
       "      <th>Bayview</th>\n",
       "      <td>204.588623</td>\n",
       "      <td>376454.0</td>\n",
       "      <td>2318.400000</td>\n",
       "    </tr>\n",
       "    <tr>\n",
       "      <th>Bayview Heights</th>\n",
       "      <td>590.792839</td>\n",
       "      <td>382295.0</td>\n",
       "      <td>3739.000000</td>\n",
       "    </tr>\n",
       "    <tr>\n",
       "      <th>Bernal Heights</th>\n",
       "      <td>576.746488</td>\n",
       "      <td>379374.5</td>\n",
       "      <td>3080.333333</td>\n",
       "    </tr>\n",
       "  </tbody>\n",
       "</table>\n",
       "</div>"
      ],
      "text/plain": [
       "                 sale_price_sqr_foot  housing_units   gross_rent\n",
       "neighborhood                                                    \n",
       "Alamo Square              366.020712       378401.0  2817.285714\n",
       "Anza Vista                373.382198       379050.0  3031.833333\n",
       "Bayview                   204.588623       376454.0  2318.400000\n",
       "Bayview Heights           590.792839       382295.0  3739.000000\n",
       "Bernal Heights            576.746488       379374.5  3080.333333"
      ]
     },
     "execution_count": 242,
     "metadata": {},
     "output_type": "execute_result"
    }
   ],
   "source": [
    "# Calculate the mean values for each neighborhood\n",
    "\n",
    "all_neighborhood_info_df = sfo_data_df.groupby(['neighborhood']).mean()\n",
    "\n",
    "# Review the resulting DataFrame\n",
    "all_neighborhood_info_df.head()"
   ]
  },
  {
   "cell_type": "markdown",
   "metadata": {},
   "source": [
    "### Step 3: Review the two code cells that concatenate the `neighborhood_locations_df` DataFrame with the `all_neighborhood_info_df` DataFrame. \n",
    "\n",
    "Note that the first cell uses the [Pandas concat function](https://pandas.pydata.org/pandas-docs/stable/reference/api/pandas.concat.html) to create a DataFrame named `all_neighborhoods_df`. \n",
    "\n",
    "The second cell cleans the data and sets the “Neighborhood” column. \n",
    "\n",
    "Be sure to run these cells to create the `all_neighborhoods_df` DataFrame, which you’ll need to create the geospatial visualization."
   ]
  },
  {
   "cell_type": "code",
   "execution_count": 243,
   "metadata": {},
   "outputs": [
    {
     "data": {
      "text/html": [
       "<div>\n",
       "<style scoped>\n",
       "    .dataframe tbody tr th:only-of-type {\n",
       "        vertical-align: middle;\n",
       "    }\n",
       "\n",
       "    .dataframe tbody tr th {\n",
       "        vertical-align: top;\n",
       "    }\n",
       "\n",
       "    .dataframe thead th {\n",
       "        text-align: right;\n",
       "    }\n",
       "</style>\n",
       "<table border=\"1\" class=\"dataframe\">\n",
       "  <thead>\n",
       "    <tr style=\"text-align: right;\">\n",
       "      <th></th>\n",
       "      <th>Lat</th>\n",
       "      <th>Lon</th>\n",
       "      <th>sale_price_sqr_foot</th>\n",
       "      <th>housing_units</th>\n",
       "      <th>gross_rent</th>\n",
       "    </tr>\n",
       "  </thead>\n",
       "  <tbody>\n",
       "    <tr>\n",
       "      <th>Alamo Square</th>\n",
       "      <td>37.791012</td>\n",
       "      <td>-122.402100</td>\n",
       "      <td>366.020712</td>\n",
       "      <td>378401.0</td>\n",
       "      <td>2817.285714</td>\n",
       "    </tr>\n",
       "    <tr>\n",
       "      <th>Anza Vista</th>\n",
       "      <td>37.779598</td>\n",
       "      <td>-122.443451</td>\n",
       "      <td>373.382198</td>\n",
       "      <td>379050.0</td>\n",
       "      <td>3031.833333</td>\n",
       "    </tr>\n",
       "    <tr>\n",
       "      <th>Bayview</th>\n",
       "      <td>37.734670</td>\n",
       "      <td>-122.401060</td>\n",
       "      <td>204.588623</td>\n",
       "      <td>376454.0</td>\n",
       "      <td>2318.400000</td>\n",
       "    </tr>\n",
       "    <tr>\n",
       "      <th>Bayview Heights</th>\n",
       "      <td>37.728740</td>\n",
       "      <td>-122.410980</td>\n",
       "      <td>590.792839</td>\n",
       "      <td>382295.0</td>\n",
       "      <td>3739.000000</td>\n",
       "    </tr>\n",
       "    <tr>\n",
       "      <th>Bernal Heights</th>\n",
       "      <td>37.728630</td>\n",
       "      <td>-122.443050</td>\n",
       "      <td>NaN</td>\n",
       "      <td>NaN</td>\n",
       "      <td>NaN</td>\n",
       "    </tr>\n",
       "  </tbody>\n",
       "</table>\n",
       "</div>"
      ],
      "text/plain": [
       "                       Lat         Lon  sale_price_sqr_foot  housing_units  \\\n",
       "Alamo Square     37.791012 -122.402100           366.020712       378401.0   \n",
       "Anza Vista       37.779598 -122.443451           373.382198       379050.0   \n",
       "Bayview          37.734670 -122.401060           204.588623       376454.0   \n",
       "Bayview Heights  37.728740 -122.410980           590.792839       382295.0   \n",
       "Bernal Heights   37.728630 -122.443050                  NaN            NaN   \n",
       "\n",
       "                  gross_rent  \n",
       "Alamo Square     2817.285714  \n",
       "Anza Vista       3031.833333  \n",
       "Bayview          2318.400000  \n",
       "Bayview Heights  3739.000000  \n",
       "Bernal Heights           NaN  "
      ]
     },
     "metadata": {},
     "output_type": "display_data"
    },
    {
     "data": {
      "text/html": [
       "<div>\n",
       "<style scoped>\n",
       "    .dataframe tbody tr th:only-of-type {\n",
       "        vertical-align: middle;\n",
       "    }\n",
       "\n",
       "    .dataframe tbody tr th {\n",
       "        vertical-align: top;\n",
       "    }\n",
       "\n",
       "    .dataframe thead th {\n",
       "        text-align: right;\n",
       "    }\n",
       "</style>\n",
       "<table border=\"1\" class=\"dataframe\">\n",
       "  <thead>\n",
       "    <tr style=\"text-align: right;\">\n",
       "      <th></th>\n",
       "      <th>Lat</th>\n",
       "      <th>Lon</th>\n",
       "      <th>sale_price_sqr_foot</th>\n",
       "      <th>housing_units</th>\n",
       "      <th>gross_rent</th>\n",
       "    </tr>\n",
       "  </thead>\n",
       "  <tbody>\n",
       "    <tr>\n",
       "      <th>Yerba Buena</th>\n",
       "      <td>37.79298</td>\n",
       "      <td>-122.39636</td>\n",
       "      <td>576.709848</td>\n",
       "      <td>377427.5</td>\n",
       "      <td>2555.166667</td>\n",
       "    </tr>\n",
       "    <tr>\n",
       "      <th>Bernal Heights</th>\n",
       "      <td>NaN</td>\n",
       "      <td>NaN</td>\n",
       "      <td>576.746488</td>\n",
       "      <td>379374.5</td>\n",
       "      <td>3080.333333</td>\n",
       "    </tr>\n",
       "    <tr>\n",
       "      <th>Downtown</th>\n",
       "      <td>NaN</td>\n",
       "      <td>NaN</td>\n",
       "      <td>391.434378</td>\n",
       "      <td>378401.0</td>\n",
       "      <td>2817.285714</td>\n",
       "    </tr>\n",
       "    <tr>\n",
       "      <th>Ingleside</th>\n",
       "      <td>NaN</td>\n",
       "      <td>NaN</td>\n",
       "      <td>367.895144</td>\n",
       "      <td>377427.5</td>\n",
       "      <td>2509.000000</td>\n",
       "    </tr>\n",
       "    <tr>\n",
       "      <th>Outer Richmond</th>\n",
       "      <td>NaN</td>\n",
       "      <td>NaN</td>\n",
       "      <td>473.900773</td>\n",
       "      <td>378401.0</td>\n",
       "      <td>2817.285714</td>\n",
       "    </tr>\n",
       "  </tbody>\n",
       "</table>\n",
       "</div>"
      ],
      "text/plain": [
       "                      Lat        Lon  sale_price_sqr_foot  housing_units  \\\n",
       "Yerba Buena      37.79298 -122.39636           576.709848       377427.5   \n",
       "Bernal Heights        NaN        NaN           576.746488       379374.5   \n",
       "Downtown              NaN        NaN           391.434378       378401.0   \n",
       "Ingleside             NaN        NaN           367.895144       377427.5   \n",
       "Outer Richmond        NaN        NaN           473.900773       378401.0   \n",
       "\n",
       "                  gross_rent  \n",
       "Yerba Buena      2555.166667  \n",
       "Bernal Heights   3080.333333  \n",
       "Downtown         2817.285714  \n",
       "Ingleside        2509.000000  \n",
       "Outer Richmond   2817.285714  "
      ]
     },
     "metadata": {},
     "output_type": "display_data"
    }
   ],
   "source": [
    "# Using the Pandas `concat` function, join the \n",
    "# neighborhood_locations_df and the all_neighborhood_info_df DataFrame\n",
    "# The axis of the concatenation is \"columns\".\n",
    "# The concat function will automatially combine columns with\n",
    "# identical information, while keeping the additional columns.\n",
    "all_neighborhoods_df = pd.concat(\n",
    "    [neighborhood_locations_df, all_neighborhood_info_df], \n",
    "    axis=\"columns\",\n",
    "    sort=False\n",
    ")\n",
    "\n",
    "# Review the resulting DataFrame\n",
    "display(all_neighborhoods_df.head())\n",
    "display(all_neighborhoods_df.tail())\n"
   ]
  },
  {
   "cell_type": "code",
   "execution_count": 244,
   "metadata": {},
   "outputs": [
    {
     "data": {
      "text/html": [
       "<div>\n",
       "<style scoped>\n",
       "    .dataframe tbody tr th:only-of-type {\n",
       "        vertical-align: middle;\n",
       "    }\n",
       "\n",
       "    .dataframe tbody tr th {\n",
       "        vertical-align: top;\n",
       "    }\n",
       "\n",
       "    .dataframe thead th {\n",
       "        text-align: right;\n",
       "    }\n",
       "</style>\n",
       "<table border=\"1\" class=\"dataframe\">\n",
       "  <thead>\n",
       "    <tr style=\"text-align: right;\">\n",
       "      <th></th>\n",
       "      <th>Neighborhood</th>\n",
       "      <th>Lat</th>\n",
       "      <th>Lon</th>\n",
       "      <th>sale_price_sqr_foot</th>\n",
       "      <th>housing_units</th>\n",
       "      <th>gross_rent</th>\n",
       "    </tr>\n",
       "  </thead>\n",
       "  <tbody>\n",
       "    <tr>\n",
       "      <th>0</th>\n",
       "      <td>Alamo Square</td>\n",
       "      <td>37.791012</td>\n",
       "      <td>-122.402100</td>\n",
       "      <td>366.020712</td>\n",
       "      <td>378401.0</td>\n",
       "      <td>2817.285714</td>\n",
       "    </tr>\n",
       "    <tr>\n",
       "      <th>1</th>\n",
       "      <td>Anza Vista</td>\n",
       "      <td>37.779598</td>\n",
       "      <td>-122.443451</td>\n",
       "      <td>373.382198</td>\n",
       "      <td>379050.0</td>\n",
       "      <td>3031.833333</td>\n",
       "    </tr>\n",
       "    <tr>\n",
       "      <th>2</th>\n",
       "      <td>Bayview</td>\n",
       "      <td>37.734670</td>\n",
       "      <td>-122.401060</td>\n",
       "      <td>204.588623</td>\n",
       "      <td>376454.0</td>\n",
       "      <td>2318.400000</td>\n",
       "    </tr>\n",
       "    <tr>\n",
       "      <th>3</th>\n",
       "      <td>Bayview Heights</td>\n",
       "      <td>37.728740</td>\n",
       "      <td>-122.410980</td>\n",
       "      <td>590.792839</td>\n",
       "      <td>382295.0</td>\n",
       "      <td>3739.000000</td>\n",
       "    </tr>\n",
       "    <tr>\n",
       "      <th>5</th>\n",
       "      <td>Buena Vista Park</td>\n",
       "      <td>37.768160</td>\n",
       "      <td>-122.439330</td>\n",
       "      <td>452.680591</td>\n",
       "      <td>378076.5</td>\n",
       "      <td>2698.833333</td>\n",
       "    </tr>\n",
       "  </tbody>\n",
       "</table>\n",
       "</div>"
      ],
      "text/plain": [
       "       Neighborhood        Lat         Lon  sale_price_sqr_foot  \\\n",
       "0      Alamo Square  37.791012 -122.402100           366.020712   \n",
       "1        Anza Vista  37.779598 -122.443451           373.382198   \n",
       "2           Bayview  37.734670 -122.401060           204.588623   \n",
       "3   Bayview Heights  37.728740 -122.410980           590.792839   \n",
       "5  Buena Vista Park  37.768160 -122.439330           452.680591   \n",
       "\n",
       "   housing_units   gross_rent  \n",
       "0       378401.0  2817.285714  \n",
       "1       379050.0  3031.833333  \n",
       "2       376454.0  2318.400000  \n",
       "3       382295.0  3739.000000  \n",
       "5       378076.5  2698.833333  "
      ]
     },
     "metadata": {},
     "output_type": "display_data"
    },
    {
     "data": {
      "text/html": [
       "<div>\n",
       "<style scoped>\n",
       "    .dataframe tbody tr th:only-of-type {\n",
       "        vertical-align: middle;\n",
       "    }\n",
       "\n",
       "    .dataframe tbody tr th {\n",
       "        vertical-align: top;\n",
       "    }\n",
       "\n",
       "    .dataframe thead th {\n",
       "        text-align: right;\n",
       "    }\n",
       "</style>\n",
       "<table border=\"1\" class=\"dataframe\">\n",
       "  <thead>\n",
       "    <tr style=\"text-align: right;\">\n",
       "      <th></th>\n",
       "      <th>Neighborhood</th>\n",
       "      <th>Lat</th>\n",
       "      <th>Lon</th>\n",
       "      <th>sale_price_sqr_foot</th>\n",
       "      <th>housing_units</th>\n",
       "      <th>gross_rent</th>\n",
       "    </tr>\n",
       "  </thead>\n",
       "  <tbody>\n",
       "    <tr>\n",
       "      <th>68</th>\n",
       "      <td>West Portal</td>\n",
       "      <td>37.74026</td>\n",
       "      <td>-122.463880</td>\n",
       "      <td>498.488485</td>\n",
       "      <td>376940.75</td>\n",
       "      <td>2515.500000</td>\n",
       "    </tr>\n",
       "    <tr>\n",
       "      <th>69</th>\n",
       "      <td>Western Addition</td>\n",
       "      <td>37.79298</td>\n",
       "      <td>-122.435790</td>\n",
       "      <td>307.562201</td>\n",
       "      <td>377427.50</td>\n",
       "      <td>2555.166667</td>\n",
       "    </tr>\n",
       "    <tr>\n",
       "      <th>70</th>\n",
       "      <td>Westwood Highlands</td>\n",
       "      <td>37.73470</td>\n",
       "      <td>-122.456854</td>\n",
       "      <td>533.703935</td>\n",
       "      <td>376454.00</td>\n",
       "      <td>2250.500000</td>\n",
       "    </tr>\n",
       "    <tr>\n",
       "      <th>71</th>\n",
       "      <td>Westwood Park</td>\n",
       "      <td>37.73415</td>\n",
       "      <td>-122.457000</td>\n",
       "      <td>687.087575</td>\n",
       "      <td>382295.00</td>\n",
       "      <td>3959.000000</td>\n",
       "    </tr>\n",
       "    <tr>\n",
       "      <th>72</th>\n",
       "      <td>Yerba Buena</td>\n",
       "      <td>37.79298</td>\n",
       "      <td>-122.396360</td>\n",
       "      <td>576.709848</td>\n",
       "      <td>377427.50</td>\n",
       "      <td>2555.166667</td>\n",
       "    </tr>\n",
       "  </tbody>\n",
       "</table>\n",
       "</div>"
      ],
      "text/plain": [
       "          Neighborhood       Lat         Lon  sale_price_sqr_foot  \\\n",
       "68         West Portal  37.74026 -122.463880           498.488485   \n",
       "69    Western Addition  37.79298 -122.435790           307.562201   \n",
       "70  Westwood Highlands  37.73470 -122.456854           533.703935   \n",
       "71       Westwood Park  37.73415 -122.457000           687.087575   \n",
       "72         Yerba Buena  37.79298 -122.396360           576.709848   \n",
       "\n",
       "    housing_units   gross_rent  \n",
       "68      376940.75  2515.500000  \n",
       "69      377427.50  2555.166667  \n",
       "70      376454.00  2250.500000  \n",
       "71      382295.00  3959.000000  \n",
       "72      377427.50  2555.166667  "
      ]
     },
     "metadata": {},
     "output_type": "display_data"
    }
   ],
   "source": [
    "# Call the dropna function to remove any neighborhoods that do not have data\n",
    "all_neighborhoods_df = all_neighborhoods_df.reset_index().dropna()\n",
    "\n",
    "# Rename the \"index\" column as \"Neighborhood\" for use in the Visualization\n",
    "all_neighborhoods_df = all_neighborhoods_df.rename(columns={\"index\": \"Neighborhood\"})\n",
    "\n",
    "# Review the resulting DataFrame\n",
    "display(all_neighborhoods_df.head())\n",
    "display(all_neighborhoods_df.tail())"
   ]
  },
  {
   "cell_type": "markdown",
   "metadata": {},
   "source": [
    "### Step 4: Using hvPlot with GeoViews enabled, create a `points` plot for the `all_neighborhoods_df` DataFrame. Be sure to do the following:\n",
    "\n",
    "* Set the `geo` parameter to True.\n",
    "* Set the `size` parameter to “sale_price_sqr_foot”.\n",
    "* Set the `color` parameter to “gross_rent”.\n",
    "* Set the `frame_width` parameter to 700.\n",
    "* Set the `frame_height` parameter to 500.\n",
    "* Include a descriptive title."
   ]
  },
  {
   "cell_type": "code",
   "execution_count": 245,
   "metadata": {},
   "outputs": [
    {
     "data": {},
     "metadata": {},
     "output_type": "display_data"
    },
    {
     "data": {
      "application/vnd.holoviews_exec.v0+json": "",
      "text/html": [
       "<div id='20324'>\n",
       "\n",
       "\n",
       "\n",
       "\n",
       "\n",
       "  <div class=\"bk-root\" id=\"f4904281-c4dc-47b8-b905-f8e08d8f7c62\" data-root-id=\"20324\"></div>\n",
       "</div>\n",
       "<script type=\"application/javascript\">(function(root) {\n",
       "  function embed_document(root) {\n",
       "    var docs_json = {\"81ead7b2-f9d5-4494-9adc-b39b7a8cb330\":{\"defs\":[{\"extends\":null,\"module\":null,\"name\":\"ReactiveHTML1\",\"overrides\":[],\"properties\":[]},{\"extends\":null,\"module\":null,\"name\":\"FlexBox1\",\"overrides\":[],\"properties\":[{\"default\":\"flex-start\",\"kind\":null,\"name\":\"align_content\"},{\"default\":\"flex-start\",\"kind\":null,\"name\":\"align_items\"},{\"default\":\"row\",\"kind\":null,\"name\":\"flex_direction\"},{\"default\":\"wrap\",\"kind\":null,\"name\":\"flex_wrap\"},{\"default\":\"flex-start\",\"kind\":null,\"name\":\"justify_content\"}]},{\"extends\":null,\"module\":null,\"name\":\"GridStack1\",\"overrides\":[],\"properties\":[{\"default\":\"warn\",\"kind\":null,\"name\":\"mode\"},{\"default\":null,\"kind\":null,\"name\":\"ncols\"},{\"default\":null,\"kind\":null,\"name\":\"nrows\"},{\"default\":true,\"kind\":null,\"name\":\"allow_resize\"},{\"default\":true,\"kind\":null,\"name\":\"allow_drag\"},{\"default\":[],\"kind\":null,\"name\":\"state\"}]},{\"extends\":null,\"module\":null,\"name\":\"click1\",\"overrides\":[],\"properties\":[{\"default\":\"\",\"kind\":null,\"name\":\"terminal_output\"},{\"default\":\"\",\"kind\":null,\"name\":\"debug_name\"},{\"default\":0,\"kind\":null,\"name\":\"clears\"}]},{\"extends\":null,\"module\":null,\"name\":\"TemplateActions1\",\"overrides\":[],\"properties\":[{\"default\":0,\"kind\":null,\"name\":\"open_modal\"},{\"default\":0,\"kind\":null,\"name\":\"close_modal\"}]},{\"extends\":null,\"module\":null,\"name\":\"MaterialTemplateActions1\",\"overrides\":[],\"properties\":[{\"default\":0,\"kind\":null,\"name\":\"open_modal\"},{\"default\":0,\"kind\":null,\"name\":\"close_modal\"}]}],\"roots\":{\"references\":[{\"attributes\":{\"zoom_on_axis\":false},\"id\":\"20356\",\"type\":\"WheelZoomTool\"},{\"attributes\":{\"callback\":null,\"formatters\":{\"$x\":{\"id\":\"20413\"},\"$y\":{\"id\":\"20414\"}},\"renderers\":[{\"id\":\"20409\"}],\"tags\":[\"hv_created\"],\"tooltips\":[[\"Lon\",\"$x{custom}\"],[\"Lat\",\"$y{custom}\"],[\"gross_rent\",\"@{gross_rent}\"],[\"sale_price_sqr_foot\",\"@{sale_price_sqr_foot}\"]]},\"id\":\"20334\",\"type\":\"HoverTool\"},{\"attributes\":{\"children\":[{\"id\":\"20325\"},{\"id\":\"20337\"},{\"id\":\"20478\"}],\"margin\":[0,0,0,0],\"name\":\"Row59483\",\"tags\":[\"embedded\"]},\"id\":\"20324\",\"type\":\"Row\"},{\"attributes\":{\"attribution\":\"&copy; <a href=\\\"https://www.openstreetmap.org/copyright\\\">OpenStreetMap</a> contributors\",\"url\":\"https://c.tile.openstreetmap.org/{Z}/{X}/{Y}.png\"},\"id\":\"20395\",\"type\":\"WMTSTileSource\"},{\"attributes\":{\"fill_color\":{\"field\":\"color\",\"transform\":{\"id\":\"20400\"}},\"hatch_color\":{\"field\":\"color\",\"transform\":{\"id\":\"20400\"}},\"line_color\":{\"field\":\"color\",\"transform\":{\"id\":\"20400\"}},\"size\":{\"field\":\"size\"},\"x\":{\"field\":\"Lon\"},\"y\":{\"field\":\"Lat\"}},\"id\":\"20404\",\"type\":\"Scatter\"},{\"attributes\":{},\"id\":\"20354\",\"type\":\"SaveTool\"},{\"attributes\":{\"axis\":{\"id\":\"20350\"},\"coordinates\":null,\"dimension\":1,\"grid_line_color\":null,\"group\":null,\"ticker\":null},\"id\":\"20353\",\"type\":\"Grid\"},{\"attributes\":{},\"id\":\"20411\",\"type\":\"BasicTicker\"},{\"attributes\":{\"high\":3959.0,\"low\":1781.5,\"palette\":[\"#b3fef5\",\"#b0fef5\",\"#adfdf5\",\"#a9fcf5\",\"#a6fbf6\",\"#a3faf6\",\"#a0faf6\",\"#9df9f6\",\"#9af8f6\",\"#97f7f6\",\"#93f7f6\",\"#90f6f6\",\"#8df5f6\",\"#8af4f7\",\"#87f3f7\",\"#83f2f7\",\"#80f2f7\",\"#7df1f7\",\"#79f0f7\",\"#76eff7\",\"#73eef7\",\"#6fedf8\",\"#6cecf8\",\"#68ecf8\",\"#65ebf8\",\"#61eaf8\",\"#5ee9f8\",\"#5ae8f8\",\"#57e7f8\",\"#53e6f8\",\"#50e5f9\",\"#4ce4f9\",\"#49e3f9\",\"#45e2f9\",\"#42e1f9\",\"#3ee0f9\",\"#3bdff9\",\"#38def9\",\"#35ddf9\",\"#32dcf9\",\"#30dbfa\",\"#2ed9fa\",\"#2dd8fa\",\"#2cd7fa\",\"#2bd6fa\",\"#2bd5fa\",\"#2ad3fa\",\"#2ad2fa\",\"#29d1fa\",\"#29d0fb\",\"#29cffb\",\"#28cdfb\",\"#28ccfb\",\"#28cbfb\",\"#28cafb\",\"#28c8fb\",\"#28c7fb\",\"#29c6fb\",\"#29c5fb\",\"#29c4fb\",\"#29c2fb\",\"#2ac1fb\",\"#2ac0fb\",\"#2bbffb\",\"#2bbdfc\",\"#2cbcfc\",\"#2dbbfc\",\"#2db9fc\",\"#2eb8fc\",\"#2fb7fc\",\"#2fb6fc\",\"#30b4fc\",\"#31b3fc\",\"#32b2fc\",\"#32b0fc\",\"#33affc\",\"#33aefc\",\"#34adfc\",\"#34abfc\",\"#34aafc\",\"#35a9fc\",\"#35a8fc\",\"#35a6fc\",\"#35a5fc\",\"#35a4fc\",\"#35a3fc\",\"#35a1fc\",\"#35a0fc\",\"#359ffc\",\"#359dfc\",\"#359cfc\",\"#359bfc\",\"#349afd\",\"#3498fd\",\"#3497fd\",\"#3396fd\",\"#3395fd\",\"#3293fd\",\"#3292fd\",\"#3191fd\",\"#3090fd\",\"#308ffd\",\"#2f8dfd\",\"#2f8cfd\",\"#2e8bfd\",\"#2e8afd\",\"#2d88fd\",\"#2d87fd\",\"#2c86fd\",\"#2c84fd\",\"#2c83fd\",\"#2c82fd\",\"#2b81fd\",\"#2b7ffd\",\"#2b7efd\",\"#2b7dfd\",\"#2b7bfd\",\"#2b7afd\",\"#2b79fd\",\"#2b77fd\",\"#2b76fd\",\"#2b75fd\",\"#2b73fd\",\"#2c72fd\",\"#2c71fd\",\"#2c6ffd\",\"#2c6efd\",\"#2d6cfd\",\"#2d6bfd\",\"#2d6afc\",\"#2e68fc\",\"#2e67fc\",\"#2e65fc\",\"#2e64fc\",\"#2f62fc\",\"#2f61fc\",\"#2f5ffc\",\"#2f5efc\",\"#2f5dfc\",\"#2f5bfc\",\"#2f5afc\",\"#2f58fb\",\"#2f57fb\",\"#2f55fb\",\"#2f53fb\",\"#2f52fb\",\"#2f50fb\",\"#2f4ffb\",\"#2f4dfb\",\"#2e4cfb\",\"#2e4afb\",\"#2e48fb\",\"#2e47fa\",\"#2d45fa\",\"#2d43fa\",\"#2d42fa\",\"#2d40fa\",\"#2c3efa\",\"#2c3dfa\",\"#2b3bf9\",\"#2b39f9\",\"#2a37f9\",\"#2a36f8\",\"#2934f8\",\"#2832f7\",\"#2831f7\",\"#272ff6\",\"#262ef5\",\"#252cf5\",\"#252af4\",\"#2429f3\",\"#2327f2\",\"#2226f1\",\"#2124f0\",\"#2023ef\",\"#1f22ee\",\"#1e20ed\",\"#1d1feb\",\"#1c1eea\",\"#1b1ce9\",\"#1a1be7\",\"#181ae6\",\"#1719e5\",\"#1618e3\",\"#1417e1\",\"#1316e0\",\"#1215de\",\"#1014dc\",\"#0f13db\",\"#0e12d9\",\"#0d11d7\",\"#0c10d5\",\"#0b0fd3\",\"#0a0ed1\",\"#090dd0\",\"#080dce\",\"#080ccc\",\"#070bca\",\"#070ac8\",\"#0709c6\",\"#0708c4\",\"#0707c2\",\"#0707bf\",\"#0806bd\",\"#0806bb\",\"#0905b9\",\"#0904b7\",\"#0a04b5\",\"#0a04b2\",\"#0b03b0\",\"#0c03ae\",\"#0d02ab\",\"#0e02a9\",\"#0e02a7\",\"#0f02a4\",\"#0f01a2\",\"#1001a0\",\"#10019d\",\"#10019b\",\"#100199\",\"#100197\",\"#100194\",\"#0f0192\",\"#0f0190\",\"#0f018e\",\"#0e018b\",\"#0e0189\",\"#0d0187\",\"#0d0185\",\"#0c0183\",\"#0b0181\",\"#0b017e\",\"#0a017c\",\"#09017a\",\"#090178\",\"#080276\",\"#070274\",\"#060272\",\"#060270\",\"#05026e\",\"#04026c\",\"#030269\",\"#030267\",\"#020265\",\"#010263\",\"#010261\",\"#00025f\",\"#00025d\",\"#00025b\",\"#000259\",\"#000257\",\"#000255\",\"#000154\",\"#000152\",\"#000150\",\"#00004e\"]},\"id\":\"20400\",\"type\":\"LinearColorMapper\"},{\"attributes\":{\"fill_alpha\":{\"value\":0.1},\"fill_color\":{\"field\":\"color\",\"transform\":{\"id\":\"20400\"}},\"hatch_alpha\":{\"value\":0.1},\"hatch_color\":{\"field\":\"color\",\"transform\":{\"id\":\"20400\"}},\"line_alpha\":{\"value\":0.1},\"line_color\":{\"field\":\"color\",\"transform\":{\"id\":\"20400\"}},\"size\":{\"field\":\"size\"},\"x\":{\"field\":\"Lon\"},\"y\":{\"field\":\"Lat\"}},\"id\":\"20405\",\"type\":\"Scatter\"},{\"attributes\":{\"bottom_units\":\"screen\",\"coordinates\":null,\"fill_alpha\":0.5,\"fill_color\":\"lightgrey\",\"group\":null,\"left_units\":\"screen\",\"level\":\"overlay\",\"line_alpha\":1.0,\"line_color\":\"black\",\"line_dash\":[4,4],\"line_width\":2,\"right_units\":\"screen\",\"syncable\":false,\"top_units\":\"screen\"},\"id\":\"20359\",\"type\":\"BoxAnnotation\"},{\"attributes\":{\"bar_line_color\":\"black\",\"color_mapper\":{\"id\":\"20400\"},\"coordinates\":null,\"group\":null,\"label_standoff\":8,\"location\":[0,0],\"major_label_policy\":{\"id\":\"20417\"},\"major_tick_line_color\":\"black\",\"ticker\":{\"id\":\"20411\"}},\"id\":\"20412\",\"type\":\"ColorBar\"},{\"attributes\":{\"dimension\":\"lat\"},\"id\":\"20372\",\"type\":\"MercatorTickFormatter\"},{\"attributes\":{\"dimension\":\"lon\"},\"id\":\"20369\",\"type\":\"MercatorTicker\"},{\"attributes\":{\"coordinates\":null,\"group\":null,\"level\":\"glyph\",\"tile_source\":{\"id\":\"20395\"}},\"id\":\"20398\",\"type\":\"TileRenderer\"},{\"attributes\":{},\"id\":\"20355\",\"type\":\"PanTool\"},{\"attributes\":{\"match_aspect\":true,\"overlay\":{\"id\":\"20359\"}},\"id\":\"20357\",\"type\":\"BoxZoomTool\"},{\"attributes\":{\"fill_color\":{\"field\":\"color\",\"transform\":{\"id\":\"20400\"}},\"hatch_color\":{\"field\":\"color\",\"transform\":{\"id\":\"20400\"}},\"line_color\":{\"field\":\"color\",\"transform\":{\"id\":\"20400\"}},\"size\":{\"field\":\"size\"},\"x\":{\"field\":\"Lon\"},\"y\":{\"field\":\"Lat\"}},\"id\":\"20406\",\"type\":\"Scatter\"},{\"attributes\":{\"axis_label\":\"y\",\"coordinates\":null,\"formatter\":{\"id\":\"20372\"},\"group\":null,\"major_label_policy\":{\"id\":\"20382\"},\"ticker\":{\"id\":\"20371\"}},\"id\":\"20350\",\"type\":\"LinearAxis\"},{\"attributes\":{\"dimension\":\"lat\"},\"id\":\"20371\",\"type\":\"MercatorTicker\"},{\"attributes\":{},\"id\":\"20375\",\"type\":\"AllLabels\"},{\"attributes\":{},\"id\":\"20358\",\"type\":\"ResetTool\"},{\"attributes\":{\"axis\":{\"id\":\"20346\"},\"coordinates\":null,\"grid_line_color\":null,\"group\":null,\"ticker\":null},\"id\":\"20349\",\"type\":\"Grid\"},{\"attributes\":{},\"id\":\"20382\",\"type\":\"AllLabels\"},{\"attributes\":{\"code\":\"\\n        var projections = Bokeh.require(\\\"core/util/projections\\\");\\n        var x = special_vars.data_x\\n        var y = special_vars.data_y\\n        if (projections.wgs84_mercator.invert == null) {\\n          var coords = projections.wgs84_mercator.inverse([x, y])\\n        } else {\\n          var coords = projections.wgs84_mercator.invert(x, y)\\n        }\\n        return \\\"\\\" + (coords[1]).toFixed(4)\\n    \"},\"id\":\"20414\",\"type\":\"CustomJSHover\"},{\"attributes\":{},\"id\":\"20417\",\"type\":\"NoOverlap\"},{\"attributes\":{\"data\":{\"Lat\":{\"__ndarray__\":\"DAZSL05bUUERJz5BvFlRQRU76MWOU1FBI8JNG75SUUGFpr+KKVhRQWlQdR2AWVFBHmRUj5xVUUHwUo3KHlZRQamMnCKNWlFBwh7ofZNbUUH1Euga7VFRQYtMcTy6UlFBtgKVpV1YUUEeKP9IbVZRQSPCTRu+UlFBtiBKHU5bUUG2IEodTltRQb9yAcqiVlFBi0xxPLpSUUH2pqnHwFZRQdQYfxjDV1FB1Bh/GMNXUUEhKqF0TFJRQfKTZ2ezUVFBck/MtTxWUUEeZFSPnFVRQbcd1Q5LWFFBHmRUj5xVUUGpjJwijVpRQVISHETAXFFBcdp6raNZUUHCHuh9k1tRQUpmPd6AXFFBuyX+IIhRUUHwUo3KHlZRQXxYeXl8U1FBOpYAJTxaUUEE/sQM61VRQYtMcTy6UlFBwh7ofZNbUUHwUo3KHlZRQQfJ9hmeXFFBB8n2GZ5cUUG7Jf4giFFRQfUS6BrtUVFBVbZHH+ZVUUEeZFSPnFVRQcIe6H2TW1FBAah9cLFSUUEeZFSPnFVRQZ61yz+HV1FBFTvoxY5TUUGqKCppL1NRQamMnCKNWlFBwh7ofZNbUUEVO+jFjlNRQTqWACU8WlFBtiBKHU5bUUF8WHl5fFNRQQfJ9hmeXFFBbxiQ0x5WUUG2IEodTltRQX83Aii5WVFBI8JNG75SUUGvOKR9U1RRQcIe6H2TW1FBQfYp1I9TUUF8WHl5fFNRQcIe6H2TW1FB\",\"dtype\":\"float64\",\"order\":\"little\",\"shape\":[69]},\"Lon\":{\"__ndarray__\":\"2Xg1bjH9acE0qLjTcP9pwWIIf/Ui/WnBhWDB/qz9acEnJMx7N/9pwdoRL7+I/2nBLuMMavgBasFhguugov9pwWYMEXIfAGrBzYeGOQb/acHLaPmTLv9pwTUFRT9r/2nB7DUzh3/+acFQEfkNIv9pwYVgwf6s/WnB2Xg1bjH9acHZeDVuMf1pwf1pccgSAGrBNQVFP2v/acFOyBkLjwBqwZGBGpcI/2nBkYEalwj/acF8DJaHi/tpwVVsW8jPAWrBBt4IIiP+acEu4wxq+AFqwR1EUwafAWrBU03OIvgBasFmDBFyHwBqwcIxFowLAGrB8Jta+RAAasHNh4Y5Bv9pwYTIrvq2AGrBU0Ux5qkAasFhguugov9pwSdRSlwtAGrBWQj8QB39acFeKdIkc/5pwTUFRT9r/2nBzYeGOQb/acFhguugov9pwbG993VQ/WnBsb33dVD9acFTRTHmqQBqwcto+ZMu/2nB11zUS5T/acEu4wxq+AFqwc2HhjkG/2nBV+K4q1gBasEu4wxq+AFqwXNXvGc2AGrBYgh/9SL9acF4d6v+KvxpwWYMEXIfAGrBzYeGOQb/acFiCH/1Iv1pwVkI/EAd/WnB2Xg1bjH9acEnUUpcLQBqwbG993VQ/WnBfJRbnaL/acHZeDVuMf1pwZbRs5Et/mnBhWDB/qz9acFSr2MYjQBqwc2HhjkG/2nB0aQ0VCsAasEnUUpcLQBqwW14C4/h/GnB\",\"dtype\":\"float64\",\"order\":\"little\",\"shape\":[69]},\"color\":{\"__ndarray__\":\"SZIkSZICpkCrqqqqqq+nQM3MzMzMHKJAAAAAAAA2rUCrqqqqqhWlQEmSJEmSAqZASZIkSZICpkAAAAAAAJWhQAAAAAAAUKNASZIkSZICpkCrqqqqqhWlQAAAAAAAgJ9AAAAAAIC4pUBJkiRJkgKmQKuqqqqqr6dASZIkSZICpkAAAAAAAFCjQAAAAAAA1ptAAAAAAACnpkDNzMzMzFKkQEmSJEmSAqZASZIkSZICpkAAAAAAAHKjQAAAAAAAIKdASZIkSZICpkAAAAAAADCpQEmSJEmSAqZASZIkSZICpkBJkiRJkgKmQFVVVVVV9qNAVVVVVVX2o0BJkiRJkgKmQEmSJEmSAqZAAAAAAACsqkAAAAAAAK+kQAAAAACA1qBAVVVVVVXPpEBVVVVVVfajQM3MzMzMyqhASZIkSZICpkBJkiRJkgKmQJqZmZmZXadAzczMzMwEpkAAAAAAAASjQAAAAACAZ6dASZIkSZICpkBJkiRJkgKmQEmSJEmSAqZASZIkSZICpkBVVVVVVfajQEmSJEmSAqZAzczMzMwcokBJkiRJkgKmQEmSJEmSAqZASZIkSZICpkAAAAAAAJCrQAAAAAAAZqBASZIkSZICpkAAAAAAAKemQEmSJEmSAqZASZIkSZICpkBVVVVVVfajQEmSJEmSAqZAAAAAAACSrEAAAAAAAKejQFVVVVVV9qNAAAAAAACVoUAAAAAAAO6uQFVVVVVV9qNA\",\"dtype\":\"float64\",\"order\":\"little\",\"shape\":[69]},\"gross_rent\":{\"__ndarray__\":\"SZIkSZICpkCrqqqqqq+nQM3MzMzMHKJAAAAAAAA2rUCrqqqqqhWlQEmSJEmSAqZASZIkSZICpkAAAAAAAJWhQAAAAAAAUKNASZIkSZICpkCrqqqqqhWlQAAAAAAAgJ9AAAAAAIC4pUBJkiRJkgKmQKuqqqqqr6dASZIkSZICpkAAAAAAAFCjQAAAAAAA1ptAAAAAAACnpkDNzMzMzFKkQEmSJEmSAqZASZIkSZICpkAAAAAAAHKjQAAAAAAAIKdASZIkSZICpkAAAAAAADCpQEmSJEmSAqZASZIkSZICpkBJkiRJkgKmQFVVVVVV9qNAVVVVVVX2o0BJkiRJkgKmQEmSJEmSAqZAAAAAAACsqkAAAAAAAK+kQAAAAACA1qBAVVVVVVXPpEBVVVVVVfajQM3MzMzMyqhASZIkSZICpkBJkiRJkgKmQJqZmZmZXadAzczMzMwEpkAAAAAAAASjQAAAAACAZ6dASZIkSZICpkBJkiRJkgKmQEmSJEmSAqZASZIkSZICpkBVVVVVVfajQEmSJEmSAqZAzczMzMwcokBJkiRJkgKmQEmSJEmSAqZASZIkSZICpkAAAAAAAJCrQAAAAAAAZqBASZIkSZICpkAAAAAAAKemQEmSJEmSAqZASZIkSZICpkBVVVVVVfajQEmSJEmSAqZAAAAAAACSrEAAAAAAAKejQFVVVVVV9qNAAAAAAACVoUAAAAAAAO6uQFVVVVVV9qNA\",\"dtype\":\"float64\",\"order\":\"little\",\"shape\":[69]},\"sale_price_sqr_foot\":{\"__ndarray__\":\"1Z2c1VTgdkD36Ht7HVZ3QOBopv/VkmlA+dPru1d2gkCcEE2z40p8QDWoOiXCpnhAM9h5wAF7ekD6E5UN63N+QOpZlAJQXIJAbgB3W7bPhEDHy60jEfByQHN+LyreL3tAfJEaJJZpf0DvdA5H/RGEQPmBqzxBTHhAewOC78x1eECmlhAgYX18QIG4BhF0HXRAhK/5Apx+g0CSzXYBJvuDQBa+pFi3GHxAR+EF3ew+dkDUowRY/1NlQPNgQVDEDHhAeTYcicfaeECyp3i3FTuAQA5CVk+CqXdAd8u3JK7aeUAta5/PEouAQC131AZFn3lAccYwJ6jjfUADQjlc59mAQK+zB4H+PYJAqETIL8KmiECOUH0xFTSBQLL76Zp8XohAYlBDp4mxgUC1T8djpi56QNJGv8e6W4BA/laU+EOjfECxot8Vi/OAQL3ShZpZunlA626e6lAkf0BxZznjjqF0QFVCwdbeS25A/W7HpG5QfkDeqPsngaN4QIoUFFByjIVA6xSex7lbd0AbozM4wwJ1QDs26HLsxYNAxpdgo9JxdEAF1wzhG7CEQKy48DvNGoVAoIz+oN0Hg0DO/6uOXEllQDzUAO/+UIRArVK74SvSgUA9hn3xi4KAQNLwhHgNJIVAZncqxmBWfUCrDBox8j+MQP72TiNnQnlAzSoieXXXckB2dX3V0Cd/QCFTdcb+OHNA9sHoqKGtgECyIUlas3iFQEg8/cStBYJA\",\"dtype\":\"float64\",\"order\":\"little\",\"shape\":[69]},\"size\":{\"__ndarray__\":\"FCaP+rQhM0BToFOwtlIzQPb2KIddmyxAmXl6HmVOOEDXOXsOu0Y1QCbN7ZMt3DNAOXbrH2yVNEAcE10J2RI2QB0t24w8PThAjYTUTmjOOUDAPu8oMmgxQG3KS6xA2zRADSarczFrNkCh1ClPtlc5QCeRpAOXtzNAGWdHJGvIM0AE9Talrlk1QN5z3sqe8DFA2+1vufz5OEBQW56JRkk5QGepER7VMzVA7f+aHL7dMkCnL/v/6x8qQC50U6vDnTNA9Q58DhfxM0DsVC6aP8o2QO/2orsedTNAdiPixbxWNEBsg1k/IwI3QJFglfxQPzRAHTlW6VHeNUCvk5wXtDg3QIPuzfwwKThA+fCsFh0WPEBpgY5YhHY3QG3mE+zS7DtAQkDQm3fLN0B/exRiqXc0QLi2T0sf4TZANYCAHNxnNUAD7ZfoV0o3QNsshFIBSjRAeBCiwmtSNkDXx4Y2KCsyQGKxLPTzIi9AFkDE4PgFNkDUnMP93dozQPiBFLNnQjpAq5mlMQlVM0DC6NhWw1UyQEPWB1mCJzlAYEk7LBcWMkCP24y3yLo5QIlWyt7M/DlAS+JFO3atOEBzNqmfZxkqQJxrFrJefzlAYyIvC1/hN0AW6F6ENPw2QEIq8VJ+AjpACNUNX2WqNUDw/PTfBBE+QBw51Bt+GjRAS8bjPt9cMUDwbnTQrFM2QLvG7WmWiTFAQH4e2B4aN0CLzRLsXDY6QJFDmeHIAzhA\",\"dtype\":\"float64\",\"order\":\"little\",\"shape\":[69]}},\"selected\":{\"id\":\"20402\"},\"selection_policy\":{\"id\":\"20419\"}},\"id\":\"20401\",\"type\":\"ColumnDataSource\"},{\"attributes\":{\"end\":4552573.750035822,\"min_interval\":5,\"reset_end\":4552573.750035822,\"reset_start\":4538787.829534142,\"start\":4538787.829534142,\"tags\":[[[\"Lat\",\"Lat\",null]]]},\"id\":\"20331\",\"type\":\"Range1d\"},{\"attributes\":{\"coordinates\":null,\"data_source\":{\"id\":\"20401\"},\"glyph\":{\"id\":\"20404\"},\"group\":null,\"hover_glyph\":{\"id\":\"20407\"},\"muted_glyph\":{\"id\":\"20408\"},\"nonselection_glyph\":{\"id\":\"20405\"},\"selection_glyph\":{\"id\":\"20406\"},\"view\":{\"id\":\"20410\"}},\"id\":\"20409\",\"type\":\"GlyphRenderer\"},{\"attributes\":{\"margin\":[5,5,5,5],\"name\":\"HSpacer59488\",\"sizing_mode\":\"stretch_width\"},\"id\":\"20478\",\"type\":\"Spacer\"},{\"attributes\":{},\"id\":\"20342\",\"type\":\"LinearScale\"},{\"attributes\":{\"fill_alpha\":{\"value\":0.2},\"fill_color\":{\"field\":\"color\",\"transform\":{\"id\":\"20400\"}},\"hatch_alpha\":{\"value\":0.2},\"hatch_color\":{\"field\":\"color\",\"transform\":{\"id\":\"20400\"}},\"line_alpha\":{\"value\":0.2},\"line_color\":{\"field\":\"color\",\"transform\":{\"id\":\"20400\"}},\"size\":{\"field\":\"size\"},\"x\":{\"field\":\"Lon\"},\"y\":{\"field\":\"Lat\"}},\"id\":\"20408\",\"type\":\"Scatter\"},{\"attributes\":{\"margin\":[5,5,5,5],\"name\":\"HSpacer59487\",\"sizing_mode\":\"stretch_width\"},\"id\":\"20325\",\"type\":\"Spacer\"},{\"attributes\":{\"end\":-13621212.948628824,\"min_interval\":5,\"reset_end\":-13621212.948628824,\"reset_start\":-13636674.602510858,\"start\":-13636674.602510858,\"tags\":[[[\"Lon\",\"Lon\",null]]]},\"id\":\"20330\",\"type\":\"Range1d\"},{\"attributes\":{\"source\":{\"id\":\"20401\"}},\"id\":\"20410\",\"type\":\"CDSView\"},{\"attributes\":{\"fill_color\":{\"field\":\"color\",\"transform\":{\"id\":\"20400\"}},\"hatch_color\":{\"field\":\"color\",\"transform\":{\"id\":\"20400\"}},\"line_color\":{\"field\":\"color\",\"transform\":{\"id\":\"20400\"}},\"size\":{\"field\":\"size\"},\"x\":{\"field\":\"Lon\"},\"y\":{\"field\":\"Lat\"}},\"id\":\"20407\",\"type\":\"Scatter\"},{\"attributes\":{\"code\":\"\\n        var projections = Bokeh.require(\\\"core/util/projections\\\");\\n        var x = special_vars.data_x\\n        var y = special_vars.data_y\\n        if (projections.wgs84_mercator.invert == null) {\\n          var coords = projections.wgs84_mercator.inverse([x, y])\\n        } else {\\n          var coords = projections.wgs84_mercator.invert(x, y)\\n        }\\n        return \\\"\\\" + (coords[0]).toFixed(4)\\n    \"},\"id\":\"20413\",\"type\":\"CustomJSHover\"},{\"attributes\":{\"dimension\":\"lon\"},\"id\":\"20370\",\"type\":\"MercatorTickFormatter\"},{\"attributes\":{\"tools\":[{\"id\":\"20334\"},{\"id\":\"20354\"},{\"id\":\"20355\"},{\"id\":\"20356\"},{\"id\":\"20357\"},{\"id\":\"20358\"}]},\"id\":\"20360\",\"type\":\"Toolbar\"},{\"attributes\":{},\"id\":\"20419\",\"type\":\"UnionRenderers\"},{\"attributes\":{},\"id\":\"20344\",\"type\":\"LinearScale\"},{\"attributes\":{\"coordinates\":null,\"group\":null,\"text\":\"Neighborhood data\",\"text_color\":\"black\",\"text_font_size\":\"12pt\"},\"id\":\"20338\",\"type\":\"Title\"},{\"attributes\":{},\"id\":\"20402\",\"type\":\"Selection\"},{\"attributes\":{\"axis_label\":\"x\",\"coordinates\":null,\"formatter\":{\"id\":\"20370\"},\"group\":null,\"major_label_policy\":{\"id\":\"20375\"},\"ticker\":{\"id\":\"20369\"}},\"id\":\"20346\",\"type\":\"LinearAxis\"},{\"attributes\":{\"below\":[{\"id\":\"20346\"}],\"center\":[{\"id\":\"20349\"},{\"id\":\"20353\"}],\"frame_height\":700,\"frame_width\":800,\"height\":null,\"left\":[{\"id\":\"20350\"}],\"margin\":[5,5,5,5],\"match_aspect\":true,\"min_border_bottom\":10,\"min_border_left\":10,\"min_border_right\":10,\"min_border_top\":10,\"renderers\":[{\"id\":\"20398\"},{\"id\":\"20409\"}],\"right\":[{\"id\":\"20412\"}],\"sizing_mode\":\"fixed\",\"title\":{\"id\":\"20338\"},\"toolbar\":{\"id\":\"20360\"},\"width\":null,\"x_range\":{\"id\":\"20330\"},\"x_scale\":{\"id\":\"20342\"},\"y_range\":{\"id\":\"20331\"},\"y_scale\":{\"id\":\"20344\"}},\"id\":\"20337\",\"subtype\":\"Figure\",\"type\":\"Plot\"}],\"root_ids\":[\"20324\"]},\"title\":\"Bokeh Application\",\"version\":\"2.4.1\"}};\n",
       "    var render_items = [{\"docid\":\"81ead7b2-f9d5-4494-9adc-b39b7a8cb330\",\"root_ids\":[\"20324\"],\"roots\":{\"20324\":\"f4904281-c4dc-47b8-b905-f8e08d8f7c62\"}}];\n",
       "    root.Bokeh.embed.embed_items_notebook(docs_json, render_items);\n",
       "  }\n",
       "  if (root.Bokeh !== undefined && root.Bokeh.Panel !== undefined) {\n",
       "    embed_document(root);\n",
       "  } else {\n",
       "    var attempts = 0;\n",
       "    var timer = setInterval(function(root) {\n",
       "      if (root.Bokeh !== undefined && root.Bokeh.Panel !== undefined) {\n",
       "        clearInterval(timer);\n",
       "        embed_document(root);\n",
       "      } else if (document.readyState == \"complete\") {\n",
       "        attempts++;\n",
       "        if (attempts > 200) {\n",
       "          clearInterval(timer);\n",
       "          console.log(\"Bokeh: ERROR: Unable to run BokehJS code because BokehJS library is missing\");\n",
       "        }\n",
       "      }\n",
       "    }, 25, root)\n",
       "  }\n",
       "})(window);</script>"
      ],
      "text/plain": [
       ":Overlay\n",
       "   .Tiles.I  :Tiles   [x,y]\n",
       "   .Points.I :Points   [Lon,Lat]   (gross_rent,sale_price_sqr_foot)"
      ]
     },
     "execution_count": 245,
     "metadata": {
      "application/vnd.holoviews_exec.v0+json": {
       "id": "20324"
      }
     },
     "output_type": "execute_result"
    }
   ],
   "source": [
    "# Create a plot to analyze neighborhood info\n",
    "\n",
    "# * Set the `size_max` parameter to “25”.\n",
    "\n",
    "   # * Set the `zoom` parameter to “11”.\n",
    "all_neighborhoods_df.hvplot.points(\n",
    "    'Lon',\n",
    "    'Lat',\n",
    "    geo=True,\n",
    "    size='sale_price_sqr_foot', \n",
    "    color='gross_rent',\n",
    "    tiles='OSM',\n",
    "    frame_width=800,\n",
    "    frame_height=700\n",
    "    ).opts(title=\"Neighborhood data\")\n",
    "\n"
   ]
  },
  {
   "cell_type": "markdown",
   "metadata": {},
   "source": [
    "### Step 5: Use the interactive map to answer the following question:"
   ]
  },
  {
   "cell_type": "markdown",
   "metadata": {},
   "source": [
    "**Question:** Which neighborhood has the highest gross rent, and which has the highest sale price per square foot?\n",
    "\n",
    "**Answer:** Miraloma Park and Bayview Hights have seems to be doing better than others with both rental and sales"
   ]
  },
  {
   "cell_type": "markdown",
   "metadata": {},
   "source": [
    "## Compose Your Data Story\n",
    "\n",
    "Based on the visualizations that you have created, compose a data story that synthesizes your analysis by answering the following questions:"
   ]
  },
  {
   "cell_type": "markdown",
   "metadata": {},
   "source": [
    "**Question:**  How does the trend in rental income growth compare to the trend in sales prices? Does this same trend hold true for all the neighborhoods across San Francisco?\n",
    "\n",
    "**Answer:** sales prices grew faster than the rental prices. The rental prices went down in some neighborhoods"
   ]
  },
  {
   "cell_type": "markdown",
   "metadata": {},
   "source": [
    "**Question:** What insights can you share with your company about the potential one-click, buy-and-rent strategy that they're pursuing? Do neighborhoods exist that you would suggest for investment, and why?\n",
    "\n",
    "**Answer:** Miraloma Park and Alamos Square"
   ]
  },
  {
   "cell_type": "code",
   "execution_count": 279,
   "metadata": {},
   "outputs": [
    {
     "data": {},
     "metadata": {},
     "output_type": "display_data"
    },
    {
     "data": {
      "application/vnd.holoviews_exec.v0+json": "",
      "text/html": [
       "<div id='22388'>\n",
       "\n",
       "\n",
       "\n",
       "\n",
       "\n",
       "  <div class=\"bk-root\" id=\"b5846e70-9469-48f2-bd1d-f42669293966\" data-root-id=\"22388\"></div>\n",
       "</div>\n",
       "<script type=\"application/javascript\">(function(root) {\n",
       "  function embed_document(root) {\n",
       "    var docs_json = {\"3e88eef8-91e0-4a01-bbd1-97fb1113b0f8\":{\"defs\":[{\"extends\":null,\"module\":null,\"name\":\"ReactiveHTML1\",\"overrides\":[],\"properties\":[]},{\"extends\":null,\"module\":null,\"name\":\"FlexBox1\",\"overrides\":[],\"properties\":[{\"default\":\"flex-start\",\"kind\":null,\"name\":\"align_content\"},{\"default\":\"flex-start\",\"kind\":null,\"name\":\"align_items\"},{\"default\":\"row\",\"kind\":null,\"name\":\"flex_direction\"},{\"default\":\"wrap\",\"kind\":null,\"name\":\"flex_wrap\"},{\"default\":\"flex-start\",\"kind\":null,\"name\":\"justify_content\"}]},{\"extends\":null,\"module\":null,\"name\":\"GridStack1\",\"overrides\":[],\"properties\":[{\"default\":\"warn\",\"kind\":null,\"name\":\"mode\"},{\"default\":null,\"kind\":null,\"name\":\"ncols\"},{\"default\":null,\"kind\":null,\"name\":\"nrows\"},{\"default\":true,\"kind\":null,\"name\":\"allow_resize\"},{\"default\":true,\"kind\":null,\"name\":\"allow_drag\"},{\"default\":[],\"kind\":null,\"name\":\"state\"}]},{\"extends\":null,\"module\":null,\"name\":\"click1\",\"overrides\":[],\"properties\":[{\"default\":\"\",\"kind\":null,\"name\":\"terminal_output\"},{\"default\":\"\",\"kind\":null,\"name\":\"debug_name\"},{\"default\":0,\"kind\":null,\"name\":\"clears\"}]},{\"extends\":null,\"module\":null,\"name\":\"TemplateActions1\",\"overrides\":[],\"properties\":[{\"default\":0,\"kind\":null,\"name\":\"open_modal\"},{\"default\":0,\"kind\":null,\"name\":\"close_modal\"}]},{\"extends\":null,\"module\":null,\"name\":\"MaterialTemplateActions1\",\"overrides\":[],\"properties\":[{\"default\":0,\"kind\":null,\"name\":\"open_modal\"},{\"default\":0,\"kind\":null,\"name\":\"close_modal\"}]}],\"roots\":{\"references\":[{\"attributes\":{},\"id\":\"22398\",\"type\":\"CategoricalScale\"},{\"attributes\":{\"callback\":null,\"renderers\":[{\"id\":\"22429\"}],\"tags\":[\"hv_created\"],\"tooltips\":[[\"neighborhood\",\"@{neighborhood}\"],[\"gross_rent\",\"@{gross_rent}\"]]},\"id\":\"22392\",\"type\":\"HoverTool\"},{\"attributes\":{\"fill_color\":{\"value\":\"blue\"},\"hatch_color\":{\"value\":\"blue\"},\"top\":{\"field\":\"gross_rent\"},\"width\":{\"value\":0.8},\"x\":{\"field\":\"neighborhood\"}},\"id\":\"22425\",\"type\":\"VBar\"},{\"attributes\":{\"tools\":[{\"id\":\"22392\"},{\"id\":\"22409\"},{\"id\":\"22410\"},{\"id\":\"22411\"},{\"id\":\"22412\"},{\"id\":\"22413\"}]},\"id\":\"22415\",\"type\":\"Toolbar\"},{\"attributes\":{},\"id\":\"22435\",\"type\":\"AllLabels\"},{\"attributes\":{\"coordinates\":null,\"group\":null,\"text\":\"Total Average rent\",\"text_color\":\"black\",\"text_font_size\":\"12pt\"},\"id\":\"22394\",\"type\":\"Title\"},{\"attributes\":{\"overlay\":{\"id\":\"22414\"}},\"id\":\"22412\",\"type\":\"BoxZoomTool\"},{\"attributes\":{},\"id\":\"22438\",\"type\":\"AllLabels\"},{\"attributes\":{},\"id\":\"22409\",\"type\":\"SaveTool\"},{\"attributes\":{\"children\":[{\"id\":\"22389\"},{\"id\":\"22393\"},{\"id\":\"22459\"}],\"margin\":[0,0,0,0],\"name\":\"Row65812\",\"tags\":[\"embedded\"]},\"id\":\"22388\",\"type\":\"Row\"},{\"attributes\":{\"axis\":{\"id\":\"22405\"},\"coordinates\":null,\"dimension\":1,\"grid_line_color\":null,\"group\":null,\"ticker\":null},\"id\":\"22408\",\"type\":\"Grid\"},{\"attributes\":{\"factors\":[\"Alamo Square\",\"Anza Vista\",\"Bayview\",\"Bayview Heights\",\"Bernal Heights \",\"Buena Vista Park\",\"Central Richmond\",\"Central Sunset\",\"Clarendon Heights\",\"Corona Heights\",\"Cow Hollow\",\"Croker Amazon\",\"Diamond Heights\",\"Downtown \",\"Duboce Triangle\",\"Eureka Valley/Dolores Heights\",\"Excelsior\",\"Financial District North\",\"Financial District South\",\"Forest Knolls\",\"Glen Park\",\"Golden Gate Heights\",\"Haight Ashbury\",\"Hayes Valley\",\"Hunters Point\",\"Ingleside \",\"Ingleside Heights\",\"Inner Mission\",\"Inner Parkside\",\"Inner Richmond\",\"Inner Sunset\",\"Jordan Park/Laurel Heights\",\"Lake --The Presidio\",\"Lone Mountain\",\"Lower Pacific Heights\",\"Marina\",\"Merced Heights\",\"Midtown Terrace\",\"Miraloma Park\",\"Mission Bay\",\"Mission Dolores\",\"Mission Terrace\",\"Nob Hill\",\"Noe Valley\",\"North Beach\",\"North Waterfront\",\"Oceanview\",\"Outer Mission\",\"Outer Parkside\",\"Outer Richmond \",\"Outer Sunset\",\"Pacific Heights\",\"Park North\",\"Parkside\",\"Parnassus/Ashbury Heights\",\"Portola\",\"Potrero Hill\",\"Presidio Heights\",\"Russian Hill\",\"Silver Terrace\",\"South Beach\",\"South of Market\",\"Sunnyside\",\"Telegraph Hill\",\"Twin Peaks\",\"Union Square District\",\"Van Ness/ Civic Center\",\"Visitacion Valley\",\"West Portal\",\"Western Addition\",\"Westwood Highlands\",\"Westwood Park\",\"Yerba Buena\"],\"tags\":[[[\"neighborhood\",\"neighborhood\",null]]]},\"id\":\"22390\",\"type\":\"FactorRange\"},{\"attributes\":{},\"id\":\"22410\",\"type\":\"PanTool\"},{\"attributes\":{},\"id\":\"22400\",\"type\":\"LinearScale\"},{\"attributes\":{},\"id\":\"22406\",\"type\":\"BasicTicker\"},{\"attributes\":{\"fill_color\":{\"value\":\"yellow\"},\"hatch_color\":{\"value\":\"yellow\"},\"line_color\":{\"value\":\"yellow\"},\"top\":{\"field\":\"gross_rent\"},\"width\":{\"value\":0.8},\"x\":{\"field\":\"neighborhood\"}},\"id\":\"22427\",\"type\":\"VBar\"},{\"attributes\":{\"axis\":{\"id\":\"22402\"},\"coordinates\":null,\"grid_line_color\":null,\"group\":null,\"ticker\":null},\"id\":\"22404\",\"type\":\"Grid\"},{\"attributes\":{\"fill_alpha\":{\"value\":0.2},\"fill_color\":{\"value\":\"blue\"},\"hatch_alpha\":{\"value\":0.2},\"hatch_color\":{\"value\":\"blue\"},\"line_alpha\":{\"value\":0.2},\"top\":{\"field\":\"gross_rent\"},\"width\":{\"value\":0.8},\"x\":{\"field\":\"neighborhood\"}},\"id\":\"22428\",\"type\":\"VBar\"},{\"attributes\":{\"margin\":[5,5,5,5],\"name\":\"HSpacer65816\",\"sizing_mode\":\"stretch_width\"},\"id\":\"22389\",\"type\":\"Spacer\"},{\"attributes\":{\"format\":\"%.0f\"},\"id\":\"22432\",\"type\":\"PrintfTickFormatter\"},{\"attributes\":{\"below\":[{\"id\":\"22402\"}],\"center\":[{\"id\":\"22404\"},{\"id\":\"22408\"}],\"height\":300,\"left\":[{\"id\":\"22405\"}],\"margin\":[5,5,5,5],\"min_border_bottom\":10,\"min_border_left\":10,\"min_border_right\":10,\"min_border_top\":10,\"renderers\":[{\"id\":\"22429\"}],\"sizing_mode\":\"fixed\",\"title\":{\"id\":\"22394\"},\"toolbar\":{\"id\":\"22415\"},\"width\":700,\"x_range\":{\"id\":\"22390\"},\"x_scale\":{\"id\":\"22398\"},\"y_range\":{\"id\":\"22391\"},\"y_scale\":{\"id\":\"22400\"}},\"id\":\"22393\",\"subtype\":\"Figure\",\"type\":\"Plot\"},{\"attributes\":{\"data\":{\"gross_rent\":[19721,18191,11592,3739,18482,16193,19721,19721,4501,12360,19721,16193,8064,19721,11121,19721,18191,19721,12360,3563,17397,13007,19721,19721,4978,10036,5920,19721,12896,19721,19721,19721,15331,15331,19721,19721,10242,5295,8621,15982,15331,15867,19721,19721,14954,14092,7302,11983,19721,19721,19721,19721,19721,15331,19721,11592,19721,19721,19721,3528,6297,19721,17397,19721,19721,15331,19721,14628,10062,15331,4501,7918,15331],\"neighborhood\":[\"Alamo Square\",\"Anza Vista\",\"Bayview\",\"Bayview Heights\",\"Bernal Heights \",\"Buena Vista Park\",\"Central Richmond\",\"Central Sunset\",\"Clarendon Heights\",\"Corona Heights\",\"Cow Hollow\",\"Croker Amazon\",\"Diamond Heights\",\"Downtown \",\"Duboce Triangle\",\"Eureka Valley/Dolores Heights\",\"Excelsior\",\"Financial District North\",\"Financial District South\",\"Forest Knolls\",\"Glen Park\",\"Golden Gate Heights\",\"Haight Ashbury\",\"Hayes Valley\",\"Hunters Point\",\"Ingleside \",\"Ingleside Heights\",\"Inner Mission\",\"Inner Parkside\",\"Inner Richmond\",\"Inner Sunset\",\"Jordan Park/Laurel Heights\",\"Lake --The Presidio\",\"Lone Mountain\",\"Lower Pacific Heights\",\"Marina\",\"Merced Heights\",\"Midtown Terrace\",\"Miraloma Park\",\"Mission Bay\",\"Mission Dolores\",\"Mission Terrace\",\"Nob Hill\",\"Noe Valley\",\"North Beach\",\"North Waterfront\",\"Oceanview\",\"Outer Mission\",\"Outer Parkside\",\"Outer Richmond \",\"Outer Sunset\",\"Pacific Heights\",\"Park North\",\"Parkside\",\"Parnassus/Ashbury Heights\",\"Portola\",\"Potrero Hill\",\"Presidio Heights\",\"Russian Hill\",\"Silver Terrace\",\"South Beach\",\"South of Market\",\"Sunnyside\",\"Telegraph Hill\",\"Twin Peaks\",\"Union Square District\",\"Van Ness/ Civic Center\",\"Visitacion Valley\",\"West Portal\",\"Western Addition\",\"Westwood Highlands\",\"Westwood Park\",\"Yerba Buena\"]},\"selected\":{\"id\":\"22423\"},\"selection_policy\":{\"id\":\"22447\"}},\"id\":\"22422\",\"type\":\"ColumnDataSource\"},{\"attributes\":{\"bottom\":{\"value\":0},\"fill_alpha\":{\"value\":1.0},\"fill_color\":{\"value\":\"blue\"},\"hatch_alpha\":{\"value\":1.0},\"hatch_color\":{\"value\":\"blue\"},\"hatch_scale\":{\"value\":12.0},\"hatch_weight\":{\"value\":1.0},\"line_alpha\":{\"value\":1.0},\"line_cap\":{\"value\":\"butt\"},\"line_color\":{\"value\":\"black\"},\"line_dash\":{\"value\":[]},\"line_dash_offset\":{\"value\":0},\"line_join\":{\"value\":\"bevel\"},\"line_width\":{\"value\":1},\"top\":{\"field\":\"gross_rent\"},\"width\":{\"value\":0.8},\"x\":{\"field\":\"neighborhood\"}},\"id\":\"22431\",\"type\":\"VBar\"},{\"attributes\":{\"margin\":[5,5,5,5],\"name\":\"HSpacer65817\",\"sizing_mode\":\"stretch_width\"},\"id\":\"22459\",\"type\":\"Spacer\"},{\"attributes\":{\"end\":21340.3,\"reset_end\":21340.3,\"reset_start\":0.0,\"tags\":[[[\"gross_rent\",\"gross_rent\",null]]]},\"id\":\"22391\",\"type\":\"Range1d\"},{\"attributes\":{\"bottom_units\":\"screen\",\"coordinates\":null,\"fill_alpha\":0.5,\"fill_color\":\"lightgrey\",\"group\":null,\"left_units\":\"screen\",\"level\":\"overlay\",\"line_alpha\":1.0,\"line_color\":\"black\",\"line_dash\":[4,4],\"line_width\":2,\"right_units\":\"screen\",\"syncable\":false,\"top_units\":\"screen\"},\"id\":\"22414\",\"type\":\"BoxAnnotation\"},{\"attributes\":{},\"id\":\"22423\",\"type\":\"Selection\"},{\"attributes\":{},\"id\":\"22403\",\"type\":\"CategoricalTicker\"},{\"attributes\":{},\"id\":\"22434\",\"type\":\"CategoricalTickFormatter\"},{\"attributes\":{\"fill_alpha\":{\"value\":0.1},\"fill_color\":{\"value\":\"blue\"},\"hatch_alpha\":{\"value\":0.1},\"hatch_color\":{\"value\":\"blue\"},\"line_alpha\":{\"value\":0.1},\"top\":{\"field\":\"gross_rent\"},\"width\":{\"value\":0.8},\"x\":{\"field\":\"neighborhood\"}},\"id\":\"22426\",\"type\":\"VBar\"},{\"attributes\":{},\"id\":\"22411\",\"type\":\"WheelZoomTool\"},{\"attributes\":{},\"id\":\"22447\",\"type\":\"UnionRenderers\"},{\"attributes\":{\"coordinates\":null,\"data_source\":{\"id\":\"22422\"},\"glyph\":{\"id\":\"22425\"},\"group\":null,\"hover_glyph\":{\"id\":\"22427\"},\"muted_glyph\":{\"id\":\"22428\"},\"nonselection_glyph\":{\"id\":\"22426\"},\"selection_glyph\":{\"id\":\"22431\"},\"view\":{\"id\":\"22430\"}},\"id\":\"22429\",\"type\":\"GlyphRenderer\"},{\"attributes\":{\"axis_label\":\"amount\",\"coordinates\":null,\"formatter\":{\"id\":\"22432\"},\"group\":null,\"major_label_policy\":{\"id\":\"22438\"},\"ticker\":{\"id\":\"22406\"}},\"id\":\"22405\",\"type\":\"LinearAxis\"},{\"attributes\":{\"source\":{\"id\":\"22422\"}},\"id\":\"22430\",\"type\":\"CDSView\"},{\"attributes\":{\"axis_label\":\"neighborhood\",\"coordinates\":null,\"formatter\":{\"id\":\"22434\"},\"group\":null,\"major_label_orientation\":1.5707963267948966,\"major_label_policy\":{\"id\":\"22435\"},\"ticker\":{\"id\":\"22403\"}},\"id\":\"22402\",\"type\":\"CategoricalAxis\"},{\"attributes\":{},\"id\":\"22413\",\"type\":\"ResetTool\"}],\"root_ids\":[\"22388\"]},\"title\":\"Bokeh Application\",\"version\":\"2.4.1\"}};\n",
       "    var render_items = [{\"docid\":\"3e88eef8-91e0-4a01-bbd1-97fb1113b0f8\",\"root_ids\":[\"22388\"],\"roots\":{\"22388\":\"b5846e70-9469-48f2-bd1d-f42669293966\"}}];\n",
       "    root.Bokeh.embed.embed_items_notebook(docs_json, render_items);\n",
       "  }\n",
       "  if (root.Bokeh !== undefined && root.Bokeh.Panel !== undefined) {\n",
       "    embed_document(root);\n",
       "  } else {\n",
       "    var attempts = 0;\n",
       "    var timer = setInterval(function(root) {\n",
       "      if (root.Bokeh !== undefined && root.Bokeh.Panel !== undefined) {\n",
       "        clearInterval(timer);\n",
       "        embed_document(root);\n",
       "      } else if (document.readyState == \"complete\") {\n",
       "        attempts++;\n",
       "        if (attempts > 200) {\n",
       "          clearInterval(timer);\n",
       "          console.log(\"Bokeh: ERROR: Unable to run BokehJS code because BokehJS library is missing\");\n",
       "        }\n",
       "      }\n",
       "    }, 25, root)\n",
       "  }\n",
       "})(window);</script>"
      ],
      "text/plain": [
       ":Bars   [neighborhood]   (gross_rent)"
      ]
     },
     "execution_count": 279,
     "metadata": {
      "application/vnd.holoviews_exec.v0+json": {
       "id": "22388"
      }
     },
     "output_type": "execute_result"
    }
   ],
   "source": [
    "total_average_rent=sfo_data_df.filter(['year','neighborhood','gross_rent'], axis=1)\n",
    "#total_average_rent = all_neighborhoods_df['gross_rent']\n",
    "total_average_rent_sorted = total_average_rent.groupby(['neighborhood']).sum()\n",
    "\n",
    "# Create the plot for the `total_average_loan_amount_sorted`\n",
    "total_average_rent_sorted = total_average_rent_sorted.hvplot.bar(\n",
    "    title ='Total Average rent',\n",
    "    color=\"blue\",\n",
    "    hover_color = 'yellow',\n",
    "    xlabel='neighborhood',\n",
    "    ylabel='amount',\n",
    "    rot=90\n",
    ").opts(yformatter='%.0f')\n",
    "\n",
    "total_average_rent_sorted"
   ]
  },
  {
   "cell_type": "code",
   "execution_count": 273,
   "metadata": {},
   "outputs": [
    {
     "data": {},
     "metadata": {},
     "output_type": "display_data"
    },
    {
     "data": {
      "application/vnd.holoviews_exec.v0+json": "",
      "text/html": [
       "<div id='21461'>\n",
       "\n",
       "\n",
       "\n",
       "\n",
       "\n",
       "  <div class=\"bk-root\" id=\"f58d6790-6ffa-4961-be6f-0a3a96bb2e88\" data-root-id=\"21461\"></div>\n",
       "</div>\n",
       "<script type=\"application/javascript\">(function(root) {\n",
       "  function embed_document(root) {\n",
       "    var docs_json = {\"a12a94e0-2d1e-42b7-ae8b-eada448a1ef2\":{\"defs\":[{\"extends\":null,\"module\":null,\"name\":\"ReactiveHTML1\",\"overrides\":[],\"properties\":[]},{\"extends\":null,\"module\":null,\"name\":\"FlexBox1\",\"overrides\":[],\"properties\":[{\"default\":\"flex-start\",\"kind\":null,\"name\":\"align_content\"},{\"default\":\"flex-start\",\"kind\":null,\"name\":\"align_items\"},{\"default\":\"row\",\"kind\":null,\"name\":\"flex_direction\"},{\"default\":\"wrap\",\"kind\":null,\"name\":\"flex_wrap\"},{\"default\":\"flex-start\",\"kind\":null,\"name\":\"justify_content\"}]},{\"extends\":null,\"module\":null,\"name\":\"GridStack1\",\"overrides\":[],\"properties\":[{\"default\":\"warn\",\"kind\":null,\"name\":\"mode\"},{\"default\":null,\"kind\":null,\"name\":\"ncols\"},{\"default\":null,\"kind\":null,\"name\":\"nrows\"},{\"default\":true,\"kind\":null,\"name\":\"allow_resize\"},{\"default\":true,\"kind\":null,\"name\":\"allow_drag\"},{\"default\":[],\"kind\":null,\"name\":\"state\"}]},{\"extends\":null,\"module\":null,\"name\":\"click1\",\"overrides\":[],\"properties\":[{\"default\":\"\",\"kind\":null,\"name\":\"terminal_output\"},{\"default\":\"\",\"kind\":null,\"name\":\"debug_name\"},{\"default\":0,\"kind\":null,\"name\":\"clears\"}]},{\"extends\":null,\"module\":null,\"name\":\"TemplateActions1\",\"overrides\":[],\"properties\":[{\"default\":0,\"kind\":null,\"name\":\"open_modal\"},{\"default\":0,\"kind\":null,\"name\":\"close_modal\"}]},{\"extends\":null,\"module\":null,\"name\":\"MaterialTemplateActions1\",\"overrides\":[],\"properties\":[{\"default\":0,\"kind\":null,\"name\":\"open_modal\"},{\"default\":0,\"kind\":null,\"name\":\"close_modal\"}]}],\"roots\":{\"references\":[{\"attributes\":{},\"id\":\"21483\",\"type\":\"PanTool\"},{\"attributes\":{\"axis_label\":\"neighborhood\",\"coordinates\":null,\"formatter\":{\"id\":\"21507\"},\"group\":null,\"major_label_orientation\":1.5707963267948966,\"major_label_policy\":{\"id\":\"21508\"},\"ticker\":{\"id\":\"21476\"}},\"id\":\"21475\",\"type\":\"CategoricalAxis\"},{\"attributes\":{},\"id\":\"21482\",\"type\":\"SaveTool\"},{\"attributes\":{},\"id\":\"21507\",\"type\":\"CategoricalTickFormatter\"},{\"attributes\":{\"data\":{\"neighborhood\":[\"Alamo Square\",\"Anza Vista\",\"Bayview\",\"Bayview Heights\",\"Bernal Heights \",\"Buena Vista Park\",\"Central Richmond\",\"Central Sunset\",\"Clarendon Heights\",\"Corona Heights\",\"Cow Hollow\",\"Croker Amazon\",\"Diamond Heights\",\"Downtown \",\"Duboce Triangle\",\"Eureka Valley/Dolores Heights\",\"Excelsior\",\"Financial District North\",\"Financial District South\",\"Forest Knolls\",\"Glen Park\",\"Golden Gate Heights\",\"Haight Ashbury\",\"Hayes Valley\",\"Hunters Point\",\"Ingleside \",\"Ingleside Heights\",\"Inner Mission\",\"Inner Parkside\",\"Inner Richmond\",\"Inner Sunset\",\"Jordan Park/Laurel Heights\",\"Lake --The Presidio\",\"Lone Mountain\",\"Lower Pacific Heights\",\"Marina\",\"Merced Heights\",\"Midtown Terrace\",\"Miraloma Park\",\"Mission Bay\",\"Mission Dolores\",\"Mission Terrace\",\"Nob Hill\",\"Noe Valley\",\"North Beach\",\"North Waterfront\",\"Oceanview\",\"Outer Mission\",\"Outer Parkside\",\"Outer Richmond \",\"Outer Sunset\",\"Pacific Heights\",\"Park North\",\"Parkside\",\"Parnassus/Ashbury Heights\",\"Portola\",\"Potrero Hill\",\"Presidio Heights\",\"Russian Hill\",\"Silver Terrace\",\"South Beach\",\"South of Market\",\"Sunnyside\",\"Telegraph Hill\",\"Twin Peaks\",\"Union Square District\",\"Van Ness/ Civic Center\",\"Visitacion Valley\",\"West Portal\",\"Western Addition\",\"Westwood Highlands\",\"Westwood Park\",\"Yerba Buena\"],\"sale_price_sqr_foot\":{\"__ndarray__\":\"GgrpOkoEpEC57pwcloChQBgDkH+L949A+dPru1d2gkA7fyQ29QirQHXMecYqOKVALlOT4OmRpUAtnWqIoSunQPoTlQ3rc45AZHA5A2TzpkBgIAiQvzWyQKuxhLUZaJxAc34vKt4vm0CIwVfPFGilQHyRGiSWaZ9AUaYsnr2PsUB7oYDtMDmiQJyCobNZWKJAKF4KtFzOoUCBuAYRdB2EQEaHdgTqPa1A9oDUge/5qEBTJpBtoJWoQB4lZUEPd6NA1KMEWP9TZUBV9ZeCUv6WQPNgQVDEDIhAqq/4l26/pUCyp3i3FTugQMx5awVStKRACNIgYFifpkCP+1brYPOsQGJZH8VzN6NA1ZRkHb5qpkCGM2ThVH2tQHJ6zWF97K9AfjPWoxF9okCOUH0xFTSRQLL76Zp8XqhAeiQUEewdpkDIe9XK/KKjQIcYr3mpcqRAHsyBedsOqUC2XEdmM6qtQLajkwB4FKBAUwWjkrJ2o0AqG9ZUVvKOQFVCwdbeS45AHYEu0GCGqkCGziFfnOqpQMIz/AIRj6VA+ZERBuTaskBOUqqOQnCkQOKLQAZ0Q5pAdC+L5C5NsUC3vThMR46ZQCQ862QYGrJAAhXp2TOor0AMu97s4aawQM7/q45cSWVAWj6BZn55nkCv0AfLzC+vQFxJPOrRw6hAuFJ0yYt/skB5KGWtlKupQICJ06T1L7VAHhjlPhoapkDNKiJ5ddeSQHZ1fdXQJ59AsvyvKX7VnED2weiooa2QQLIhSVqzeJVAbNp7p4QIq0A=\",\"dtype\":\"float64\",\"order\":\"little\",\"shape\":[73]}},\"selected\":{\"id\":\"21496\"},\"selection_policy\":{\"id\":\"21520\"}},\"id\":\"21495\",\"type\":\"ColumnDataSource\"},{\"attributes\":{},\"id\":\"21520\",\"type\":\"UnionRenderers\"},{\"attributes\":{},\"id\":\"21473\",\"type\":\"LinearScale\"},{\"attributes\":{},\"id\":\"21511\",\"type\":\"AllLabels\"},{\"attributes\":{\"source\":{\"id\":\"21495\"}},\"id\":\"21503\",\"type\":\"CDSView\"},{\"attributes\":{\"fill_alpha\":{\"value\":0.1},\"fill_color\":{\"value\":\"red\"},\"hatch_alpha\":{\"value\":0.1},\"hatch_color\":{\"value\":\"red\"},\"line_alpha\":{\"value\":0.1},\"top\":{\"field\":\"sale_price_sqr_foot\"},\"width\":{\"value\":0.8},\"x\":{\"field\":\"neighborhood\"}},\"id\":\"21499\",\"type\":\"VBar\"},{\"attributes\":{\"coordinates\":null,\"data_source\":{\"id\":\"21495\"},\"glyph\":{\"id\":\"21498\"},\"group\":null,\"hover_glyph\":{\"id\":\"21500\"},\"muted_glyph\":{\"id\":\"21501\"},\"nonselection_glyph\":{\"id\":\"21499\"},\"selection_glyph\":{\"id\":\"21504\"},\"view\":{\"id\":\"21503\"}},\"id\":\"21502\",\"type\":\"GlyphRenderer\"},{\"attributes\":{\"format\":\"%.0f\"},\"id\":\"21505\",\"type\":\"PrintfTickFormatter\"},{\"attributes\":{\"axis\":{\"id\":\"21475\"},\"coordinates\":null,\"grid_line_color\":null,\"group\":null,\"ticker\":null},\"id\":\"21477\",\"type\":\"Grid\"},{\"attributes\":{\"bottom_units\":\"screen\",\"coordinates\":null,\"fill_alpha\":0.5,\"fill_color\":\"lightgrey\",\"group\":null,\"left_units\":\"screen\",\"level\":\"overlay\",\"line_alpha\":1.0,\"line_color\":\"black\",\"line_dash\":[4,4],\"line_width\":2,\"right_units\":\"screen\",\"syncable\":false,\"top_units\":\"screen\"},\"id\":\"21487\",\"type\":\"BoxAnnotation\"},{\"attributes\":{\"margin\":[5,5,5,5],\"name\":\"HSpacer63817\",\"sizing_mode\":\"stretch_width\"},\"id\":\"21462\",\"type\":\"Spacer\"},{\"attributes\":{\"below\":[{\"id\":\"21475\"}],\"center\":[{\"id\":\"21477\"},{\"id\":\"21481\"}],\"height\":300,\"left\":[{\"id\":\"21478\"}],\"margin\":[5,5,5,5],\"min_border_bottom\":10,\"min_border_left\":10,\"min_border_right\":10,\"min_border_top\":10,\"renderers\":[{\"id\":\"21502\"}],\"sizing_mode\":\"fixed\",\"title\":{\"id\":\"21467\"},\"toolbar\":{\"id\":\"21488\"},\"width\":700,\"x_range\":{\"id\":\"21463\"},\"x_scale\":{\"id\":\"21471\"},\"y_range\":{\"id\":\"21464\"},\"y_scale\":{\"id\":\"21473\"}},\"id\":\"21466\",\"subtype\":\"Figure\",\"type\":\"Plot\"},{\"attributes\":{\"callback\":null,\"renderers\":[{\"id\":\"21502\"}],\"tags\":[\"hv_created\"],\"tooltips\":[[\"neighborhood\",\"@{neighborhood}\"],[\"sale_price_sqr_foot\",\"@{sale_price_sqr_foot}\"]]},\"id\":\"21465\",\"type\":\"HoverTool\"},{\"attributes\":{},\"id\":\"21479\",\"type\":\"BasicTicker\"},{\"attributes\":{\"axis\":{\"id\":\"21478\"},\"coordinates\":null,\"dimension\":1,\"grid_line_color\":null,\"group\":null,\"ticker\":null},\"id\":\"21481\",\"type\":\"Grid\"},{\"attributes\":{\"fill_color\":{\"value\":\"red\"},\"hatch_color\":{\"value\":\"red\"},\"top\":{\"field\":\"sale_price_sqr_foot\"},\"width\":{\"value\":0.8},\"x\":{\"field\":\"neighborhood\"}},\"id\":\"21498\",\"type\":\"VBar\"},{\"attributes\":{},\"id\":\"21486\",\"type\":\"ResetTool\"},{\"attributes\":{\"bottom\":{\"value\":0},\"fill_alpha\":{\"value\":1.0},\"fill_color\":{\"value\":\"red\"},\"hatch_alpha\":{\"value\":1.0},\"hatch_color\":{\"value\":\"red\"},\"hatch_scale\":{\"value\":12.0},\"hatch_weight\":{\"value\":1.0},\"line_alpha\":{\"value\":1.0},\"line_cap\":{\"value\":\"butt\"},\"line_color\":{\"value\":\"black\"},\"line_dash\":{\"value\":[]},\"line_dash_offset\":{\"value\":0},\"line_join\":{\"value\":\"bevel\"},\"line_width\":{\"value\":1},\"top\":{\"field\":\"sale_price_sqr_foot\"},\"width\":{\"value\":0.8},\"x\":{\"field\":\"neighborhood\"}},\"id\":\"21504\",\"type\":\"VBar\"},{\"attributes\":{},\"id\":\"21476\",\"type\":\"CategoricalTicker\"},{\"attributes\":{},\"id\":\"21471\",\"type\":\"CategoricalScale\"},{\"attributes\":{\"end\":5949.326246080001,\"reset_end\":5949.326246080001,\"reset_start\":0.0,\"tags\":[[[\"sale_price_sqr_foot\",\"sale_price_sqr_foot\",null]]]},\"id\":\"21464\",\"type\":\"Range1d\"},{\"attributes\":{\"fill_color\":{\"value\":\"yellow\"},\"hatch_color\":{\"value\":\"yellow\"},\"line_color\":{\"value\":\"yellow\"},\"top\":{\"field\":\"sale_price_sqr_foot\"},\"width\":{\"value\":0.8},\"x\":{\"field\":\"neighborhood\"}},\"id\":\"21500\",\"type\":\"VBar\"},{\"attributes\":{},\"id\":\"21508\",\"type\":\"AllLabels\"},{\"attributes\":{\"children\":[{\"id\":\"21462\"},{\"id\":\"21466\"},{\"id\":\"21532\"}],\"margin\":[0,0,0,0],\"name\":\"Row63813\",\"tags\":[\"embedded\"]},\"id\":\"21461\",\"type\":\"Row\"},{\"attributes\":{},\"id\":\"21484\",\"type\":\"WheelZoomTool\"},{\"attributes\":{\"axis_label\":\"amount\",\"coordinates\":null,\"formatter\":{\"id\":\"21505\"},\"group\":null,\"major_label_policy\":{\"id\":\"21511\"},\"ticker\":{\"id\":\"21479\"}},\"id\":\"21478\",\"type\":\"LinearAxis\"},{\"attributes\":{\"margin\":[5,5,5,5],\"name\":\"HSpacer63818\",\"sizing_mode\":\"stretch_width\"},\"id\":\"21532\",\"type\":\"Spacer\"},{\"attributes\":{\"tools\":[{\"id\":\"21465\"},{\"id\":\"21482\"},{\"id\":\"21483\"},{\"id\":\"21484\"},{\"id\":\"21485\"},{\"id\":\"21486\"}]},\"id\":\"21488\",\"type\":\"Toolbar\"},{\"attributes\":{\"fill_alpha\":{\"value\":0.2},\"fill_color\":{\"value\":\"red\"},\"hatch_alpha\":{\"value\":0.2},\"hatch_color\":{\"value\":\"red\"},\"line_alpha\":{\"value\":0.2},\"top\":{\"field\":\"sale_price_sqr_foot\"},\"width\":{\"value\":0.8},\"x\":{\"field\":\"neighborhood\"}},\"id\":\"21501\",\"type\":\"VBar\"},{\"attributes\":{\"overlay\":{\"id\":\"21487\"}},\"id\":\"21485\",\"type\":\"BoxZoomTool\"},{\"attributes\":{\"factors\":[\"Alamo Square\",\"Anza Vista\",\"Bayview\",\"Bayview Heights\",\"Bernal Heights \",\"Buena Vista Park\",\"Central Richmond\",\"Central Sunset\",\"Clarendon Heights\",\"Corona Heights\",\"Cow Hollow\",\"Croker Amazon\",\"Diamond Heights\",\"Downtown \",\"Duboce Triangle\",\"Eureka Valley/Dolores Heights\",\"Excelsior\",\"Financial District North\",\"Financial District South\",\"Forest Knolls\",\"Glen Park\",\"Golden Gate Heights\",\"Haight Ashbury\",\"Hayes Valley\",\"Hunters Point\",\"Ingleside \",\"Ingleside Heights\",\"Inner Mission\",\"Inner Parkside\",\"Inner Richmond\",\"Inner Sunset\",\"Jordan Park/Laurel Heights\",\"Lake --The Presidio\",\"Lone Mountain\",\"Lower Pacific Heights\",\"Marina\",\"Merced Heights\",\"Midtown Terrace\",\"Miraloma Park\",\"Mission Bay\",\"Mission Dolores\",\"Mission Terrace\",\"Nob Hill\",\"Noe Valley\",\"North Beach\",\"North Waterfront\",\"Oceanview\",\"Outer Mission\",\"Outer Parkside\",\"Outer Richmond \",\"Outer Sunset\",\"Pacific Heights\",\"Park North\",\"Parkside\",\"Parnassus/Ashbury Heights\",\"Portola\",\"Potrero Hill\",\"Presidio Heights\",\"Russian Hill\",\"Silver Terrace\",\"South Beach\",\"South of Market\",\"Sunnyside\",\"Telegraph Hill\",\"Twin Peaks\",\"Union Square District\",\"Van Ness/ Civic Center\",\"Visitacion Valley\",\"West Portal\",\"Western Addition\",\"Westwood Highlands\",\"Westwood Park\",\"Yerba Buena\"],\"tags\":[[[\"neighborhood\",\"neighborhood\",null]]]},\"id\":\"21463\",\"type\":\"FactorRange\"},{\"attributes\":{},\"id\":\"21496\",\"type\":\"Selection\"},{\"attributes\":{\"coordinates\":null,\"group\":null,\"text\":\"Total Average sales\",\"text_color\":\"black\",\"text_font_size\":\"12pt\"},\"id\":\"21467\",\"type\":\"Title\"}],\"root_ids\":[\"21461\"]},\"title\":\"Bokeh Application\",\"version\":\"2.4.1\"}};\n",
       "    var render_items = [{\"docid\":\"a12a94e0-2d1e-42b7-ae8b-eada448a1ef2\",\"root_ids\":[\"21461\"],\"roots\":{\"21461\":\"f58d6790-6ffa-4961-be6f-0a3a96bb2e88\"}}];\n",
       "    root.Bokeh.embed.embed_items_notebook(docs_json, render_items);\n",
       "  }\n",
       "  if (root.Bokeh !== undefined && root.Bokeh.Panel !== undefined) {\n",
       "    embed_document(root);\n",
       "  } else {\n",
       "    var attempts = 0;\n",
       "    var timer = setInterval(function(root) {\n",
       "      if (root.Bokeh !== undefined && root.Bokeh.Panel !== undefined) {\n",
       "        clearInterval(timer);\n",
       "        embed_document(root);\n",
       "      } else if (document.readyState == \"complete\") {\n",
       "        attempts++;\n",
       "        if (attempts > 200) {\n",
       "          clearInterval(timer);\n",
       "          console.log(\"Bokeh: ERROR: Unable to run BokehJS code because BokehJS library is missing\");\n",
       "        }\n",
       "      }\n",
       "    }, 25, root)\n",
       "  }\n",
       "})(window);</script>"
      ],
      "text/plain": [
       ":Bars   [neighborhood]   (sale_price_sqr_foot)"
      ]
     },
     "execution_count": 273,
     "metadata": {
      "application/vnd.holoviews_exec.v0+json": {
       "id": "21461"
      }
     },
     "output_type": "execute_result"
    }
   ],
   "source": [
    "\n",
    "total_average_sales=sfo_data_df.filter(['year','neighborhood','sale_price_sqr_foot'], axis=1)\n",
    "#total_average_sales = all_neighborhoods_df['gross_sales']\n",
    "total_average_sales_sorted = total_average_sales.groupby(['neighborhood']).sum()\n",
    "\n",
    "# Create the plot for the `total_average_loan_amount_sorted`\n",
    "total_average_sales_sorted = total_average_sales_sorted.hvplot.bar(\n",
    "    title ='Total Average sales',\n",
    "    color=\"red\",\n",
    "    hover_color = 'yellow',\n",
    "    xlabel='neighborhood',\n",
    "    ylabel='amount',\n",
    "    rot=90\n",
    ").opts(yformatter='%.0f')\n",
    "\n",
    "total_average_sales_sorted"
   ]
  },
  {
   "cell_type": "code",
   "execution_count": 280,
   "metadata": {},
   "outputs": [
    {
     "data": {},
     "metadata": {},
     "output_type": "display_data"
    },
    {
     "data": {
      "application/vnd.holoviews_exec.v0+json": "",
      "text/html": [
       "<div id='22506'>\n",
       "\n",
       "\n",
       "\n",
       "\n",
       "\n",
       "  <div class=\"bk-root\" id=\"5829542f-e574-4307-adb1-7dc44a67a44f\" data-root-id=\"22506\"></div>\n",
       "</div>\n",
       "<script type=\"application/javascript\">(function(root) {\n",
       "  function embed_document(root) {\n",
       "    var docs_json = {\"f68a326a-9b3c-4968-b49f-885d0a53a8a0\":{\"defs\":[{\"extends\":null,\"module\":null,\"name\":\"ReactiveHTML1\",\"overrides\":[],\"properties\":[]},{\"extends\":null,\"module\":null,\"name\":\"FlexBox1\",\"overrides\":[],\"properties\":[{\"default\":\"flex-start\",\"kind\":null,\"name\":\"align_content\"},{\"default\":\"flex-start\",\"kind\":null,\"name\":\"align_items\"},{\"default\":\"row\",\"kind\":null,\"name\":\"flex_direction\"},{\"default\":\"wrap\",\"kind\":null,\"name\":\"flex_wrap\"},{\"default\":\"flex-start\",\"kind\":null,\"name\":\"justify_content\"}]},{\"extends\":null,\"module\":null,\"name\":\"GridStack1\",\"overrides\":[],\"properties\":[{\"default\":\"warn\",\"kind\":null,\"name\":\"mode\"},{\"default\":null,\"kind\":null,\"name\":\"ncols\"},{\"default\":null,\"kind\":null,\"name\":\"nrows\"},{\"default\":true,\"kind\":null,\"name\":\"allow_resize\"},{\"default\":true,\"kind\":null,\"name\":\"allow_drag\"},{\"default\":[],\"kind\":null,\"name\":\"state\"}]},{\"extends\":null,\"module\":null,\"name\":\"click1\",\"overrides\":[],\"properties\":[{\"default\":\"\",\"kind\":null,\"name\":\"terminal_output\"},{\"default\":\"\",\"kind\":null,\"name\":\"debug_name\"},{\"default\":0,\"kind\":null,\"name\":\"clears\"}]},{\"extends\":null,\"module\":null,\"name\":\"TemplateActions1\",\"overrides\":[],\"properties\":[{\"default\":0,\"kind\":null,\"name\":\"open_modal\"},{\"default\":0,\"kind\":null,\"name\":\"close_modal\"}]},{\"extends\":null,\"module\":null,\"name\":\"MaterialTemplateActions1\",\"overrides\":[],\"properties\":[{\"default\":0,\"kind\":null,\"name\":\"open_modal\"},{\"default\":0,\"kind\":null,\"name\":\"close_modal\"}]}],\"roots\":{\"references\":[{\"attributes\":{\"bottom\":{\"value\":0},\"fill_alpha\":{\"value\":1.0},\"fill_color\":{\"value\":\"red\"},\"hatch_alpha\":{\"value\":1.0},\"hatch_color\":{\"value\":\"red\"},\"hatch_scale\":{\"value\":12.0},\"hatch_weight\":{\"value\":1.0},\"line_alpha\":{\"value\":1.0},\"line_cap\":{\"value\":\"butt\"},\"line_color\":{\"value\":\"black\"},\"line_dash\":{\"value\":[]},\"line_dash_offset\":{\"value\":0},\"line_join\":{\"value\":\"bevel\"},\"line_width\":{\"value\":1},\"top\":{\"field\":\"sale_price_sqr_foot\"},\"width\":{\"value\":0.8},\"x\":{\"field\":\"neighborhood\"}},\"id\":\"22576\",\"type\":\"VBar\"},{\"attributes\":{},\"id\":\"22523\",\"type\":\"LinearScale\"},{\"attributes\":{\"end\":21676.07074515,\"reset_end\":21676.07074515,\"reset_start\":0.0,\"tags\":[[[\"gross_rent\",\"gross_rent\",null]]]},\"id\":\"22511\",\"type\":\"Range1d\"},{\"attributes\":{\"source\":{\"id\":\"22557\"}},\"id\":\"22565\",\"type\":\"CDSView\"},{\"attributes\":{},\"id\":\"22533\",\"type\":\"PanTool\"},{\"attributes\":{\"factors\":[\"Alamo Square\",\"Anza Vista\",\"Bayview\",\"Bayview Heights\",\"Bernal Heights \",\"Buena Vista Park\",\"Central Richmond\",\"Central Sunset\",\"Clarendon Heights\",\"Corona Heights\",\"Cow Hollow\",\"Croker Amazon\",\"Diamond Heights\",\"Downtown \",\"Duboce Triangle\",\"Eureka Valley/Dolores Heights\",\"Excelsior\",\"Financial District North\",\"Financial District South\",\"Forest Knolls\",\"Glen Park\",\"Golden Gate Heights\",\"Haight Ashbury\",\"Hayes Valley\",\"Hunters Point\",\"Ingleside \",\"Ingleside Heights\",\"Inner Mission\",\"Inner Parkside\",\"Inner Richmond\",\"Inner Sunset\",\"Jordan Park/Laurel Heights\",\"Lake --The Presidio\",\"Lone Mountain\",\"Lower Pacific Heights\",\"Marina\",\"Merced Heights\",\"Midtown Terrace\",\"Miraloma Park\",\"Mission Bay\",\"Mission Dolores\",\"Mission Terrace\",\"Nob Hill\",\"Noe Valley\",\"North Beach\",\"North Waterfront\",\"Oceanview\",\"Outer Mission\",\"Outer Parkside\",\"Outer Richmond \",\"Outer Sunset\",\"Pacific Heights\",\"Park North\",\"Parkside\",\"Parnassus/Ashbury Heights\",\"Portola\",\"Potrero Hill\",\"Presidio Heights\",\"Russian Hill\",\"Silver Terrace\",\"South Beach\",\"South of Market\",\"Sunnyside\",\"Telegraph Hill\",\"Twin Peaks\",\"Union Square District\",\"Van Ness/ Civic Center\",\"Visitacion Valley\",\"West Portal\",\"Western Addition\",\"Westwood Highlands\",\"Westwood Park\",\"Yerba Buena\"],\"tags\":[[[\"neighborhood\",\"neighborhood\",null]]]},\"id\":\"22510\",\"type\":\"FactorRange\"},{\"attributes\":{},\"id\":\"22532\",\"type\":\"SaveTool\"},{\"attributes\":{\"bottom_units\":\"screen\",\"coordinates\":null,\"fill_alpha\":0.5,\"fill_color\":\"lightgrey\",\"group\":null,\"left_units\":\"screen\",\"level\":\"overlay\",\"line_alpha\":1.0,\"line_color\":\"black\",\"line_dash\":[4,4],\"line_width\":2,\"right_units\":\"screen\",\"syncable\":false,\"top_units\":\"screen\"},\"id\":\"22537\",\"type\":\"BoxAnnotation\"},{\"attributes\":{\"coordinates\":null,\"group\":null,\"text\":\"Comparison of Rents and Sale Price per SQ FT\",\"text_color\":\"black\",\"text_font_size\":\"12pt\"},\"id\":\"22517\",\"type\":\"Title\"},{\"attributes\":{\"axis\":{\"id\":\"22528\"},\"coordinates\":null,\"dimension\":1,\"grid_line_color\":null,\"group\":null,\"ticker\":null},\"id\":\"22531\",\"type\":\"Grid\"},{\"attributes\":{\"bottom\":{\"value\":0},\"fill_alpha\":{\"value\":1.0},\"fill_color\":{\"value\":\"blue\"},\"hatch_alpha\":{\"value\":1.0},\"hatch_color\":{\"value\":\"blue\"},\"hatch_scale\":{\"value\":12.0},\"hatch_weight\":{\"value\":1.0},\"line_alpha\":{\"value\":1.0},\"line_cap\":{\"value\":\"butt\"},\"line_color\":{\"value\":\"black\"},\"line_dash\":{\"value\":[]},\"line_dash_offset\":{\"value\":0},\"line_join\":{\"value\":\"bevel\"},\"line_width\":{\"value\":1},\"top\":{\"field\":\"gross_rent\"},\"width\":{\"value\":0.8},\"x\":{\"field\":\"neighborhood\"}},\"id\":\"22566\",\"type\":\"VBar\"},{\"attributes\":{\"fill_color\":{\"value\":\"yellow\"},\"hatch_color\":{\"value\":\"yellow\"},\"line_color\":{\"value\":\"yellow\"},\"top\":{\"field\":\"sale_price_sqr_foot\"},\"width\":{\"value\":0.8},\"x\":{\"field\":\"neighborhood\"}},\"id\":\"22572\",\"type\":\"VBar\"},{\"attributes\":{\"axis\":{\"id\":\"22525\"},\"coordinates\":null,\"grid_line_color\":null,\"group\":null,\"ticker\":null},\"id\":\"22527\",\"type\":\"Grid\"},{\"attributes\":{\"margin\":[5,5,5,5],\"name\":\"HSpacer66002\",\"sizing_mode\":\"stretch_width\"},\"id\":\"22507\",\"type\":\"Spacer\"},{\"attributes\":{\"axis_label\":\"neighborhood\",\"coordinates\":null,\"formatter\":{\"id\":\"22550\"},\"group\":null,\"major_label_orientation\":1.5707963267948966,\"major_label_policy\":{\"id\":\"22551\"},\"ticker\":{\"id\":\"22526\"}},\"id\":\"22525\",\"type\":\"CategoricalAxis\"},{\"attributes\":{\"callback\":null,\"renderers\":[{\"id\":\"22564\"}],\"tags\":[\"hv_created\"],\"tooltips\":[[\"neighborhood\",\"@{neighborhood}\"],[\"gross_rent\",\"@{gross_rent}\"]]},\"id\":\"22512\",\"type\":\"HoverTool\"},{\"attributes\":{\"fill_color\":{\"value\":\"red\"},\"hatch_color\":{\"value\":\"red\"},\"top\":{\"field\":\"sale_price_sqr_foot\"},\"width\":{\"value\":0.8},\"x\":{\"field\":\"neighborhood\"}},\"id\":\"22570\",\"type\":\"VBar\"},{\"attributes\":{\"margin\":[5,5,5,5],\"name\":\"HSpacer66003\",\"sizing_mode\":\"stretch_width\"},\"id\":\"22676\",\"type\":\"Spacer\"},{\"attributes\":{\"format\":\"%.0f\"},\"id\":\"22548\",\"type\":\"PrintfTickFormatter\"},{\"attributes\":{\"tools\":[{\"id\":\"22512\"},{\"id\":\"22513\"},{\"id\":\"22532\"},{\"id\":\"22533\"},{\"id\":\"22534\"},{\"id\":\"22535\"},{\"id\":\"22536\"}]},\"id\":\"22538\",\"type\":\"Toolbar\"},{\"attributes\":{\"fill_alpha\":{\"value\":0.2},\"fill_color\":{\"value\":\"red\"},\"hatch_alpha\":{\"value\":0.2},\"hatch_color\":{\"value\":\"red\"},\"line_alpha\":{\"value\":0.2},\"top\":{\"field\":\"sale_price_sqr_foot\"},\"width\":{\"value\":0.8},\"x\":{\"field\":\"neighborhood\"}},\"id\":\"22573\",\"type\":\"VBar\"},{\"attributes\":{},\"id\":\"22554\",\"type\":\"AllLabels\"},{\"attributes\":{},\"id\":\"22585\",\"type\":\"UnionRenderers\"},{\"attributes\":{\"below\":[{\"id\":\"22525\"}],\"center\":[{\"id\":\"22527\"},{\"id\":\"22531\"}],\"height\":700,\"left\":[{\"id\":\"22528\"}],\"margin\":[5,5,5,5],\"min_border_bottom\":10,\"min_border_left\":10,\"min_border_right\":10,\"min_border_top\":10,\"renderers\":[{\"id\":\"22564\"},{\"id\":\"22574\"}],\"sizing_mode\":\"fixed\",\"title\":{\"id\":\"22517\"},\"toolbar\":{\"id\":\"22538\"},\"width\":1000,\"x_range\":{\"id\":\"22510\"},\"x_scale\":{\"id\":\"22521\"},\"y_range\":{\"id\":\"22511\"},\"y_scale\":{\"id\":\"22523\"}},\"id\":\"22516\",\"subtype\":\"Figure\",\"type\":\"Plot\"},{\"attributes\":{},\"id\":\"22551\",\"type\":\"AllLabels\"},{\"attributes\":{},\"id\":\"22568\",\"type\":\"Selection\"},{\"attributes\":{\"coordinates\":null,\"data_source\":{\"id\":\"22567\"},\"glyph\":{\"id\":\"22570\"},\"group\":null,\"hover_glyph\":{\"id\":\"22572\"},\"muted_glyph\":{\"id\":\"22573\"},\"nonselection_glyph\":{\"id\":\"22571\"},\"selection_glyph\":{\"id\":\"22576\"},\"view\":{\"id\":\"22575\"}},\"id\":\"22574\",\"type\":\"GlyphRenderer\"},{\"attributes\":{\"data\":{\"neighborhood\":[\"Alamo Square\",\"Anza Vista\",\"Bayview\",\"Bayview Heights\",\"Bernal Heights \",\"Buena Vista Park\",\"Central Richmond\",\"Central Sunset\",\"Clarendon Heights\",\"Corona Heights\",\"Cow Hollow\",\"Croker Amazon\",\"Diamond Heights\",\"Downtown \",\"Duboce Triangle\",\"Eureka Valley/Dolores Heights\",\"Excelsior\",\"Financial District North\",\"Financial District South\",\"Forest Knolls\",\"Glen Park\",\"Golden Gate Heights\",\"Haight Ashbury\",\"Hayes Valley\",\"Hunters Point\",\"Ingleside \",\"Ingleside Heights\",\"Inner Mission\",\"Inner Parkside\",\"Inner Richmond\",\"Inner Sunset\",\"Jordan Park/Laurel Heights\",\"Lake --The Presidio\",\"Lone Mountain\",\"Lower Pacific Heights\",\"Marina\",\"Merced Heights\",\"Midtown Terrace\",\"Miraloma Park\",\"Mission Bay\",\"Mission Dolores\",\"Mission Terrace\",\"Nob Hill\",\"Noe Valley\",\"North Beach\",\"North Waterfront\",\"Oceanview\",\"Outer Mission\",\"Outer Parkside\",\"Outer Richmond \",\"Outer Sunset\",\"Pacific Heights\",\"Park North\",\"Parkside\",\"Parnassus/Ashbury Heights\",\"Portola\",\"Potrero Hill\",\"Presidio Heights\",\"Russian Hill\",\"Silver Terrace\",\"South Beach\",\"South of Market\",\"Sunnyside\",\"Telegraph Hill\",\"Twin Peaks\",\"Union Square District\",\"Van Ness/ Civic Center\",\"Visitacion Valley\",\"West Portal\",\"Western Addition\",\"Westwood Highlands\",\"Westwood Park\",\"Yerba Buena\"],\"sale_price_sqr_foot\":{\"__ndarray__\":\"GgrpOkoEpEC57pwcloChQBgDkH+L949A+dPru1d2gkA7fyQ29QirQHXMecYqOKVALlOT4OmRpUAtnWqIoSunQPoTlQ3rc45AZHA5A2TzpkBgIAiQvzWyQKuxhLUZaJxAc34vKt4vm0CIwVfPFGilQHyRGiSWaZ9AUaYsnr2PsUB7oYDtMDmiQJyCobNZWKJAKF4KtFzOoUCBuAYRdB2EQEaHdgTqPa1A9oDUge/5qEBTJpBtoJWoQB4lZUEPd6NA1KMEWP9TZUBV9ZeCUv6WQPNgQVDEDIhAqq/4l26/pUCyp3i3FTugQMx5awVStKRACNIgYFifpkCP+1brYPOsQGJZH8VzN6NA1ZRkHb5qpkCGM2ThVH2tQHJ6zWF97K9AfjPWoxF9okCOUH0xFTSRQLL76Zp8XqhAeiQUEewdpkDIe9XK/KKjQIcYr3mpcqRAHsyBedsOqUC2XEdmM6qtQLajkwB4FKBAUwWjkrJ2o0AqG9ZUVvKOQFVCwdbeS45AHYEu0GCGqkCGziFfnOqpQMIz/AIRj6VA+ZERBuTaskBOUqqOQnCkQOKLQAZ0Q5pAdC+L5C5NsUC3vThMR46ZQCQ862QYGrJAAhXp2TOor0AMu97s4aawQM7/q45cSWVAWj6BZn55nkCv0AfLzC+vQFxJPOrRw6hAuFJ0yYt/skB5KGWtlKupQICJ06T1L7VAHhjlPhoapkDNKiJ5ddeSQHZ1fdXQJ59AsvyvKX7VnED2weiooa2QQLIhSVqzeJVAbNp7p4QIq0A=\",\"dtype\":\"float64\",\"order\":\"little\",\"shape\":[73]}},\"selected\":{\"id\":\"22568\"},\"selection_policy\":{\"id\":\"22585\"}},\"id\":\"22567\",\"type\":\"ColumnDataSource\"},{\"attributes\":{\"overlay\":{\"id\":\"22537\"}},\"id\":\"22535\",\"type\":\"BoxZoomTool\"},{\"attributes\":{\"data\":{\"gross_rent\":[19721,18191,11592,3739,18482,16193,19721,19721,4501,12360,19721,16193,8064,19721,11121,19721,18191,19721,12360,3563,17397,13007,19721,19721,4978,10036,5920,19721,12896,19721,19721,19721,15331,15331,19721,19721,10242,5295,8621,15982,15331,15867,19721,19721,14954,14092,7302,11983,19721,19721,19721,19721,19721,15331,19721,11592,19721,19721,19721,3528,6297,19721,17397,19721,19721,15331,19721,14628,10062,15331,4501,7918,15331],\"neighborhood\":[\"Alamo Square\",\"Anza Vista\",\"Bayview\",\"Bayview Heights\",\"Bernal Heights \",\"Buena Vista Park\",\"Central Richmond\",\"Central Sunset\",\"Clarendon Heights\",\"Corona Heights\",\"Cow Hollow\",\"Croker Amazon\",\"Diamond Heights\",\"Downtown \",\"Duboce Triangle\",\"Eureka Valley/Dolores Heights\",\"Excelsior\",\"Financial District North\",\"Financial District South\",\"Forest Knolls\",\"Glen Park\",\"Golden Gate Heights\",\"Haight Ashbury\",\"Hayes Valley\",\"Hunters Point\",\"Ingleside \",\"Ingleside Heights\",\"Inner Mission\",\"Inner Parkside\",\"Inner Richmond\",\"Inner Sunset\",\"Jordan Park/Laurel Heights\",\"Lake --The Presidio\",\"Lone Mountain\",\"Lower Pacific Heights\",\"Marina\",\"Merced Heights\",\"Midtown Terrace\",\"Miraloma Park\",\"Mission Bay\",\"Mission Dolores\",\"Mission Terrace\",\"Nob Hill\",\"Noe Valley\",\"North Beach\",\"North Waterfront\",\"Oceanview\",\"Outer Mission\",\"Outer Parkside\",\"Outer Richmond \",\"Outer Sunset\",\"Pacific Heights\",\"Park North\",\"Parkside\",\"Parnassus/Ashbury Heights\",\"Portola\",\"Potrero Hill\",\"Presidio Heights\",\"Russian Hill\",\"Silver Terrace\",\"South Beach\",\"South of Market\",\"Sunnyside\",\"Telegraph Hill\",\"Twin Peaks\",\"Union Square District\",\"Van Ness/ Civic Center\",\"Visitacion Valley\",\"West Portal\",\"Western Addition\",\"Westwood Highlands\",\"Westwood Park\",\"Yerba Buena\"]},\"selected\":{\"id\":\"22558\"},\"selection_policy\":{\"id\":\"22583\"}},\"id\":\"22557\",\"type\":\"ColumnDataSource\"},{\"attributes\":{\"axis_label\":\"amount\",\"coordinates\":null,\"formatter\":{\"id\":\"22548\"},\"group\":null,\"major_label_policy\":{\"id\":\"22554\"},\"ticker\":{\"id\":\"22529\"}},\"id\":\"22528\",\"type\":\"LinearAxis\"},{\"attributes\":{},\"id\":\"22534\",\"type\":\"WheelZoomTool\"},{\"attributes\":{\"fill_alpha\":{\"value\":0.1},\"fill_color\":{\"value\":\"blue\"},\"hatch_alpha\":{\"value\":0.1},\"hatch_color\":{\"value\":\"blue\"},\"line_alpha\":{\"value\":0.1},\"top\":{\"field\":\"gross_rent\"},\"width\":{\"value\":0.8},\"x\":{\"field\":\"neighborhood\"}},\"id\":\"22561\",\"type\":\"VBar\"},{\"attributes\":{\"fill_color\":{\"value\":\"blue\"},\"hatch_color\":{\"value\":\"blue\"},\"top\":{\"field\":\"gross_rent\"},\"width\":{\"value\":0.8},\"x\":{\"field\":\"neighborhood\"}},\"id\":\"22560\",\"type\":\"VBar\"},{\"attributes\":{},\"id\":\"22529\",\"type\":\"BasicTicker\"},{\"attributes\":{\"source\":{\"id\":\"22567\"}},\"id\":\"22575\",\"type\":\"CDSView\"},{\"attributes\":{},\"id\":\"22536\",\"type\":\"ResetTool\"},{\"attributes\":{},\"id\":\"22550\",\"type\":\"CategoricalTickFormatter\"},{\"attributes\":{},\"id\":\"22583\",\"type\":\"UnionRenderers\"},{\"attributes\":{\"fill_alpha\":{\"value\":0.2},\"fill_color\":{\"value\":\"blue\"},\"hatch_alpha\":{\"value\":0.2},\"hatch_color\":{\"value\":\"blue\"},\"line_alpha\":{\"value\":0.2},\"top\":{\"field\":\"gross_rent\"},\"width\":{\"value\":0.8},\"x\":{\"field\":\"neighborhood\"}},\"id\":\"22563\",\"type\":\"VBar\"},{\"attributes\":{\"children\":[{\"id\":\"22507\"},{\"id\":\"22516\"},{\"id\":\"22676\"}],\"margin\":[0,0,0,0],\"name\":\"Row65998\",\"tags\":[\"embedded\"]},\"id\":\"22506\",\"type\":\"Row\"},{\"attributes\":{\"callback\":null,\"renderers\":[{\"id\":\"22574\"}],\"tags\":[\"hv_created\"],\"tooltips\":[[\"neighborhood\",\"@{neighborhood}\"],[\"sale_price_sqr_foot\",\"@{sale_price_sqr_foot}\"]]},\"id\":\"22513\",\"type\":\"HoverTool\"},{\"attributes\":{},\"id\":\"22521\",\"type\":\"CategoricalScale\"},{\"attributes\":{\"fill_alpha\":{\"value\":0.1},\"fill_color\":{\"value\":\"red\"},\"hatch_alpha\":{\"value\":0.1},\"hatch_color\":{\"value\":\"red\"},\"line_alpha\":{\"value\":0.1},\"top\":{\"field\":\"sale_price_sqr_foot\"},\"width\":{\"value\":0.8},\"x\":{\"field\":\"neighborhood\"}},\"id\":\"22571\",\"type\":\"VBar\"},{\"attributes\":{},\"id\":\"22526\",\"type\":\"CategoricalTicker\"},{\"attributes\":{},\"id\":\"22558\",\"type\":\"Selection\"},{\"attributes\":{\"fill_color\":{\"value\":\"yellow\"},\"hatch_color\":{\"value\":\"yellow\"},\"line_color\":{\"value\":\"yellow\"},\"top\":{\"field\":\"gross_rent\"},\"width\":{\"value\":0.8},\"x\":{\"field\":\"neighborhood\"}},\"id\":\"22562\",\"type\":\"VBar\"},{\"attributes\":{\"coordinates\":null,\"data_source\":{\"id\":\"22557\"},\"glyph\":{\"id\":\"22560\"},\"group\":null,\"hover_glyph\":{\"id\":\"22562\"},\"muted_glyph\":{\"id\":\"22563\"},\"nonselection_glyph\":{\"id\":\"22561\"},\"selection_glyph\":{\"id\":\"22566\"},\"view\":{\"id\":\"22565\"}},\"id\":\"22564\",\"type\":\"GlyphRenderer\"}],\"root_ids\":[\"22506\"]},\"title\":\"Bokeh Application\",\"version\":\"2.4.1\"}};\n",
       "    var render_items = [{\"docid\":\"f68a326a-9b3c-4968-b49f-885d0a53a8a0\",\"root_ids\":[\"22506\"],\"roots\":{\"22506\":\"5829542f-e574-4307-adb1-7dc44a67a44f\"}}];\n",
       "    root.Bokeh.embed.embed_items_notebook(docs_json, render_items);\n",
       "  }\n",
       "  if (root.Bokeh !== undefined && root.Bokeh.Panel !== undefined) {\n",
       "    embed_document(root);\n",
       "  } else {\n",
       "    var attempts = 0;\n",
       "    var timer = setInterval(function(root) {\n",
       "      if (root.Bokeh !== undefined && root.Bokeh.Panel !== undefined) {\n",
       "        clearInterval(timer);\n",
       "        embed_document(root);\n",
       "      } else if (document.readyState == \"complete\") {\n",
       "        attempts++;\n",
       "        if (attempts > 200) {\n",
       "          clearInterval(timer);\n",
       "          console.log(\"Bokeh: ERROR: Unable to run BokehJS code because BokehJS library is missing\");\n",
       "        }\n",
       "      }\n",
       "    }, 25, root)\n",
       "  }\n",
       "})(window);</script>"
      ],
      "text/plain": [
       ":Overlay\n",
       "   .Bars.I  :Bars   [neighborhood]   (gross_rent)\n",
       "   .Bars.II :Bars   [neighborhood]   (sale_price_sqr_foot)"
      ]
     },
     "execution_count": 280,
     "metadata": {
      "application/vnd.holoviews_exec.v0+json": {
       "id": "22506"
      }
     },
     "output_type": "execute_result"
    }
   ],
   "source": [
    "overlay_plot=total_average_rent_sorted*total_average_sales_sorted\n",
    "overlay_plot.opts(\n",
    "    height= 700,\n",
    "    width=1000,\n",
    "   \n",
    "    title =\"Comparison of Rents and Sale Price per SQ FT \"\n",
    ")"
   ]
  },
  {
   "cell_type": "code",
   "execution_count": null,
   "metadata": {},
   "outputs": [],
   "source": []
  }
 ],
 "metadata": {
  "file_extension": ".py",
  "interpreter": {
   "hash": "72a8a747b34353ab0e70a96e7773f5653a4854e5edebdc0aca118cd2c6cc2a54"
  },
  "kernelspec": {
   "display_name": "Python 3.7.11 ('atmdev')",
   "language": "python",
   "name": "python3"
  },
  "language_info": {
   "codemirror_mode": {
    "name": "ipython",
    "version": 3
   },
   "file_extension": ".py",
   "mimetype": "text/x-python",
   "name": "python",
   "nbconvert_exporter": "python",
   "pygments_lexer": "ipython3",
   "version": "3.7.11"
  },
  "mimetype": "text/x-python",
  "name": "python",
  "npconvert_exporter": "python",
  "pygments_lexer": "ipython3",
  "version": 3
 },
 "nbformat": 4,
 "nbformat_minor": 4
}
